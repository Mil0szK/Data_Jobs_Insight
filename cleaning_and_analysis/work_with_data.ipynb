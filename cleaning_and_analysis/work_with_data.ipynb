{
 "cells": [
  {
   "cell_type": "code",
   "execution_count": 1,
   "id": "initial_id",
   "metadata": {
    "collapsed": true,
    "ExecuteTime": {
     "end_time": "2025-03-30T12:17:56.806521Z",
     "start_time": "2025-03-30T12:17:56.370731Z"
    }
   },
   "outputs": [],
   "source": [
    "import pandas as pd\n",
    "import os\n",
    "from dotenv import load_dotenv\n",
    "from sqlalchemy import create_engine, text\n",
    "from json import loads\n",
    "from requests import get\n",
    "import re\n",
    "from langdetect import detect"
   ]
  },
  {
   "cell_type": "code",
   "outputs": [],
   "source": [
    "# connect to the database\n",
    "\n",
    "dotenv_path = os.path.join(\"..\", \"scraping\", \".env\")\n",
    "load_dotenv(dotenv_path)\n",
    "DATABASE_URL = f\"postgresql://{os.getenv('DB_USER')}:{os.getenv('DB_PASSWORD')}@{os.getenv('DB_HOST')}:{os.getenv('DB_PORT')}/{os.getenv('DB_NAME')}\"\n",
    "\n",
    "engine = create_engine(DATABASE_URL)\n",
    "\n",
    "query = \"SELECT * FROM job_postings WHERE description IS NOT NULL;\"\n",
    "original_df = pd.read_sql(query, engine)\n",
    "df = original_df.copy()\n",
    "\n",
    "query2 =  \"\"\"\n",
    "    SELECT job_sources.*\n",
    "    FROM job_sources \n",
    "    INNER JOIN job_postings AS j \n",
    "    ON job_sources.job_id = j.job_id\n",
    "    WHERE j.description IS NOT NULL;\n",
    "\"\"\"\n",
    "original_df2 = pd.read_sql(query2, engine)\n",
    "df2 = original_df2.copy()"
   ],
   "metadata": {
    "collapsed": false,
    "ExecuteTime": {
     "end_time": "2025-03-30T12:17:57.866130Z",
     "start_time": "2025-03-30T12:17:56.807864Z"
    }
   },
   "id": "8a6f9c34488013ab",
   "execution_count": 2
  },
  {
   "cell_type": "code",
   "outputs": [
    {
     "data": {
      "text/plain": "      id      job_id                                          title  \\\n0  14048  4115475043         Senior AI Engineer proficient in Swift   \n1  18412  4130485010                               Node.js Engineer   \n2      8  4158353862    Junior Data Scientist (Business Operations)   \n3  14872  4056210173  Senior Data Integration Engineer (Databricks)   \n4   8155  4112977117                    Lider/ka zespołu Google Ads   \n\n                                  location salary experience_level job_type  \\\n0    Warsaw, Mazowieckie, Poland (On-site)   None             None     None   \n1     Warsaw, Mazowieckie, Poland (Hybrid)   None             None     None   \n2    Warsaw, Mazowieckie, Poland (On-site)   None             None     None   \n3                          Poland (Remote)   None             None     None   \n4  Poznań, Wielkopolskie, Poland (On-site)   None             None     None   \n\n  employment_type                                        description  \\\n0            None  We are seeking a highly motivated and experien...   \n1            None   Ring Publishing: (http://ringpublishing.com) ...   \n2            None   Job Description: The Business Operations Team...   \n3            None  We are looking for a Senior Data Integration E...   \n4            None   Widoczni - miejsce dla ludzi nastawionych na ...   \n\n  responsibilities requirements skills benefits                       company  \\\n0             None         None   None     None            AIDA projektai, MB   \n1             None         None   None     None  Ringier Axel Springer Polska   \n2             None         None   None     None                          Wolt   \n3             None         None   None     None                  EPAM Systems   \n4             None         None   None     None                      widoczni   \n\n                                description_criteria  \\\n0  Seniority level Mid-Senior level Employment ty...   \n1  Seniority level Not Applicable Employment type...   \n2  Seniority level Mid-Senior level Employment ty...   \n3  Seniority level Mid-Senior level Employment ty...   \n4  Seniority level Executive Employment type Full...   \n\n                                      description_en  \n0                                               None  \n1  Ring Publishing: (http: // Ringpublishing com)...  \n2                                               None  \n3                                               None  \n4  Visible - a place for people focused on succes...  ",
      "text/html": "<div>\n<style scoped>\n    .dataframe tbody tr th:only-of-type {\n        vertical-align: middle;\n    }\n\n    .dataframe tbody tr th {\n        vertical-align: top;\n    }\n\n    .dataframe thead th {\n        text-align: right;\n    }\n</style>\n<table border=\"1\" class=\"dataframe\">\n  <thead>\n    <tr style=\"text-align: right;\">\n      <th></th>\n      <th>id</th>\n      <th>job_id</th>\n      <th>title</th>\n      <th>location</th>\n      <th>salary</th>\n      <th>experience_level</th>\n      <th>job_type</th>\n      <th>employment_type</th>\n      <th>description</th>\n      <th>responsibilities</th>\n      <th>requirements</th>\n      <th>skills</th>\n      <th>benefits</th>\n      <th>company</th>\n      <th>description_criteria</th>\n      <th>description_en</th>\n    </tr>\n  </thead>\n  <tbody>\n    <tr>\n      <th>0</th>\n      <td>14048</td>\n      <td>4115475043</td>\n      <td>Senior AI Engineer proficient in Swift</td>\n      <td>Warsaw, Mazowieckie, Poland (On-site)</td>\n      <td>None</td>\n      <td>None</td>\n      <td>None</td>\n      <td>None</td>\n      <td>We are seeking a highly motivated and experien...</td>\n      <td>None</td>\n      <td>None</td>\n      <td>None</td>\n      <td>None</td>\n      <td>AIDA projektai, MB</td>\n      <td>Seniority level Mid-Senior level Employment ty...</td>\n      <td>None</td>\n    </tr>\n    <tr>\n      <th>1</th>\n      <td>18412</td>\n      <td>4130485010</td>\n      <td>Node.js Engineer</td>\n      <td>Warsaw, Mazowieckie, Poland (Hybrid)</td>\n      <td>None</td>\n      <td>None</td>\n      <td>None</td>\n      <td>None</td>\n      <td>Ring Publishing: (http://ringpublishing.com) ...</td>\n      <td>None</td>\n      <td>None</td>\n      <td>None</td>\n      <td>None</td>\n      <td>Ringier Axel Springer Polska</td>\n      <td>Seniority level Not Applicable Employment type...</td>\n      <td>Ring Publishing: (http: // Ringpublishing com)...</td>\n    </tr>\n    <tr>\n      <th>2</th>\n      <td>8</td>\n      <td>4158353862</td>\n      <td>Junior Data Scientist (Business Operations)</td>\n      <td>Warsaw, Mazowieckie, Poland (On-site)</td>\n      <td>None</td>\n      <td>None</td>\n      <td>None</td>\n      <td>None</td>\n      <td>Job Description: The Business Operations Team...</td>\n      <td>None</td>\n      <td>None</td>\n      <td>None</td>\n      <td>None</td>\n      <td>Wolt</td>\n      <td>Seniority level Mid-Senior level Employment ty...</td>\n      <td>None</td>\n    </tr>\n    <tr>\n      <th>3</th>\n      <td>14872</td>\n      <td>4056210173</td>\n      <td>Senior Data Integration Engineer (Databricks)</td>\n      <td>Poland (Remote)</td>\n      <td>None</td>\n      <td>None</td>\n      <td>None</td>\n      <td>None</td>\n      <td>We are looking for a Senior Data Integration E...</td>\n      <td>None</td>\n      <td>None</td>\n      <td>None</td>\n      <td>None</td>\n      <td>EPAM Systems</td>\n      <td>Seniority level Mid-Senior level Employment ty...</td>\n      <td>None</td>\n    </tr>\n    <tr>\n      <th>4</th>\n      <td>8155</td>\n      <td>4112977117</td>\n      <td>Lider/ka zespołu Google Ads</td>\n      <td>Poznań, Wielkopolskie, Poland (On-site)</td>\n      <td>None</td>\n      <td>None</td>\n      <td>None</td>\n      <td>None</td>\n      <td>Widoczni - miejsce dla ludzi nastawionych na ...</td>\n      <td>None</td>\n      <td>None</td>\n      <td>None</td>\n      <td>None</td>\n      <td>widoczni</td>\n      <td>Seniority level Executive Employment type Full...</td>\n      <td>Visible - a place for people focused on succes...</td>\n    </tr>\n  </tbody>\n</table>\n</div>"
     },
     "execution_count": 3,
     "metadata": {},
     "output_type": "execute_result"
    }
   ],
   "source": [
    "df.head()"
   ],
   "metadata": {
    "collapsed": false,
    "ExecuteTime": {
     "end_time": "2025-03-30T12:17:57.878046Z",
     "start_time": "2025-03-30T12:17:57.867072Z"
    }
   },
   "id": "5a0a7057e9221e5b",
   "execution_count": 3
  },
  {
   "cell_type": "code",
   "outputs": [
    {
     "data": {
      "text/plain": "   id      job_id    source                                        job_url  \\\n0   1  4158353862  LinkedIn  https://www.linkedin.com/jobs/view/4158353862   \n1   2  4138407547  LinkedIn  https://www.linkedin.com/jobs/view/4138407547   \n2   3  4144364769  LinkedIn  https://www.linkedin.com/jobs/view/4144364769   \n3   4  4083706042  LinkedIn  https://www.linkedin.com/jobs/view/4083706042   \n4   5  4154765012  LinkedIn  https://www.linkedin.com/jobs/view/4154765012   \n\n  date_posted  is_active  \n0  2025-02-21       True  \n1  2025-02-21       True  \n2  2025-02-21       True  \n3  2025-02-21       True  \n4  2025-02-21       True  ",
      "text/html": "<div>\n<style scoped>\n    .dataframe tbody tr th:only-of-type {\n        vertical-align: middle;\n    }\n\n    .dataframe tbody tr th {\n        vertical-align: top;\n    }\n\n    .dataframe thead th {\n        text-align: right;\n    }\n</style>\n<table border=\"1\" class=\"dataframe\">\n  <thead>\n    <tr style=\"text-align: right;\">\n      <th></th>\n      <th>id</th>\n      <th>job_id</th>\n      <th>source</th>\n      <th>job_url</th>\n      <th>date_posted</th>\n      <th>is_active</th>\n    </tr>\n  </thead>\n  <tbody>\n    <tr>\n      <th>0</th>\n      <td>1</td>\n      <td>4158353862</td>\n      <td>LinkedIn</td>\n      <td>https://www.linkedin.com/jobs/view/4158353862</td>\n      <td>2025-02-21</td>\n      <td>True</td>\n    </tr>\n    <tr>\n      <th>1</th>\n      <td>2</td>\n      <td>4138407547</td>\n      <td>LinkedIn</td>\n      <td>https://www.linkedin.com/jobs/view/4138407547</td>\n      <td>2025-02-21</td>\n      <td>True</td>\n    </tr>\n    <tr>\n      <th>2</th>\n      <td>3</td>\n      <td>4144364769</td>\n      <td>LinkedIn</td>\n      <td>https://www.linkedin.com/jobs/view/4144364769</td>\n      <td>2025-02-21</td>\n      <td>True</td>\n    </tr>\n    <tr>\n      <th>3</th>\n      <td>4</td>\n      <td>4083706042</td>\n      <td>LinkedIn</td>\n      <td>https://www.linkedin.com/jobs/view/4083706042</td>\n      <td>2025-02-21</td>\n      <td>True</td>\n    </tr>\n    <tr>\n      <th>4</th>\n      <td>5</td>\n      <td>4154765012</td>\n      <td>LinkedIn</td>\n      <td>https://www.linkedin.com/jobs/view/4154765012</td>\n      <td>2025-02-21</td>\n      <td>True</td>\n    </tr>\n  </tbody>\n</table>\n</div>"
     },
     "execution_count": 4,
     "metadata": {},
     "output_type": "execute_result"
    }
   ],
   "source": [
    "df2.head()"
   ],
   "metadata": {
    "collapsed": false,
    "ExecuteTime": {
     "end_time": "2025-03-30T12:17:57.886655Z",
     "start_time": "2025-03-30T12:17:57.879602Z"
    }
   },
   "id": "5da08937b48dae01",
   "execution_count": 4
  },
  {
   "cell_type": "code",
   "outputs": [],
   "source": [
    "def detect_language(text):\n",
    "    try:\n",
    "        return detect(text)\n",
    "    except:\n",
    "        return \"unknown\""
   ],
   "metadata": {
    "collapsed": false,
    "ExecuteTime": {
     "end_time": "2025-03-30T12:17:57.890610Z",
     "start_time": "2025-03-30T12:17:57.887899Z"
    }
   },
   "id": "41165e08935242ae",
   "execution_count": 5
  },
  {
   "cell_type": "code",
   "outputs": [],
   "source": [
    "\n",
    "\n",
    "def split_text(text, max_length=500):\n",
    "    \"\"\"Splits text into chunks, ensuring each is under the max_length.\"\"\"\n",
    "    sentences = re.split(r'\\.\\s*', text)\n",
    "    chunks = []\n",
    "    temp_chunk = \"\"\n",
    "\n",
    "    for sentence in sentences:\n",
    "        if temp_chunk and len(temp_chunk) + len(sentence) + 1 > max_length:\n",
    "            chunks.append(temp_chunk.strip())\n",
    "            temp_chunk = sentence\n",
    "        else:\n",
    "            temp_chunk = f\"{temp_chunk} {sentence}\".strip() if temp_chunk else sentence\n",
    "    if temp_chunk:\n",
    "        chunks.append(temp_chunk.strip())\n",
    "    \n",
    "    return chunks\n",
    "\n",
    "\n",
    "def translate_text(text):\n",
    "    \"\"\"Translates text using the free Google API.\"\"\"\n",
    "    url = f\"https://translate.googleapis.com/translate_a/single?client=gtx&dt=t&sl=pl&tl=en&q={text}\"\n",
    "    try:\n",
    "        response = get(url)\n",
    "        translated_json = loads(response.text)\n",
    "        return translated_json[0][0][0] if translated_json else text\n",
    "    except Exception as e:\n",
    "        print(f\"Error translating: {e}\")\n",
    "        return text\n",
    "\n",
    "def translate_full_text(text):\n",
    "    \"\"\"Splits, translates, and reconstructs the translated text.\"\"\"\n",
    "    chunks = split_text(text)\n",
    "    translated_chunks = [translate_text(chunk) for chunk in chunks]\n",
    "    return \" \".join(translated_chunks)\n"
   ],
   "metadata": {
    "collapsed": false,
    "ExecuteTime": {
     "end_time": "2025-03-30T12:17:57.896342Z",
     "start_time": "2025-03-30T12:17:57.891743Z"
    }
   },
   "id": "bb9e48e9d8942358",
   "execution_count": 6
  },
  {
   "cell_type": "code",
   "outputs": [
    {
     "name": "stdout",
     "output_type": "stream",
     "text": [
      "Total Polish descriptions to translate: 0\n",
      "No Polish descriptions to translate.\n"
     ]
    }
   ],
   "source": [
    "from tqdm import tqdm\n",
    "from sqlalchemy.exc import OperationalError\n",
    "import time\n",
    "import sys\n",
    "import math\n",
    "tqdm.pandas()\n",
    "\n",
    "with engine.connect() as connection:\n",
    "    connection.execute(text(\"ALTER TABLE job_postings ADD COLUMN IF NOT EXISTS description_en TEXT;\"))\n",
    "    connection.execute(text(\"ALTER TABLE job_postings ADD COLUMN IF NOT EXISTS language VARCHAR(10);\"))\n",
    "\n",
    "    connection.commit()\n",
    "\n",
    "df = pd.read_sql(\"SELECT * FROM job_postings WHERE description IS NOT NULL;\", engine)\n",
    "df[\"language\"] = df[\"language\"].fillna('')\n",
    "\n",
    "\n",
    "missing_language_rows = df[df[\"language\"] == \"\"]\n",
    "if not missing_language_rows.empty:\n",
    "    print(f\"Detecting language for {len(missing_language_rows)} descriptions...\")\n",
    "    df.loc[df[\"language\"] == \"\", \"language\"] = df.loc[df[\"language\"] == \"\", \"description\"].apply(detect_language)\n",
    "\n",
    "    with engine.begin() as conn:\n",
    "        for _, row in df[df[\"language\"] != \"\"].iterrows():\n",
    "            conn.execute(\n",
    "                text(\"UPDATE job_postings SET language = :language WHERE job_id = :job_id\"),\n",
    "                {\"language\": row[\"language\"], \"job_id\": row[\"job_id\"]}\n",
    "            )\n",
    "\n",
    "df[\"description_en\"] = df.get(\"description_en\", pd.Series([None]*len(df)))\n",
    "\n",
    "df_to_translate = df[(df[\"language\"] == \"pl\") & (df[\"description_en\"].isnull())].copy()\n",
    "total = len(df_to_translate)\n",
    "print(f\"Total Polish descriptions to translate: {total}\")\n",
    "\n",
    "skip = False\n",
    "if total < 5:\n",
    "    print(\"No Polish descriptions to translate.\")\n",
    "    skip = True\n",
    "\n",
    "if not skip:\n",
    "    chunk_size = math.ceil(total / 10)\n",
    "    \n",
    "    for i in range(0, total, chunk_size):\n",
    "        chunk = df_to_translate.iloc[i:i+chunk_size].copy()\n",
    "        print(f\"\\n🔸 Translating chunk {i//chunk_size + 1}/10\")\n",
    "    \n",
    "        chunk[\"translated_description\"] = chunk[\"description\"].progress_apply(translate_full_text)\n",
    "    \n",
    "        # Save to DB\n",
    "        for _, row in chunk.iterrows():\n",
    "            try:\n",
    "                with engine.begin() as conn:\n",
    "                    conn.execute(\n",
    "                        text(\"UPDATE job_postings SET description_en = :desc_en WHERE job_id = :job_id\"),\n",
    "                        {\"desc_en\": row[\"translated_description\"], \"job_id\": row[\"job_id\"]}\n",
    "                    )\n",
    "            except OperationalError as e:\n",
    "                print(f\"OperationalError for job_id={row['job_id']}: {e}\")\n",
    "                time.sleep(3)\n",
    "    \n",
    "        print(f\"Chunk {i//chunk_size + 1} saved to database.\")\n"
   ],
   "metadata": {
    "collapsed": false,
    "ExecuteTime": {
     "end_time": "2025-03-30T13:09:13.370393Z",
     "start_time": "2025-03-30T13:09:12.521400Z"
    }
   },
   "id": "f3d347c1548f64da",
   "execution_count": 10
  },
  {
   "cell_type": "code",
   "outputs": [],
   "source": [
    "df[\"final_description\"] = df.apply(lambda row: row[\"description_en\"] if pd.notnull(row[\"description_en\"]) else row[\"description\"], axis=1)"
   ],
   "metadata": {
    "collapsed": false
   },
   "id": "6b712061ac21379b",
   "execution_count": null
  },
  {
   "cell_type": "code",
   "outputs": [],
   "source": [
    "df.head()"
   ],
   "metadata": {
    "collapsed": false
   },
   "id": "7f8718875c1b0c91",
   "execution_count": null
  },
  {
   "cell_type": "code",
   "outputs": [],
   "source": [
    "df.drop(labels=[\"description\", \"description_en\"], axis=1, inplace=True)\n",
    "df.columns"
   ],
   "metadata": {
    "collapsed": false
   },
   "id": "f4f40e0bc510885",
   "execution_count": null
  },
  {
   "cell_type": "code",
   "outputs": [],
   "source": [
    "df[\"final_description\"].iloc[0]"
   ],
   "metadata": {
    "collapsed": false
   },
   "id": "dc1b29c2bbc33cdc",
   "execution_count": null
  },
  {
   "cell_type": "code",
   "outputs": [],
   "source": [
    "df[df[\"description_criteria\"].isnull()].index\n"
   ],
   "metadata": {
    "collapsed": false
   },
   "id": "2c3623b97185c1ac",
   "execution_count": null
  },
  {
   "cell_type": "code",
   "outputs": [],
   "source": [
    "df.iloc[4913]\n"
   ],
   "metadata": {
    "collapsed": false
   },
   "id": "acf063fb70f1e59e",
   "execution_count": null
  },
  {
   "cell_type": "code",
   "outputs": [],
   "source": [
    "df.drop(index=df[df[\"description_criteria\"].isnull()].index, inplace=True)\n",
    "df.iloc[4913]"
   ],
   "metadata": {
    "collapsed": false
   },
   "id": "de61f266b26090ee",
   "execution_count": null
  },
  {
   "cell_type": "code",
   "outputs": [],
   "source": [
    "def extract_job_type(text):\n",
    "    result = []\n",
    "    if \"remote\" in text.lower():\n",
    "        result.append(\"Remote\")\n",
    "    elif \"hybrid\" in text.lower():\n",
    "        result.append(\"Hybrid\")\n",
    "    elif \"on-site\" in text.lower() or \"office\" in text.lower():\n",
    "        result.append(\"On-site\")\n",
    "    return \", \".join(result) if result else None\n",
    "\n",
    "\n",
    "df[\"job_type\"] = df[\"location\"].apply(extract_job_type)\n",
    "df[\"job_type\"].value_counts()"
   ],
   "metadata": {
    "collapsed": false
   },
   "id": "19aa30f03420c285",
   "execution_count": null
  },
  {
   "cell_type": "code",
   "outputs": [],
   "source": [
    "print(df[\"job_type\"].isnull().sum())\n",
    "\n",
    "df[\"final_description\"][df[\"job_type\"].isnull()].apply(extract_job_type).value_counts()\n"
   ],
   "metadata": {
    "collapsed": false
   },
   "id": "7cac44833bf437e",
   "execution_count": null
  },
  {
   "cell_type": "code",
   "outputs": [],
   "source": [
    "df[\"job_type\"] = df[\"final_description\"][df[\"job_type\"].isnull()].apply(extract_job_type)"
   ],
   "metadata": {
    "collapsed": false
   },
   "id": "30d35dc297cb9619"
  },
  {
   "cell_type": "code",
   "outputs": [],
   "source": [
    "def extract_employment_type(text):\n",
    "    result = []\n",
    "    if \"contract\" in text.lower():\n",
    "        result.append(\"Contract\")\n",
    "    if \"full-time\" in text.lower():\n",
    "        result.append(\"Full-time\")\n",
    "    if \"part-time\" in text.lower():\n",
    "        result.append(\"Part-time\")\n",
    "    if \"b2b\" in text.lower():\n",
    "        result.append(\"B2B\")\n",
    "    \n",
    "    return \", \".join(result) if result else None\n",
    "\n",
    "df[\"employment_type\"] = df[\"description_criteria\"].apply(extract_employment_type)\n",
    "df[\"employment_type\"].value_counts()\n"
   ],
   "metadata": {
    "collapsed": false
   },
   "id": "5601cb1eee27588e",
   "execution_count": null
  },
  {
   "cell_type": "code",
   "outputs": [],
   "source": [
    "print(df[\"employment_type\"].isnull().sum())\n",
    "\n",
    "df[\"final_description\"][df[\"employment_type\"].isnull()].apply(extract_employment_type).value_counts()"
   ],
   "metadata": {
    "collapsed": false
   },
   "id": "9f8cc8109c324b65",
   "execution_count": null
  },
  {
   "cell_type": "code",
   "outputs": [],
   "source": [
    "\n",
    "df[\"employment_type\"] = df[\"final_description\"][df[\"employment_type\"].isnull()].apply(extract_employment_type)"
   ],
   "metadata": {
    "collapsed": false
   },
   "id": "3d2e8be90f6a5f57",
   "execution_count": null
  },
  {
   "cell_type": "code",
   "outputs": [],
   "source": [
    "df[\"location\"].head(50)"
   ],
   "metadata": {
    "collapsed": false
   },
   "id": "21d6f1e50aa678bf",
   "execution_count": null
  },
  {
   "cell_type": "code",
   "outputs": [],
   "source": [],
   "metadata": {
    "collapsed": false
   },
   "id": "e963e867aab5027d",
   "execution_count": null
  }
 ],
 "metadata": {
  "kernelspec": {
   "display_name": "Python 3",
   "language": "python",
   "name": "python3"
  },
  "language_info": {
   "codemirror_mode": {
    "name": "ipython",
    "version": 2
   },
   "file_extension": ".py",
   "mimetype": "text/x-python",
   "name": "python",
   "nbconvert_exporter": "python",
   "pygments_lexer": "ipython2",
   "version": "2.7.6"
  }
 },
 "nbformat": 4,
 "nbformat_minor": 5
}
