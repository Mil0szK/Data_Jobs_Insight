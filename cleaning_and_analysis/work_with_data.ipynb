{
 "cells": [
  {
   "cell_type": "code",
   "execution_count": 292,
   "id": "initial_id",
   "metadata": {
    "collapsed": true,
    "ExecuteTime": {
     "end_time": "2025-04-02T19:48:03.925389Z",
     "start_time": "2025-04-02T19:48:03.923277Z"
    }
   },
   "outputs": [],
   "source": [
    "import pandas as pd\n",
    "import os\n",
    "from dotenv import load_dotenv\n",
    "from sqlalchemy import create_engine, text\n",
    "from json import loads\n",
    "from requests import get\n",
    "import re\n",
    "from langdetect import detect"
   ]
  },
  {
   "cell_type": "code",
   "outputs": [],
   "source": [
    "# connect to the database\n",
    "\n",
    "dotenv_path = os.path.join(\"..\", \"scraping\", \".env\")\n",
    "load_dotenv(dotenv_path)\n",
    "DATABASE_URL = f\"postgresql://{os.getenv('DB_USER')}:{os.getenv('DB_PASSWORD')}@{os.getenv('DB_HOST')}:{os.getenv('DB_PORT')}/{os.getenv('DB_NAME')}\"\n",
    "\n",
    "engine = create_engine(DATABASE_URL)\n",
    "\n",
    "query = \"SELECT * FROM job_postings WHERE description IS NOT NULL;\"\n",
    "original_df = pd.read_sql(query, engine)\n",
    "df = original_df.copy()\n",
    "\n",
    "query2 =  \"\"\"\n",
    "    SELECT job_sources.*\n",
    "    FROM job_sources \n",
    "    INNER JOIN job_postings AS j \n",
    "    ON job_sources.job_id = j.job_id\n",
    "    WHERE j.description IS NOT NULL;\n",
    "\"\"\"\n",
    "original_df2 = pd.read_sql(query2, engine)\n",
    "df2 = original_df2.copy()"
   ],
   "metadata": {
    "collapsed": false,
    "ExecuteTime": {
     "end_time": "2025-04-02T19:48:04.869688Z",
     "start_time": "2025-04-02T19:48:03.954540Z"
    }
   },
   "id": "8a6f9c34488013ab",
   "execution_count": 293
  },
  {
   "cell_type": "code",
   "outputs": [
    {
     "data": {
      "text/plain": "       id      job_id                                              title  \\\n0    6538  4158196588                Rituals - Wholesale Intern (Warsaw)   \n1  361380  4186936564  Full-stack Developer (React, Node.js) / Projec...   \n2  298526  4188240566                    Główna Księgowa/Główny Księgowy   \n3  275327  4187444908                  Programista MS Dynamics 365BC/NAV   \n4  348481  4153864061                        Mid/Senior Python Developer   \n\n                                         location salary experience_level  \\\n0           Warsaw, Mazowieckie, Poland (On-site)   None             None   \n1  Bydgoszcz, Kujawsko-pomorskie, Poland (Remote)   None             None   \n2                Tychy, Śląskie, Poland (On-site)   None             None   \n3            Cracow, Małopolskie, Poland (Hybrid)   None             None   \n4                  Łódź, Łódzkie, Poland (Remote)   None             None   \n\n  job_type employment_type                                        description  \\\n0     None            None  W dziale Wholesale & Travel Retail dbamy o to,...   \n1     None            None  Cześć👋 Jesteśmy 50+ osobowym zespołem pragmaty...   \n2     None            None   What We Offer: At Magna, you can expect an en...   \n3     None            None  Nasz klient to renomowana firma z ponad 20-let...   \n4     None            None   Description & Requirements: Kogo szukamy: Doł...   \n\n  responsibilities requirements skills benefits                   company  \\\n0             None         None   None     None  Rituals Cosmetics Polska   \n1             None         None   None     None                    Exlabs   \n2             None         None   None     None       Magna International   \n3             None         None   None     None         ipracujzdalnie.pl   \n4             None         None   None     None                  Deloitte   \n\n                                description_criteria language  \\\n0  Seniority level Internship Employment type Int...       pl   \n1  Seniority level Mid-Senior level Employment ty...       pl   \n2  Seniority level Mid-Senior level Employment ty...       pl   \n3  Seniority level Entry level Employment type Fu...       pl   \n4  Seniority level Mid-Senior level Employment ty...       pl   \n\n                                      description_en  \\\n0  \"In the Wholesale section. \"As well as externa...   \n1  \"Hi👋 We are a 50-person team of pragmatics who...   \n2  \"What in Offer: AT Magna, You Can Expect An En...   \n3  \"Our client is a renowned company with over 20...   \n4  \"Description. \"Including a solid experience in...   \n\n                                            title_en  \n0            \"Rituals - Wholelesale Intern (Warsaw)\"  \n1  \"Full-Stack Developer (React, Node. JS) / Proj...  \n2                \"Chief accountant/chief accountant\"  \n3                 \"MS Dynamics 365BC/NAV programmer\"  \n4                      \"Mid/Senior Python Developer\"  ",
      "text/html": "<div>\n<style scoped>\n    .dataframe tbody tr th:only-of-type {\n        vertical-align: middle;\n    }\n\n    .dataframe tbody tr th {\n        vertical-align: top;\n    }\n\n    .dataframe thead th {\n        text-align: right;\n    }\n</style>\n<table border=\"1\" class=\"dataframe\">\n  <thead>\n    <tr style=\"text-align: right;\">\n      <th></th>\n      <th>id</th>\n      <th>job_id</th>\n      <th>title</th>\n      <th>location</th>\n      <th>salary</th>\n      <th>experience_level</th>\n      <th>job_type</th>\n      <th>employment_type</th>\n      <th>description</th>\n      <th>responsibilities</th>\n      <th>requirements</th>\n      <th>skills</th>\n      <th>benefits</th>\n      <th>company</th>\n      <th>description_criteria</th>\n      <th>language</th>\n      <th>description_en</th>\n      <th>title_en</th>\n    </tr>\n  </thead>\n  <tbody>\n    <tr>\n      <th>0</th>\n      <td>6538</td>\n      <td>4158196588</td>\n      <td>Rituals - Wholesale Intern (Warsaw)</td>\n      <td>Warsaw, Mazowieckie, Poland (On-site)</td>\n      <td>None</td>\n      <td>None</td>\n      <td>None</td>\n      <td>None</td>\n      <td>W dziale Wholesale &amp; Travel Retail dbamy o to,...</td>\n      <td>None</td>\n      <td>None</td>\n      <td>None</td>\n      <td>None</td>\n      <td>Rituals Cosmetics Polska</td>\n      <td>Seniority level Internship Employment type Int...</td>\n      <td>pl</td>\n      <td>\"In the Wholesale section. \"As well as externa...</td>\n      <td>\"Rituals - Wholelesale Intern (Warsaw)\"</td>\n    </tr>\n    <tr>\n      <th>1</th>\n      <td>361380</td>\n      <td>4186936564</td>\n      <td>Full-stack Developer (React, Node.js) / Projec...</td>\n      <td>Bydgoszcz, Kujawsko-pomorskie, Poland (Remote)</td>\n      <td>None</td>\n      <td>None</td>\n      <td>None</td>\n      <td>None</td>\n      <td>Cześć👋 Jesteśmy 50+ osobowym zespołem pragmaty...</td>\n      <td>None</td>\n      <td>None</td>\n      <td>None</td>\n      <td>None</td>\n      <td>Exlabs</td>\n      <td>Seniority level Mid-Senior level Employment ty...</td>\n      <td>pl</td>\n      <td>\"Hi👋 We are a 50-person team of pragmatics who...</td>\n      <td>\"Full-Stack Developer (React, Node. JS) / Proj...</td>\n    </tr>\n    <tr>\n      <th>2</th>\n      <td>298526</td>\n      <td>4188240566</td>\n      <td>Główna Księgowa/Główny Księgowy</td>\n      <td>Tychy, Śląskie, Poland (On-site)</td>\n      <td>None</td>\n      <td>None</td>\n      <td>None</td>\n      <td>None</td>\n      <td>What We Offer: At Magna, you can expect an en...</td>\n      <td>None</td>\n      <td>None</td>\n      <td>None</td>\n      <td>None</td>\n      <td>Magna International</td>\n      <td>Seniority level Mid-Senior level Employment ty...</td>\n      <td>pl</td>\n      <td>\"What in Offer: AT Magna, You Can Expect An En...</td>\n      <td>\"Chief accountant/chief accountant\"</td>\n    </tr>\n    <tr>\n      <th>3</th>\n      <td>275327</td>\n      <td>4187444908</td>\n      <td>Programista MS Dynamics 365BC/NAV</td>\n      <td>Cracow, Małopolskie, Poland (Hybrid)</td>\n      <td>None</td>\n      <td>None</td>\n      <td>None</td>\n      <td>None</td>\n      <td>Nasz klient to renomowana firma z ponad 20-let...</td>\n      <td>None</td>\n      <td>None</td>\n      <td>None</td>\n      <td>None</td>\n      <td>ipracujzdalnie.pl</td>\n      <td>Seniority level Entry level Employment type Fu...</td>\n      <td>pl</td>\n      <td>\"Our client is a renowned company with over 20...</td>\n      <td>\"MS Dynamics 365BC/NAV programmer\"</td>\n    </tr>\n    <tr>\n      <th>4</th>\n      <td>348481</td>\n      <td>4153864061</td>\n      <td>Mid/Senior Python Developer</td>\n      <td>Łódź, Łódzkie, Poland (Remote)</td>\n      <td>None</td>\n      <td>None</td>\n      <td>None</td>\n      <td>None</td>\n      <td>Description &amp; Requirements: Kogo szukamy: Doł...</td>\n      <td>None</td>\n      <td>None</td>\n      <td>None</td>\n      <td>None</td>\n      <td>Deloitte</td>\n      <td>Seniority level Mid-Senior level Employment ty...</td>\n      <td>pl</td>\n      <td>\"Description. \"Including a solid experience in...</td>\n      <td>\"Mid/Senior Python Developer\"</td>\n    </tr>\n  </tbody>\n</table>\n</div>"
     },
     "execution_count": 294,
     "metadata": {},
     "output_type": "execute_result"
    }
   ],
   "source": [
    "df.head()"
   ],
   "metadata": {
    "collapsed": false,
    "ExecuteTime": {
     "end_time": "2025-04-02T19:48:04.879084Z",
     "start_time": "2025-04-02T19:48:04.870722Z"
    }
   },
   "id": "5a0a7057e9221e5b",
   "execution_count": 294
  },
  {
   "cell_type": "code",
   "outputs": [
    {
     "data": {
      "text/plain": "   id      job_id    source                                        job_url  \\\n0   1  4158353862  LinkedIn  https://www.linkedin.com/jobs/view/4158353862   \n1   2  4138407547  LinkedIn  https://www.linkedin.com/jobs/view/4138407547   \n2   3  4144364769  LinkedIn  https://www.linkedin.com/jobs/view/4144364769   \n3   4  4083706042  LinkedIn  https://www.linkedin.com/jobs/view/4083706042   \n4   5  4154765012  LinkedIn  https://www.linkedin.com/jobs/view/4154765012   \n\n  date_posted  is_active  \n0  2025-02-21       True  \n1  2025-02-21       True  \n2  2025-02-21       True  \n3  2025-02-21       True  \n4  2025-02-21       True  ",
      "text/html": "<div>\n<style scoped>\n    .dataframe tbody tr th:only-of-type {\n        vertical-align: middle;\n    }\n\n    .dataframe tbody tr th {\n        vertical-align: top;\n    }\n\n    .dataframe thead th {\n        text-align: right;\n    }\n</style>\n<table border=\"1\" class=\"dataframe\">\n  <thead>\n    <tr style=\"text-align: right;\">\n      <th></th>\n      <th>id</th>\n      <th>job_id</th>\n      <th>source</th>\n      <th>job_url</th>\n      <th>date_posted</th>\n      <th>is_active</th>\n    </tr>\n  </thead>\n  <tbody>\n    <tr>\n      <th>0</th>\n      <td>1</td>\n      <td>4158353862</td>\n      <td>LinkedIn</td>\n      <td>https://www.linkedin.com/jobs/view/4158353862</td>\n      <td>2025-02-21</td>\n      <td>True</td>\n    </tr>\n    <tr>\n      <th>1</th>\n      <td>2</td>\n      <td>4138407547</td>\n      <td>LinkedIn</td>\n      <td>https://www.linkedin.com/jobs/view/4138407547</td>\n      <td>2025-02-21</td>\n      <td>True</td>\n    </tr>\n    <tr>\n      <th>2</th>\n      <td>3</td>\n      <td>4144364769</td>\n      <td>LinkedIn</td>\n      <td>https://www.linkedin.com/jobs/view/4144364769</td>\n      <td>2025-02-21</td>\n      <td>True</td>\n    </tr>\n    <tr>\n      <th>3</th>\n      <td>4</td>\n      <td>4083706042</td>\n      <td>LinkedIn</td>\n      <td>https://www.linkedin.com/jobs/view/4083706042</td>\n      <td>2025-02-21</td>\n      <td>True</td>\n    </tr>\n    <tr>\n      <th>4</th>\n      <td>5</td>\n      <td>4154765012</td>\n      <td>LinkedIn</td>\n      <td>https://www.linkedin.com/jobs/view/4154765012</td>\n      <td>2025-02-21</td>\n      <td>True</td>\n    </tr>\n  </tbody>\n</table>\n</div>"
     },
     "execution_count": 295,
     "metadata": {},
     "output_type": "execute_result"
    }
   ],
   "source": [
    "df2.head()"
   ],
   "metadata": {
    "collapsed": false,
    "ExecuteTime": {
     "end_time": "2025-04-02T19:48:04.884608Z",
     "start_time": "2025-04-02T19:48:04.879804Z"
    }
   },
   "id": "5da08937b48dae01",
   "execution_count": 295
  },
  {
   "cell_type": "code",
   "outputs": [],
   "source": [
    "def detect_language(text):\n",
    "    try:\n",
    "        return detect(text)\n",
    "    except:\n",
    "        return \"unknown\""
   ],
   "metadata": {
    "collapsed": false,
    "ExecuteTime": {
     "end_time": "2025-04-02T19:48:04.887407Z",
     "start_time": "2025-04-02T19:48:04.885619Z"
    }
   },
   "id": "41165e08935242ae",
   "execution_count": 296
  },
  {
   "cell_type": "code",
   "outputs": [],
   "source": [
    "def update_description(text):\n",
    "    sentences = re.split(r'(?<=[a-ząęśćźżół])(?=[A-ZĄĘŚĆŹŻÓŁ])', text)\n",
    "    return \", \".join(sentences)\n",
    "\n",
    "df[\"description\"] = df[\"description\"].apply(update_description)"
   ],
   "metadata": {
    "collapsed": false,
    "ExecuteTime": {
     "end_time": "2025-04-02T19:48:07.035634Z",
     "start_time": "2025-04-02T19:48:04.888079Z"
    }
   },
   "id": "48e9aa97c2123c3d",
   "execution_count": 297
  },
  {
   "cell_type": "code",
   "outputs": [],
   "source": [
    "\n",
    "\n",
    "def split_text(text, max_length=450):\n",
    "    \"\"\"Splits text into chunks, ensuring each is under the max_length.\"\"\"\n",
    "    sentences = re.split(r'([.,;])', text)\n",
    "    chunks = []\n",
    "    temp_chunk = \"\"\n",
    "\n",
    "    for sentence in sentences:\n",
    "        if temp_chunk and len(temp_chunk) + len(sentence) + 1 > max_length:\n",
    "            chunks.append(temp_chunk.strip())\n",
    "            temp_chunk = sentence\n",
    "        else:\n",
    "            temp_chunk = f\"{temp_chunk} {sentence}\".strip() if temp_chunk else sentence\n",
    "    if temp_chunk:\n",
    "        chunks.append(temp_chunk.strip())\n",
    "    \n",
    "    return chunks\n",
    "\n",
    "\n",
    "def translate_text(text):\n",
    "    \"\"\"Translates text using the free Google API.\"\"\"\n",
    "    url = f'https://translate.googleapis.com/translate_a/single?client=gtx&dt=t&sl=pl&tl=en&q=\"{str(text)}\"'\n",
    "    try:\n",
    "        response = get(url)\n",
    "        translated_json = loads(response.text)\n",
    "        return translated_json[0][0][0] if translated_json else text\n",
    "    except Exception as e:\n",
    "        print(f\"Error translating: {e}\")\n",
    "        return text\n",
    "\n",
    "def translate_full_text(text):\n",
    "    \"\"\"Splits, translates, and reconstructs the translated text.\"\"\"\n",
    "    chunks = split_text(text)\n",
    "    translated_chunks = [translate_text(chunk) for chunk in chunks]\n",
    "    return \". \".join(translated_chunks)"
   ],
   "metadata": {
    "collapsed": false,
    "ExecuteTime": {
     "end_time": "2025-04-02T19:48:07.040035Z",
     "start_time": "2025-04-02T19:48:07.036317Z"
    }
   },
   "id": "bb9e48e9d8942358",
   "execution_count": 298
  },
  {
   "cell_type": "code",
   "outputs": [
    {
     "name": "stdout",
     "output_type": "stream",
     "text": [
      "Total Polish descriptions to translate: 0\n",
      "No Polish descriptions to translate.\n"
     ]
    }
   ],
   "source": [
    "from tqdm import tqdm\n",
    "from sqlalchemy.exc import OperationalError\n",
    "import time\n",
    "import sys\n",
    "import math\n",
    "tqdm.pandas()\n",
    "\n",
    "with engine.connect() as connection:\n",
    "    connection.execute(text(\"ALTER TABLE job_postings ADD COLUMN IF NOT EXISTS description_en TEXT;\"))\n",
    "    connection.execute(text(\"ALTER TABLE job_postings ADD COLUMN IF NOT EXISTS language VARCHAR(10);\"))\n",
    "\n",
    "    connection.commit()\n",
    "\n",
    "df = pd.read_sql(\"SELECT * FROM job_postings WHERE description IS NOT NULL;\", engine)\n",
    "df[\"language\"] = df[\"language\"].fillna('')\n",
    "\n",
    "\n",
    "missing_language_rows = df[df[\"language\"] == \"\"]\n",
    "if not missing_language_rows.empty:\n",
    "    print(f\"Detecting language for {len(missing_language_rows)} descriptions...\")\n",
    "    df.loc[df[\"language\"] == \"\", \"language\"] = df.loc[df[\"language\"] == \"\", \"description\"].apply(detect_language)\n",
    "\n",
    "    with engine.begin() as conn:\n",
    "        for _, row in df[df[\"language\"] != \"\"].iterrows():\n",
    "            conn.execute(\n",
    "                text(\"UPDATE job_postings SET language = :language WHERE job_id = :job_id\"),\n",
    "                {\"language\": row[\"language\"], \"job_id\": row[\"job_id\"]}\n",
    "            )\n",
    "\n",
    "df[\"description_en\"] = df.get(\"description_en\", pd.Series([None]*len(df)))\n",
    "\n",
    "df_to_translate = df[(df[\"language\"] == \"pl\") & (df[\"description_en\"].isnull())].copy()\n",
    "total = len(df_to_translate)\n",
    "print(f\"Total Polish descriptions to translate: {total}\")\n",
    "\n",
    "skip = False\n",
    "if total < 5:\n",
    "    print(\"No Polish descriptions to translate.\")\n",
    "    skip = True\n",
    "\n",
    "if not skip:\n",
    "    chunk_size = math.ceil(total / 25)\n",
    "    \n",
    "    for i in range(0, total, chunk_size):\n",
    "        chunk = df_to_translate.iloc[i:i+chunk_size].copy()\n",
    "        print(f\"\\n🔸 Translating chunk {i//chunk_size + 1}/25\")\n",
    "        time.sleep(3)\n",
    "        chunk[\"translated_description\"] = chunk[\"description\"].progress_apply(translate_full_text)\n",
    "    \n",
    "        # Save to DB\n",
    "        for _, row in chunk.iterrows():\n",
    "            try:\n",
    "                with engine.begin() as conn:\n",
    "                    conn.execute(\n",
    "                        text(\"UPDATE job_postings SET description_en = :desc_en WHERE job_id = :job_id\"),\n",
    "                        {\"desc_en\": row[\"translated_description\"], \"job_id\": row[\"job_id\"]}\n",
    "                    )\n",
    "            except OperationalError as e:\n",
    "                print(f\"OperationalError for job_id={row['job_id']}: {e}\")\n",
    "                time.sleep(3)\n",
    "    \n",
    "        print(f\"Chunk {i//chunk_size + 1} saved to database.\")\n"
   ],
   "metadata": {
    "collapsed": false,
    "ExecuteTime": {
     "end_time": "2025-04-02T19:48:08.077220Z",
     "start_time": "2025-04-02T19:48:07.040774Z"
    }
   },
   "id": "f3d347c1548f64da",
   "execution_count": 299
  },
  {
   "cell_type": "code",
   "outputs": [
    {
     "name": "stdout",
     "output_type": "stream",
     "text": [
      "Total Polish titles to translate: 0\n",
      "No Polish titles to translate.\n"
     ]
    }
   ],
   "source": [
    "with engine.connect() as connection:\n",
    "    connection.execute(text(\"ALTER TABLE job_postings ADD COLUMN IF NOT EXISTS title_en TEXT;\"))\n",
    "    connection.execute(text(\"ALTER TABLE job_postings ADD COLUMN IF NOT EXISTS language VARCHAR(10);\"))\n",
    "    connection.commit()\n",
    "\n",
    "df = pd.read_sql(\"SELECT * FROM job_postings WHERE title IS NOT NULL;\", engine)\n",
    "df[\"language\"] = df[\"language\"].fillna('')\n",
    "\n",
    "missing_language_rows = df[df[\"language\"] == \"\"]\n",
    "if not missing_language_rows.empty:\n",
    "    print(f\"Detecting language for {len(missing_language_rows)} titles...\")\n",
    "    df.loc[df[\"language\"] == \"\", \"language\"] = df.loc[df[\"language\"] == \"\", \"title\"].apply(detect_language)\n",
    "\n",
    "    with engine.begin() as conn:\n",
    "        for _, row in df[df[\"language\"] != \"\"].iterrows():\n",
    "            conn.execute(\n",
    "                text(\"UPDATE job_postings SET language = :language WHERE job_id = :job_id\"),\n",
    "                {\"language\": row[\"language\"], \"job_id\": row[\"job_id\"]}\n",
    "            )\n",
    "\n",
    "df[\"title_en\"] = df.get(\"title_en\", pd.Series([None]*len(df)))\n",
    "df_to_translate = df[(df[\"language\"] == \"pl\") & (df[\"title_en\"].isnull())].copy()\n",
    "total = len(df_to_translate)\n",
    "print(f\"Total Polish titles to translate: {total}\")\n",
    "\n",
    "skip = False\n",
    "if total < 5:\n",
    "    print(\"No Polish titles to translate.\")\n",
    "    skip = True\n",
    "\n",
    "if not skip:\n",
    "    chunk_size = math.ceil(total / 10)\n",
    "    \n",
    "    for i in range(0, total, chunk_size):\n",
    "        chunk = df_to_translate.iloc[i:i+chunk_size].copy()\n",
    "        print(f\"\\n🔸 Translating chunk {i//chunk_size + 1}/10\")\n",
    "        time.sleep(3)\n",
    "        chunk[\"translated_title\"] = chunk[\"title\"].progress_apply(translate_full_text)\n",
    "    \n",
    "        for _, row in chunk.iterrows():\n",
    "            try:\n",
    "                with engine.begin() as conn:\n",
    "                    conn.execute(\n",
    "                        text(\"UPDATE job_postings SET title_en = :title_en WHERE job_id = :job_id\"),\n",
    "                        {\"title_en\": row[\"translated_title\"], \"job_id\": row[\"job_id\"]}\n",
    "                    )\n",
    "            except OperationalError as e:\n",
    "                print(f\"OperationalError for job_id={row['job_id']}: {e}\")\n",
    "                time.sleep(3)\n",
    "            \n",
    "        print(f\"Chunk {i//chunk_size + 1} saved to database.\")\n",
    "\n",
    "    print(f\"All titles translated and saved to database.\")\n"
   ],
   "metadata": {
    "collapsed": false,
    "ExecuteTime": {
     "end_time": "2025-04-02T19:48:08.740176Z",
     "start_time": "2025-04-02T19:48:08.077922Z"
    }
   },
   "id": "4e729988b8ec8b69",
   "execution_count": 300
  },
  {
   "cell_type": "code",
   "outputs": [],
   "source": [
    "df[\"final_description\"] = df.apply(lambda row: row[\"description_en\"] if pd.notnull(row[\"description_en\"]) else row[\"description\"], axis=1)\n",
    "\n",
    "df[\"final_title\"] = df.apply(lambda row: row[\"title_en\"] if pd.notnull(row[\"title_en\"]) else row[\"title\"], axis=1)"
   ],
   "metadata": {
    "collapsed": false,
    "ExecuteTime": {
     "end_time": "2025-04-02T19:48:09.019803Z",
     "start_time": "2025-04-02T19:48:08.741020Z"
    }
   },
   "id": "6b712061ac21379b",
   "execution_count": 301
  },
  {
   "cell_type": "code",
   "outputs": [
    {
     "data": {
      "text/plain": "       id      job_id                                              title  \\\n0    6538  4158196588                Rituals - Wholesale Intern (Warsaw)   \n1  361380  4186936564  Full-stack Developer (React, Node.js) / Projec...   \n2  298526  4188240566                    Główna Księgowa/Główny Księgowy   \n3  275327  4187444908                  Programista MS Dynamics 365BC/NAV   \n4  348481  4153864061                        Mid/Senior Python Developer   \n\n                                         location salary experience_level  \\\n0           Warsaw, Mazowieckie, Poland (On-site)   None             None   \n1  Bydgoszcz, Kujawsko-pomorskie, Poland (Remote)   None             None   \n2                Tychy, Śląskie, Poland (On-site)   None             None   \n3            Cracow, Małopolskie, Poland (Hybrid)   None             None   \n4                  Łódź, Łódzkie, Poland (Remote)   None             None   \n\n  job_type employment_type                                        description  \\\n0     None            None  W dziale Wholesale & Travel Retail dbamy o to,...   \n1     None            None  Cześć👋 Jesteśmy 50+ osobowym zespołem pragmaty...   \n2     None            None   What We Offer: At Magna, you can expect an en...   \n3     None            None  Nasz klient to renomowana firma z ponad 20-let...   \n4     None            None   Description & Requirements: Kogo szukamy: Doł...   \n\n  responsibilities requirements skills benefits                   company  \\\n0             None         None   None     None  Rituals Cosmetics Polska   \n1             None         None   None     None                    Exlabs   \n2             None         None   None     None       Magna International   \n3             None         None   None     None         ipracujzdalnie.pl   \n4             None         None   None     None                  Deloitte   \n\n                                description_criteria language  \\\n0  Seniority level Internship Employment type Int...       pl   \n1  Seniority level Mid-Senior level Employment ty...       pl   \n2  Seniority level Mid-Senior level Employment ty...       pl   \n3  Seniority level Entry level Employment type Fu...       pl   \n4  Seniority level Mid-Senior level Employment ty...       pl   \n\n                                      description_en  \\\n0  \"In the Wholesale section. \"As well as externa...   \n1  \"Hi👋 We are a 50-person team of pragmatics who...   \n2  \"What in Offer: AT Magna, You Can Expect An En...   \n3  \"Our client is a renowned company with over 20...   \n4  \"Description. \"Including a solid experience in...   \n\n                                            title_en  \\\n0            \"Rituals - Wholelesale Intern (Warsaw)\"   \n1  \"Full-Stack Developer (React, Node. JS) / Proj...   \n2                \"Chief accountant/chief accountant\"   \n3                 \"MS Dynamics 365BC/NAV programmer\"   \n4                      \"Mid/Senior Python Developer\"   \n\n                                   final_description  \\\n0  \"In the Wholesale section. \"As well as externa...   \n1  \"Hi👋 We are a 50-person team of pragmatics who...   \n2  \"What in Offer: AT Magna, You Can Expect An En...   \n3  \"Our client is a renowned company with over 20...   \n4  \"Description. \"Including a solid experience in...   \n\n                                         final_title  \n0            \"Rituals - Wholelesale Intern (Warsaw)\"  \n1  \"Full-Stack Developer (React, Node. JS) / Proj...  \n2                \"Chief accountant/chief accountant\"  \n3                 \"MS Dynamics 365BC/NAV programmer\"  \n4                      \"Mid/Senior Python Developer\"  ",
      "text/html": "<div>\n<style scoped>\n    .dataframe tbody tr th:only-of-type {\n        vertical-align: middle;\n    }\n\n    .dataframe tbody tr th {\n        vertical-align: top;\n    }\n\n    .dataframe thead th {\n        text-align: right;\n    }\n</style>\n<table border=\"1\" class=\"dataframe\">\n  <thead>\n    <tr style=\"text-align: right;\">\n      <th></th>\n      <th>id</th>\n      <th>job_id</th>\n      <th>title</th>\n      <th>location</th>\n      <th>salary</th>\n      <th>experience_level</th>\n      <th>job_type</th>\n      <th>employment_type</th>\n      <th>description</th>\n      <th>responsibilities</th>\n      <th>requirements</th>\n      <th>skills</th>\n      <th>benefits</th>\n      <th>company</th>\n      <th>description_criteria</th>\n      <th>language</th>\n      <th>description_en</th>\n      <th>title_en</th>\n      <th>final_description</th>\n      <th>final_title</th>\n    </tr>\n  </thead>\n  <tbody>\n    <tr>\n      <th>0</th>\n      <td>6538</td>\n      <td>4158196588</td>\n      <td>Rituals - Wholesale Intern (Warsaw)</td>\n      <td>Warsaw, Mazowieckie, Poland (On-site)</td>\n      <td>None</td>\n      <td>None</td>\n      <td>None</td>\n      <td>None</td>\n      <td>W dziale Wholesale &amp; Travel Retail dbamy o to,...</td>\n      <td>None</td>\n      <td>None</td>\n      <td>None</td>\n      <td>None</td>\n      <td>Rituals Cosmetics Polska</td>\n      <td>Seniority level Internship Employment type Int...</td>\n      <td>pl</td>\n      <td>\"In the Wholesale section. \"As well as externa...</td>\n      <td>\"Rituals - Wholelesale Intern (Warsaw)\"</td>\n      <td>\"In the Wholesale section. \"As well as externa...</td>\n      <td>\"Rituals - Wholelesale Intern (Warsaw)\"</td>\n    </tr>\n    <tr>\n      <th>1</th>\n      <td>361380</td>\n      <td>4186936564</td>\n      <td>Full-stack Developer (React, Node.js) / Projec...</td>\n      <td>Bydgoszcz, Kujawsko-pomorskie, Poland (Remote)</td>\n      <td>None</td>\n      <td>None</td>\n      <td>None</td>\n      <td>None</td>\n      <td>Cześć👋 Jesteśmy 50+ osobowym zespołem pragmaty...</td>\n      <td>None</td>\n      <td>None</td>\n      <td>None</td>\n      <td>None</td>\n      <td>Exlabs</td>\n      <td>Seniority level Mid-Senior level Employment ty...</td>\n      <td>pl</td>\n      <td>\"Hi👋 We are a 50-person team of pragmatics who...</td>\n      <td>\"Full-Stack Developer (React, Node. JS) / Proj...</td>\n      <td>\"Hi👋 We are a 50-person team of pragmatics who...</td>\n      <td>\"Full-Stack Developer (React, Node. JS) / Proj...</td>\n    </tr>\n    <tr>\n      <th>2</th>\n      <td>298526</td>\n      <td>4188240566</td>\n      <td>Główna Księgowa/Główny Księgowy</td>\n      <td>Tychy, Śląskie, Poland (On-site)</td>\n      <td>None</td>\n      <td>None</td>\n      <td>None</td>\n      <td>None</td>\n      <td>What We Offer: At Magna, you can expect an en...</td>\n      <td>None</td>\n      <td>None</td>\n      <td>None</td>\n      <td>None</td>\n      <td>Magna International</td>\n      <td>Seniority level Mid-Senior level Employment ty...</td>\n      <td>pl</td>\n      <td>\"What in Offer: AT Magna, You Can Expect An En...</td>\n      <td>\"Chief accountant/chief accountant\"</td>\n      <td>\"What in Offer: AT Magna, You Can Expect An En...</td>\n      <td>\"Chief accountant/chief accountant\"</td>\n    </tr>\n    <tr>\n      <th>3</th>\n      <td>275327</td>\n      <td>4187444908</td>\n      <td>Programista MS Dynamics 365BC/NAV</td>\n      <td>Cracow, Małopolskie, Poland (Hybrid)</td>\n      <td>None</td>\n      <td>None</td>\n      <td>None</td>\n      <td>None</td>\n      <td>Nasz klient to renomowana firma z ponad 20-let...</td>\n      <td>None</td>\n      <td>None</td>\n      <td>None</td>\n      <td>None</td>\n      <td>ipracujzdalnie.pl</td>\n      <td>Seniority level Entry level Employment type Fu...</td>\n      <td>pl</td>\n      <td>\"Our client is a renowned company with over 20...</td>\n      <td>\"MS Dynamics 365BC/NAV programmer\"</td>\n      <td>\"Our client is a renowned company with over 20...</td>\n      <td>\"MS Dynamics 365BC/NAV programmer\"</td>\n    </tr>\n    <tr>\n      <th>4</th>\n      <td>348481</td>\n      <td>4153864061</td>\n      <td>Mid/Senior Python Developer</td>\n      <td>Łódź, Łódzkie, Poland (Remote)</td>\n      <td>None</td>\n      <td>None</td>\n      <td>None</td>\n      <td>None</td>\n      <td>Description &amp; Requirements: Kogo szukamy: Doł...</td>\n      <td>None</td>\n      <td>None</td>\n      <td>None</td>\n      <td>None</td>\n      <td>Deloitte</td>\n      <td>Seniority level Mid-Senior level Employment ty...</td>\n      <td>pl</td>\n      <td>\"Description. \"Including a solid experience in...</td>\n      <td>\"Mid/Senior Python Developer\"</td>\n      <td>\"Description. \"Including a solid experience in...</td>\n      <td>\"Mid/Senior Python Developer\"</td>\n    </tr>\n  </tbody>\n</table>\n</div>"
     },
     "execution_count": 302,
     "metadata": {},
     "output_type": "execute_result"
    }
   ],
   "source": [
    "df.head()"
   ],
   "metadata": {
    "collapsed": false,
    "ExecuteTime": {
     "end_time": "2025-04-02T19:48:09.029443Z",
     "start_time": "2025-04-02T19:48:09.021477Z"
    }
   },
   "id": "7f8718875c1b0c91",
   "execution_count": 302
  },
  {
   "cell_type": "code",
   "outputs": [],
   "source": [],
   "metadata": {
    "collapsed": false,
    "ExecuteTime": {
     "end_time": "2025-04-02T19:48:09.031501Z",
     "start_time": "2025-04-02T19:48:09.030140Z"
    }
   },
   "id": "f4f40e0bc510885",
   "execution_count": 302
  },
  {
   "cell_type": "code",
   "outputs": [
    {
     "data": {
      "text/plain": "'\"In the Wholesale section. \"As well as external partners. Wholesale Intern will help the team in the areas of: data management, communication, analyzes and support of Back Office. If you want to learn more about sales both off - and online,\". \"This is an ideal internship for you! Your tasks: data management and their analysis based on reports in the Excel program - the basis of your activities arartly preparing files with data - tracking inputs and going out to the customer, updating basic data and support for planning inquiries. Ordering marketing materials from agencies for 7 markets.\". \"Taking care of the database - collecting information from Account Managers and Marketing Department. Creating monthly marketing reports. Support in management and orders management, daily control/marketing control on our partners\\' pages. Updating documents related to wholesale sales. Inspire knowledge and skills! Your profile: You have a ground knowledge and skills in the field of Excel programs . \"Word, Power Point and database management tools; experience in a branded retail environment is preferred; you have strong verbal and written communication skills, attention to detail and accuracy; you can organize your work well and you have the ability to coordinate several projects at the same time; communicatively you use English in speech and writing; you have the opportunity to work min.\". \"3-4 days a week. Benefits of working in the Rituals store Training and developmental opportunities for the bonus system for Ritualspotka Integration Products Team Division for medical care\"'"
     },
     "execution_count": 303,
     "metadata": {},
     "output_type": "execute_result"
    }
   ],
   "source": [
    "df[\"final_description\"].iloc[0]"
   ],
   "metadata": {
    "collapsed": false,
    "ExecuteTime": {
     "end_time": "2025-04-02T19:48:09.034638Z",
     "start_time": "2025-04-02T19:48:09.032191Z"
    }
   },
   "id": "dc1b29c2bbc33cdc",
   "execution_count": 303
  },
  {
   "cell_type": "code",
   "outputs": [
    {
     "data": {
      "text/plain": "Index([   18,    48,   100,   415,   416,   423,   424,   430,   514,   544,\n       ...\n       14815, 14905, 14908, 20105, 20304, 20742, 27934, 28026, 28366, 29486],\n      dtype='int64', length=352)"
     },
     "execution_count": 304,
     "metadata": {},
     "output_type": "execute_result"
    }
   ],
   "source": [
    "df[df[\"description_criteria\"].isnull()].index\n"
   ],
   "metadata": {
    "collapsed": false,
    "ExecuteTime": {
     "end_time": "2025-04-02T19:48:09.041606Z",
     "start_time": "2025-04-02T19:48:09.035318Z"
    }
   },
   "id": "2c3623b97185c1ac",
   "execution_count": 304
  },
  {
   "cell_type": "code",
   "outputs": [
    {
     "data": {
      "text/plain": "id                                                                 274017\njob_id                                                         4187493900\ntitle                                         Inżynier / Kierownik Budowy\nlocation                         Kielce, Świętokrzyskie, Poland (On-site)\nsalary                                                               None\nexperience_level                                                     None\njob_type                                                             None\nemployment_type                                                      None\ndescription              praca na budowach firmy na terenie całego kra...\nresponsibilities                                                     None\nrequirements                                                         None\nskills                                                               None\nbenefits                                                             None\ncompany                                                        Complexbud\ndescription_criteria    Seniority level Entry level Employment type Fu...\nlanguage                                                               pl\ndescription_en          \"Working at the company's construction sites t...\ntitle_en                                \"Engineer / Construction Manager\"\nfinal_description       \"Working at the company's construction sites t...\nfinal_title                             \"Engineer / Construction Manager\"\nName: 4913, dtype: object"
     },
     "execution_count": 305,
     "metadata": {},
     "output_type": "execute_result"
    }
   ],
   "source": [
    "df.iloc[4913]\n"
   ],
   "metadata": {
    "collapsed": false,
    "ExecuteTime": {
     "end_time": "2025-04-02T19:48:09.045878Z",
     "start_time": "2025-04-02T19:48:09.042501Z"
    }
   },
   "id": "acf063fb70f1e59e",
   "execution_count": 305
  },
  {
   "cell_type": "code",
   "outputs": [
    {
     "data": {
      "text/plain": "id                                                                  20371\njob_id                                                         4078042354\ntitle                   Senior Cloud Solutions Integrations Engineer, ...\nlocation                            Warsaw, Mazowieckie, Poland (On-site)\nsalary                                                               None\nexperience_level                                                     None\njob_type                                                             None\nemployment_type                                                      None\ndescription              Job Description: We are seeking for a highly ...\nresponsibilities                                                     None\nrequirements                                                         None\nskills                                                               None\nbenefits                                                             None\ncompany                                                            Oracle\ndescription_criteria    Seniority level Mid-Senior level Employment ty...\nlanguage                                                               en\ndescription_en                                                       None\ntitle_en                                                             None\nfinal_description        Job Description: We are seeking for a highly ...\nfinal_title             Senior Cloud Solutions Integrations Engineer, ...\nName: 5093, dtype: object"
     },
     "execution_count": 306,
     "metadata": {},
     "output_type": "execute_result"
    }
   ],
   "source": [
    "df.drop(index=df[df[\"description_criteria\"].isnull()].index, inplace=True)\n",
    "df.iloc[4913]"
   ],
   "metadata": {
    "collapsed": false,
    "ExecuteTime": {
     "end_time": "2025-04-02T19:48:09.064720Z",
     "start_time": "2025-04-02T19:48:09.046636Z"
    }
   },
   "id": "de61f266b26090ee",
   "execution_count": 306
  },
  {
   "cell_type": "code",
   "outputs": [
    {
     "data": {
      "text/plain": "job_type\nHybrid     9553\nRemote     8981\nOn-site    8612\nName: count, dtype: int64"
     },
     "execution_count": 307,
     "metadata": {},
     "output_type": "execute_result"
    }
   ],
   "source": [
    "# Extracting job type\n",
    "def extract_job_type(text):\n",
    "    result = []\n",
    "    if \"remote\" in text.lower():\n",
    "        result.append(\"Remote\")\n",
    "    elif \"hybrid\" in text.lower():\n",
    "        result.append(\"Hybrid\")\n",
    "    elif \"on-site\" in text.lower() or \"office\" in text.lower():\n",
    "        result.append(\"On-site\")\n",
    "    return \", \".join(result) if result else None\n",
    "\n",
    "\n",
    "df[\"job_type\"] = df[\"location\"].apply(extract_job_type)\n",
    "df[\"job_type\"].value_counts()"
   ],
   "metadata": {
    "collapsed": false,
    "ExecuteTime": {
     "end_time": "2025-04-02T19:48:09.087318Z",
     "start_time": "2025-04-02T19:48:09.065433Z"
    }
   },
   "id": "19aa30f03420c285",
   "execution_count": 307
  },
  {
   "cell_type": "code",
   "outputs": [
    {
     "name": "stdout",
     "output_type": "stream",
     "text": [
      "2395\n"
     ]
    },
    {
     "data": {
      "text/plain": "final_description\nRemote     768\nHybrid     535\nOn-site    475\nName: count, dtype: int64"
     },
     "execution_count": 308,
     "metadata": {},
     "output_type": "execute_result"
    }
   ],
   "source": [
    "print(df[\"job_type\"].isnull().sum())\n",
    "\n",
    "df[\"final_description\"][df[\"job_type\"].isnull()].apply(extract_job_type).value_counts()\n"
   ],
   "metadata": {
    "collapsed": false,
    "ExecuteTime": {
     "end_time": "2025-04-02T19:48:09.211671Z",
     "start_time": "2025-04-02T19:48:09.088202Z"
    }
   },
   "id": "7cac44833bf437e",
   "execution_count": 308
  },
  {
   "cell_type": "code",
   "outputs": [
    {
     "name": "stdout",
     "output_type": "stream",
     "text": [
      "617\n"
     ]
    }
   ],
   "source": [
    "df[\"job_type\"] = df[\"job_type\"].fillna(df[\"final_description\"].apply(extract_job_type))\n",
    "print(df[\"job_type\"].isnull().sum())\n"
   ],
   "metadata": {
    "collapsed": false,
    "ExecuteTime": {
     "end_time": "2025-04-02T19:48:10.423976Z",
     "start_time": "2025-04-02T19:48:09.212477Z"
    }
   },
   "id": "30d35dc297cb9619",
   "execution_count": 309
  },
  {
   "cell_type": "code",
   "outputs": [
    {
     "data": {
      "text/plain": "employment_type\nFull-time              25685\nContract                2515\nPart-time                412\nContract, Full-time        2\nName: count, dtype: int64"
     },
     "execution_count": 310,
     "metadata": {},
     "output_type": "execute_result"
    }
   ],
   "source": [
    "def extract_employment_type(text):\n",
    "    result = []\n",
    "    if \"contract\" in text.lower():\n",
    "        result.append(\"Contract\")\n",
    "    if \"full-time\" in text.lower():\n",
    "        result.append(\"Full-time\")\n",
    "    if \"part-time\" in text.lower():\n",
    "        result.append(\"Part-time\")\n",
    "    if \"b2b\" in text.lower():\n",
    "        result.append(\"B2B\")\n",
    "    \n",
    "    return \", \".join(result) if result else None\n",
    "\n",
    "df[\"employment_type\"] = df[\"description_criteria\"].apply(extract_employment_type)\n",
    "df[\"employment_type\"].value_counts()\n"
   ],
   "metadata": {
    "collapsed": false,
    "ExecuteTime": {
     "end_time": "2025-04-02T19:48:10.453747Z",
     "start_time": "2025-04-02T19:48:10.424627Z"
    }
   },
   "id": "5601cb1eee27588e",
   "execution_count": 310
  },
  {
   "cell_type": "code",
   "outputs": [
    {
     "name": "stdout",
     "output_type": "stream",
     "text": [
      "927\n"
     ]
    },
    {
     "data": {
      "text/plain": "final_description\nContract                          176\nContract, Full-time                43\nFull-time                          33\nContract, B2B                      14\nPart-time                           8\nB2B                                 7\nContract, Part-time                 6\nFull-time, Part-time                6\nContract, Full-time, Part-time      5\nName: count, dtype: int64"
     },
     "execution_count": 311,
     "metadata": {},
     "output_type": "execute_result"
    }
   ],
   "source": [
    "print(df[\"employment_type\"].isnull().sum())\n",
    "\n",
    "df[\"final_description\"][df[\"employment_type\"].isnull()].apply(extract_employment_type).value_counts()"
   ],
   "metadata": {
    "collapsed": false,
    "ExecuteTime": {
     "end_time": "2025-04-02T19:48:10.503374Z",
     "start_time": "2025-04-02T19:48:10.454416Z"
    }
   },
   "id": "9f8cc8109c324b65",
   "execution_count": 311
  },
  {
   "cell_type": "code",
   "outputs": [
    {
     "name": "stdout",
     "output_type": "stream",
     "text": [
      "629\n"
     ]
    }
   ],
   "source": [
    "df[\"employment_type\"] = df[\"employment_type\"].fillna(df[\"final_description\"].apply(extract_employment_type))\n",
    "\n",
    "print(df[\"employment_type\"].isnull().sum())"
   ],
   "metadata": {
    "collapsed": false,
    "ExecuteTime": {
     "end_time": "2025-04-02T19:48:12.111792Z",
     "start_time": "2025-04-02T19:48:10.504102Z"
    }
   },
   "id": "3d2e8be90f6a5f57",
   "execution_count": 312
  },
  {
   "cell_type": "code",
   "outputs": [
    {
     "data": {
      "text/plain": "       id      job_id                                              title  \\\n0    6538  4158196588                Rituals - Wholesale Intern (Warsaw)   \n1  361380  4186936564  Full-stack Developer (React, Node.js) / Projec...   \n2  298526  4188240566                    Główna Księgowa/Główny Księgowy   \n3  275327  4187444908                  Programista MS Dynamics 365BC/NAV   \n4  348481  4153864061                        Mid/Senior Python Developer   \n\n                                         location salary experience_level  \\\n0           Warsaw, Mazowieckie, Poland (On-site)   None             None   \n1  Bydgoszcz, Kujawsko-pomorskie, Poland (Remote)   None             None   \n2                Tychy, Śląskie, Poland (On-site)   None             None   \n3            Cracow, Małopolskie, Poland (Hybrid)   None             None   \n4                  Łódź, Łódzkie, Poland (Remote)   None             None   \n\n  job_type employment_type                                        description  \\\n0  On-site            None  W dziale Wholesale & Travel Retail dbamy o to,...   \n1   Remote       Full-time  Cześć👋 Jesteśmy 50+ osobowym zespołem pragmaty...   \n2  On-site       Full-time   What We Offer: At Magna, you can expect an en...   \n3   Hybrid       Full-time  Nasz klient to renomowana firma z ponad 20-let...   \n4   Remote       Full-time   Description & Requirements: Kogo szukamy: Doł...   \n\n  responsibilities requirements skills benefits                   company  \\\n0             None         None   None     None  Rituals Cosmetics Polska   \n1             None         None   None     None                    Exlabs   \n2             None         None   None     None       Magna International   \n3             None         None   None     None         ipracujzdalnie.pl   \n4             None         None   None     None                  Deloitte   \n\n                                description_criteria language  \\\n0  Seniority level Internship Employment type Int...       pl   \n1  Seniority level Mid-Senior level Employment ty...       pl   \n2  Seniority level Mid-Senior level Employment ty...       pl   \n3  Seniority level Entry level Employment type Fu...       pl   \n4  Seniority level Mid-Senior level Employment ty...       pl   \n\n                                      description_en  \\\n0  \"In the Wholesale section. \"As well as externa...   \n1  \"Hi👋 We are a 50-person team of pragmatics who...   \n2  \"What in Offer: AT Magna, You Can Expect An En...   \n3  \"Our client is a renowned company with over 20...   \n4  \"Description. \"Including a solid experience in...   \n\n                                            title_en  \\\n0            \"Rituals - Wholelesale Intern (Warsaw)\"   \n1  \"Full-Stack Developer (React, Node. JS) / Proj...   \n2                \"Chief accountant/chief accountant\"   \n3                 \"MS Dynamics 365BC/NAV programmer\"   \n4                      \"Mid/Senior Python Developer\"   \n\n                                   final_description  \\\n0  \"In the Wholesale section. \"As well as externa...   \n1  \"Hi👋 We are a 50-person team of pragmatics who...   \n2  \"What in Offer: AT Magna, You Can Expect An En...   \n3  \"Our client is a renowned company with over 20...   \n4  \"Description. \"Including a solid experience in...   \n\n                                         final_title  \n0            \"Rituals - Wholelesale Intern (Warsaw)\"  \n1  \"Full-Stack Developer (React, Node. JS) / Proj...  \n2                \"Chief accountant/chief accountant\"  \n3                 \"MS Dynamics 365BC/NAV programmer\"  \n4                      \"Mid/Senior Python Developer\"  ",
      "text/html": "<div>\n<style scoped>\n    .dataframe tbody tr th:only-of-type {\n        vertical-align: middle;\n    }\n\n    .dataframe tbody tr th {\n        vertical-align: top;\n    }\n\n    .dataframe thead th {\n        text-align: right;\n    }\n</style>\n<table border=\"1\" class=\"dataframe\">\n  <thead>\n    <tr style=\"text-align: right;\">\n      <th></th>\n      <th>id</th>\n      <th>job_id</th>\n      <th>title</th>\n      <th>location</th>\n      <th>salary</th>\n      <th>experience_level</th>\n      <th>job_type</th>\n      <th>employment_type</th>\n      <th>description</th>\n      <th>responsibilities</th>\n      <th>requirements</th>\n      <th>skills</th>\n      <th>benefits</th>\n      <th>company</th>\n      <th>description_criteria</th>\n      <th>language</th>\n      <th>description_en</th>\n      <th>title_en</th>\n      <th>final_description</th>\n      <th>final_title</th>\n    </tr>\n  </thead>\n  <tbody>\n    <tr>\n      <th>0</th>\n      <td>6538</td>\n      <td>4158196588</td>\n      <td>Rituals - Wholesale Intern (Warsaw)</td>\n      <td>Warsaw, Mazowieckie, Poland (On-site)</td>\n      <td>None</td>\n      <td>None</td>\n      <td>On-site</td>\n      <td>None</td>\n      <td>W dziale Wholesale &amp; Travel Retail dbamy o to,...</td>\n      <td>None</td>\n      <td>None</td>\n      <td>None</td>\n      <td>None</td>\n      <td>Rituals Cosmetics Polska</td>\n      <td>Seniority level Internship Employment type Int...</td>\n      <td>pl</td>\n      <td>\"In the Wholesale section. \"As well as externa...</td>\n      <td>\"Rituals - Wholelesale Intern (Warsaw)\"</td>\n      <td>\"In the Wholesale section. \"As well as externa...</td>\n      <td>\"Rituals - Wholelesale Intern (Warsaw)\"</td>\n    </tr>\n    <tr>\n      <th>1</th>\n      <td>361380</td>\n      <td>4186936564</td>\n      <td>Full-stack Developer (React, Node.js) / Projec...</td>\n      <td>Bydgoszcz, Kujawsko-pomorskie, Poland (Remote)</td>\n      <td>None</td>\n      <td>None</td>\n      <td>Remote</td>\n      <td>Full-time</td>\n      <td>Cześć👋 Jesteśmy 50+ osobowym zespołem pragmaty...</td>\n      <td>None</td>\n      <td>None</td>\n      <td>None</td>\n      <td>None</td>\n      <td>Exlabs</td>\n      <td>Seniority level Mid-Senior level Employment ty...</td>\n      <td>pl</td>\n      <td>\"Hi👋 We are a 50-person team of pragmatics who...</td>\n      <td>\"Full-Stack Developer (React, Node. JS) / Proj...</td>\n      <td>\"Hi👋 We are a 50-person team of pragmatics who...</td>\n      <td>\"Full-Stack Developer (React, Node. JS) / Proj...</td>\n    </tr>\n    <tr>\n      <th>2</th>\n      <td>298526</td>\n      <td>4188240566</td>\n      <td>Główna Księgowa/Główny Księgowy</td>\n      <td>Tychy, Śląskie, Poland (On-site)</td>\n      <td>None</td>\n      <td>None</td>\n      <td>On-site</td>\n      <td>Full-time</td>\n      <td>What We Offer: At Magna, you can expect an en...</td>\n      <td>None</td>\n      <td>None</td>\n      <td>None</td>\n      <td>None</td>\n      <td>Magna International</td>\n      <td>Seniority level Mid-Senior level Employment ty...</td>\n      <td>pl</td>\n      <td>\"What in Offer: AT Magna, You Can Expect An En...</td>\n      <td>\"Chief accountant/chief accountant\"</td>\n      <td>\"What in Offer: AT Magna, You Can Expect An En...</td>\n      <td>\"Chief accountant/chief accountant\"</td>\n    </tr>\n    <tr>\n      <th>3</th>\n      <td>275327</td>\n      <td>4187444908</td>\n      <td>Programista MS Dynamics 365BC/NAV</td>\n      <td>Cracow, Małopolskie, Poland (Hybrid)</td>\n      <td>None</td>\n      <td>None</td>\n      <td>Hybrid</td>\n      <td>Full-time</td>\n      <td>Nasz klient to renomowana firma z ponad 20-let...</td>\n      <td>None</td>\n      <td>None</td>\n      <td>None</td>\n      <td>None</td>\n      <td>ipracujzdalnie.pl</td>\n      <td>Seniority level Entry level Employment type Fu...</td>\n      <td>pl</td>\n      <td>\"Our client is a renowned company with over 20...</td>\n      <td>\"MS Dynamics 365BC/NAV programmer\"</td>\n      <td>\"Our client is a renowned company with over 20...</td>\n      <td>\"MS Dynamics 365BC/NAV programmer\"</td>\n    </tr>\n    <tr>\n      <th>4</th>\n      <td>348481</td>\n      <td>4153864061</td>\n      <td>Mid/Senior Python Developer</td>\n      <td>Łódź, Łódzkie, Poland (Remote)</td>\n      <td>None</td>\n      <td>None</td>\n      <td>Remote</td>\n      <td>Full-time</td>\n      <td>Description &amp; Requirements: Kogo szukamy: Doł...</td>\n      <td>None</td>\n      <td>None</td>\n      <td>None</td>\n      <td>None</td>\n      <td>Deloitte</td>\n      <td>Seniority level Mid-Senior level Employment ty...</td>\n      <td>pl</td>\n      <td>\"Description. \"Including a solid experience in...</td>\n      <td>\"Mid/Senior Python Developer\"</td>\n      <td>\"Description. \"Including a solid experience in...</td>\n      <td>\"Mid/Senior Python Developer\"</td>\n    </tr>\n  </tbody>\n</table>\n</div>"
     },
     "execution_count": 313,
     "metadata": {},
     "output_type": "execute_result"
    }
   ],
   "source": [
    "df[df[\"language\"]==\"pl\"].head(5)"
   ],
   "metadata": {
    "collapsed": false,
    "ExecuteTime": {
     "end_time": "2025-04-02T19:48:12.126419Z",
     "start_time": "2025-04-02T19:48:12.112495Z"
    }
   },
   "id": "21d6f1e50aa678bf",
   "execution_count": 313
  },
  {
   "cell_type": "code",
   "outputs": [
    {
     "name": "stdout",
     "output_type": "stream",
     "text": [
      "Number of jobs without both job_type and employment_type: 3\n"
     ]
    }
   ],
   "source": [
    "# Count how many jobs don't contain both job_type and employment_type\n",
    "missing_job_type_and_employment_type = df[df[\"job_type\"].isnull() & df[\"employment_type\"].isnull()]\n",
    "print(f\"Number of jobs without both job_type and employment_type: {len(missing_job_type_and_employment_type)}\")\n"
   ],
   "metadata": {
    "collapsed": false,
    "ExecuteTime": {
     "end_time": "2025-04-02T19:48:12.131707Z",
     "start_time": "2025-04-02T19:48:12.127327Z"
    }
   },
   "id": "e963e867aab5027d",
   "execution_count": 314
  },
  {
   "cell_type": "code",
   "outputs": [],
   "source": [
    "def clean_description(text):\n",
    "    text = text.replace('\"', '')\n",
    "    text = text.strip()\n",
    "    return text\n",
    "\n",
    "df[\"final_description\"] = df[\"final_description\"].apply(clean_description)"
   ],
   "metadata": {
    "collapsed": false,
    "ExecuteTime": {
     "end_time": "2025-04-02T19:48:12.217576Z",
     "start_time": "2025-04-02T19:48:12.132451Z"
    }
   },
   "id": "d449feb06e37d48f",
   "execution_count": 315
  },
  {
   "cell_type": "code",
   "outputs": [
    {
     "data": {
      "text/plain": "Index(['id', 'job_id', 'title', 'location', 'salary', 'experience_level',\n       'job_type', 'employment_type', 'responsibilities', 'requirements',\n       'skills', 'benefits', 'company', 'description_criteria', 'language',\n       'title_en', 'final_description', 'final_title'],\n      dtype='object')"
     },
     "execution_count": 316,
     "metadata": {},
     "output_type": "execute_result"
    }
   ],
   "source": [
    "df.drop(columns=[\"description\", \"description_en\"], inplace=True)\n",
    "df.columns"
   ],
   "metadata": {
    "collapsed": false,
    "ExecuteTime": {
     "end_time": "2025-04-02T19:48:12.232139Z",
     "start_time": "2025-04-02T19:48:12.218299Z"
    }
   },
   "id": "76039353264717d",
   "execution_count": 316
  },
  {
   "cell_type": "code",
   "outputs": [],
   "source": [],
   "metadata": {
    "collapsed": false,
    "ExecuteTime": {
     "end_time": "2025-04-02T19:48:12.234250Z",
     "start_time": "2025-04-02T19:48:12.232866Z"
    }
   },
   "id": "97a628f054864275",
   "execution_count": 316
  },
  {
   "cell_type": "code",
   "outputs": [
    {
     "name": "stdout",
     "output_type": "stream",
     "text": [
      "1.  **Responsibilities:**\n",
      "    *   Learn about the principles of configuration, maintenance, and monitoring of production environments.\n",
      "    *   Learn the basics of automation using script languages.\n",
      "    *   Learn about technologies: Docker, Kubernetes, Ansible, Terraform, Gitlab, Confluence, Jenkins, OpenStack.\n",
      "    *   Likely involved in managing and administering complex IT systems.\n",
      "\n",
      "2.  **Requirements:**\n",
      "    *   Currently studying (implied by \"use your studies\").\n",
      "    *   Knowledge of Linux.\n",
      "    *   Ability to write scripts.\n",
      "    *   Interest in computing cloud, virtualization, or CI/CD.\n",
      "    *   Ability to demonstrate knowledge and skills in a job interview.\n",
      "    *   Must pass qualification tests.\n",
      "\n",
      "3.  **Skills:**\n",
      "    *   Linux\n",
      "    *   Scripting (unspecified language)\n",
      "    *   Docker\n",
      "    *   Kubernetes\n",
      "    *   Ansible\n",
      "    *   Terraform\n",
      "    *   Gitlab\n",
      "    *   Confluence\n",
      "    *   Jenkins\n",
      "    *   OpenStack\n",
      "    *   CI/CD knowledge (implied)\n",
      "    *   Problem-solving (implied)\n",
      "    *   Communication (implied, for interview)\n",
      "\n",
      "4.  **Benefits:**\n",
      "    *   Remuneration for each month of internship.\n",
      "    *   Paid 5 days of vacation.\n",
      "    *   Knowledge, skills, and experience gained under a mentor and experienced team.\n",
      "    *   Confirmation of participation in the internship.\n",
      "    *   Potential for employment after the internship.\n",
      "    *   Location options: Krakow, Katowice, Rzeszów.\n",
      "\n",
      "5.  **Experience Level:**\n",
      "    *   Internship\n",
      "\n",
      "6.  **Salary:**\n",
      "    no data\n"
     ]
    }
   ],
   "source": [
    "from google import genai\n",
    "\n",
    "dotenv_path = os.path.join(\"..\", \"scraping\", \".env\")\n",
    "load_dotenv(dotenv_path)\n",
    "\n",
    "gemini_key = os.getenv(\"GEMINI_API_KEY\")\n",
    "\n",
    "client = genai.Client(api_key=gemini_key)\n",
    "\n",
    "\n",
    "response = client.models.generate_content(\n",
    "    model=\"gemini-2.0-flash\", contents=\"\"\"\"From the following job description, extract the key data into the categories listed below. Be sure to include both explicit and implied details wherever relevant.\n",
    "\n",
    "    1. Responsibilities: List the main duties and tasks associated with the job. Include any actions or processes the person in this role would be expected to perform.\n",
    "\n",
    "    2. Requirements: Include both explicit and implied qualifications and expectations (e.g., knowledge of tools, relevant studies, etc.)\n",
    "\n",
    "    3. Skills: List the specific technical or soft skills required for the role. Focus on skills or tools mentioned directly or implied by the job description, including any programming languages, frameworks, or general abilities.\n",
    "\n",
    "    4. Benefits: List any benefits or perks mentioned in the job offer. This can include work environment, vacation days, career development opportunities, etc.\n",
    "\n",
    "    5. Experience Level: Identify the job level (e.g., Internship, Junior, Mid, Senior, Director, etc.). If not explicitly stated, infer the level based on other provided details.\n",
    "\n",
    "    6. Salary: Extract Extract salary information if mentioned. If the offer does not mention a salary, write ‘no data.’ and nothing else\n",
    "    \n",
    "     Job Description: Internship system engineer/ devops  'Do you want to use your studies and expand your competences in the area of \\u200b\\u200bIT infrastructure and Devops practices? You know Linux, you write scripts and you are interested in issues such as: computing cloud, virtualization or CI/CD? If you want to become a specialist in the area of \\u200b\\u200bmanagement and administration complex IT systems are an internship in the profile system engineer/devops is just for you.. Who is the Devops internship in Comarch?. Do you want to show off your projects? Super! In the application form you can attach links to your code repositories - we will gladly get to know them! What awaits you for an internship in Comarch? . : You will learn about the principles of configuration, maintenance and monitoring of production environments you will learn the basics of automation using script languages, you will be even more about technologies: Docker, Kubernetes, Ansible, Terraform, Gitlab, Confluence, Jenkins, OpenStack What I will gain at the internship at Comarch? . which will not go to the drawladyum order and remuneration for each month of internship - you do not work with us for free! Paid 5 days of vacation - on vacation, regeneration or laziness knowledge,. Skills and experience collected under the guidance of a mentor and an experienced team confirming participation in the internship of the best employment after the internship how to apply for an internship system engineer / devops in Comarch? Interior System engineer / devops sounds interesting for you? Apply now! You can choose: Krakow, Katowice, Rzeszów . Until 23:59. Remember - your application will be considered in only one profile and in one location. Make sure this internship profile corresponds to your skills and interests. Regardless of the decision, within a few days of submitting the application you will receive a message from us. Check your email! What next? In May, we will invite selected candidates for qualification tests.. Will you pass the test? From the internship you are only a job interview! It is time to demonstrate your knowledge and skills. Read our tips in which we reveal the secrets of a successful recruitment conversation and from July become an intern in Comarch!'\"\"\"\n",
    ")\n",
    "rest = response.text\n",
    "print(rest)"
   ],
   "metadata": {
    "collapsed": false,
    "ExecuteTime": {
     "end_time": "2025-04-02T19:49:19.337957Z",
     "start_time": "2025-04-02T19:49:16.779452Z"
    }
   },
   "id": "16eb97445b4ff2a3",
   "execution_count": 321
  },
  {
   "cell_type": "code",
   "outputs": [
    {
     "name": "stdout",
     "output_type": "stream",
     "text": [
      "1.  **Responsibilities:**\n",
      "    *   Learn about the principles of configuration, maintenance, and monitoring of production environments.\n",
      "    *   Learn the basics of automation using script languages.\n",
      "    *   Learn about technologies: Docker, Kubernetes, Ansible, Terraform, Gitlab, Confluence, Jenkins, OpenStack.\n",
      "    *   Likely involved in managing and administering complex IT systems.\n",
      "\n",
      "2.  **Requirements:**\n",
      "    *   Currently studying (implied by \"use your studies\").\n",
      "    *   Knowledge of Linux.\n",
      "    *   Ability to write scripts.\n",
      "    *   Interest in computing cloud, virtualization, or CI/CD.\n",
      "    *   Ability to demonstrate knowledge and skills in a job interview.\n",
      "    *   Must pass qualification tests.\n",
      "\n",
      "3.  **Skills:**\n",
      "    *   Linux\n",
      "    *   Scripting (unspecified language)\n",
      "    *   Docker\n",
      "    *   Kubernetes\n",
      "    *   Ansible\n",
      "    *   Terraform\n",
      "    *   Gitlab\n",
      "    *   Confluence\n",
      "    *   Jenkins\n",
      "    *   OpenStack\n",
      "    *   CI/CD knowledge (implied)\n",
      "    *   Problem-solving (implied)\n",
      "    *   Communication (implied, for interview)\n",
      "\n",
      "4.  **Benefits:**\n",
      "    *   Remuneration for each month of internship.\n",
      "    *   Paid 5 days of vacation.\n",
      "    *   Knowledge, skills, and experience gained under a mentor and experienced team.\n",
      "    *   Confirmation of participation in the internship.\n",
      "    *   Potential for employment after the internship.\n",
      "    *   Location options: Krakow, Katowice, Rzeszów.\n",
      "\n",
      "5.  **Experience Level:**\n",
      "    *   Internship\n",
      "\n",
      "6.  **Salary:**\n",
      "    no data\n",
      "\n",
      "**\n",
      "    no data\n"
     ]
    }
   ],
   "source": [
    "print(rest)\n",
    "responsibilities = re.search(r\"Responsibilities:([\\s\\S]+?)2\", rest).group(1)\n",
    "requirements = re.search(r\"Requirements:([\\s\\S]+?)3\", rest).group(1)\n",
    "skills = re.search(r\"Skills:([\\s\\S]+?)4\", rest).group(1)\n",
    "benefits = re.search(r\"Benefits:([\\s\\S]+?)5\", rest).group(1)\n",
    "experience_level = re.search(r\"Experience Level:([\\s\\S]+?)6\", rest).group(1)\n",
    "salary = re.search(r\"Salary:([\\s\\S]*)\", rest).group(1)\n",
    "print(salary)"
   ],
   "metadata": {
    "collapsed": false,
    "ExecuteTime": {
     "end_time": "2025-04-02T19:49:25.223687Z",
     "start_time": "2025-04-02T19:49:25.220656Z"
    }
   },
   "id": "d9d6947a5fdbb468",
   "execution_count": 322
  },
  {
   "cell_type": "code",
   "outputs": [],
   "source": [],
   "metadata": {
    "collapsed": false
   },
   "id": "f1e64f3d4386139e",
   "execution_count": null
  },
  {
   "cell_type": "code",
   "outputs": [],
   "source": [],
   "metadata": {
    "collapsed": false
   },
   "id": "5cec6b8a9aa1fdf8",
   "execution_count": null
  },
  {
   "cell_type": "code",
   "outputs": [],
   "source": [],
   "metadata": {
    "collapsed": false
   },
   "id": "3ede50c01bcb3020"
  }
 ],
 "metadata": {
  "kernelspec": {
   "display_name": "Python 3",
   "language": "python",
   "name": "python3"
  },
  "language_info": {
   "codemirror_mode": {
    "name": "ipython",
    "version": 2
   },
   "file_extension": ".py",
   "mimetype": "text/x-python",
   "name": "python",
   "nbconvert_exporter": "python",
   "pygments_lexer": "ipython2",
   "version": "2.7.6"
  }
 },
 "nbformat": 4,
 "nbformat_minor": 5
}
