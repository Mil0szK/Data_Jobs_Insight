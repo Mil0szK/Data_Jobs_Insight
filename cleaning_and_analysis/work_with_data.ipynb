{
 "cells": [
  {
   "cell_type": "code",
   "execution_count": 102,
   "id": "initial_id",
   "metadata": {
    "collapsed": true,
    "ExecuteTime": {
     "end_time": "2025-04-02T13:01:59.071325Z",
     "start_time": "2025-04-02T13:01:59.068862Z"
    }
   },
   "outputs": [],
   "source": [
    "import pandas as pd\n",
    "import os\n",
    "from dotenv import load_dotenv\n",
    "from sqlalchemy import create_engine, text\n",
    "from json import loads\n",
    "from requests import get\n",
    "import re\n",
    "from langdetect import detect"
   ]
  },
  {
   "cell_type": "code",
   "outputs": [],
   "source": [
    "# connect to the database\n",
    "\n",
    "dotenv_path = os.path.join(\"..\", \"scraping\", \".env\")\n",
    "load_dotenv(dotenv_path)\n",
    "DATABASE_URL = f\"postgresql://{os.getenv('DB_USER')}:{os.getenv('DB_PASSWORD')}@{os.getenv('DB_HOST')}:{os.getenv('DB_PORT')}/{os.getenv('DB_NAME')}\"\n",
    "\n",
    "engine = create_engine(DATABASE_URL)\n",
    "\n",
    "query = \"SELECT * FROM job_postings WHERE description IS NOT NULL;\"\n",
    "original_df = pd.read_sql(query, engine)\n",
    "df = original_df.copy()\n",
    "\n",
    "query2 =  \"\"\"\n",
    "    SELECT job_sources.*\n",
    "    FROM job_sources \n",
    "    INNER JOIN job_postings AS j \n",
    "    ON job_sources.job_id = j.job_id\n",
    "    WHERE j.description IS NOT NULL;\n",
    "\"\"\"\n",
    "original_df2 = pd.read_sql(query2, engine)\n",
    "df2 = original_df2.copy()"
   ],
   "metadata": {
    "collapsed": false,
    "ExecuteTime": {
     "end_time": "2025-04-02T13:01:59.871080Z",
     "start_time": "2025-04-02T13:01:59.098387Z"
    }
   },
   "id": "8a6f9c34488013ab",
   "execution_count": 103
  },
  {
   "cell_type": "code",
   "outputs": [
    {
     "data": {
      "text/plain": "       id      job_id                                              title  \\\n0    6538  4158196588                Rituals - Wholesale Intern (Warsaw)   \n1  361380  4186936564  Full-stack Developer (React, Node.js) / Projec...   \n2  298526  4188240566                    Główna Księgowa/Główny Księgowy   \n3  275327  4187444908                  Programista MS Dynamics 365BC/NAV   \n4  348481  4153864061                        Mid/Senior Python Developer   \n\n                                         location salary experience_level  \\\n0           Warsaw, Mazowieckie, Poland (On-site)   None             None   \n1  Bydgoszcz, Kujawsko-pomorskie, Poland (Remote)   None             None   \n2                Tychy, Śląskie, Poland (On-site)   None             None   \n3            Cracow, Małopolskie, Poland (Hybrid)   None             None   \n4                  Łódź, Łódzkie, Poland (Remote)   None             None   \n\n  job_type employment_type                                        description  \\\n0     None            None  W dziale Wholesale & Travel Retail dbamy o to,...   \n1     None            None  Cześć👋 Jesteśmy 50+ osobowym zespołem pragmaty...   \n2     None            None   What We Offer: At Magna, you can expect an en...   \n3     None            None  Nasz klient to renomowana firma z ponad 20-let...   \n4     None            None   Description & Requirements: Kogo szukamy: Doł...   \n\n  responsibilities requirements skills benefits                   company  \\\n0             None         None   None     None  Rituals Cosmetics Polska   \n1             None         None   None     None                    Exlabs   \n2             None         None   None     None       Magna International   \n3             None         None   None     None         ipracujzdalnie.pl   \n4             None         None   None     None                  Deloitte   \n\n                                description_criteria language  \\\n0  Seniority level Internship Employment type Int...       pl   \n1  Seniority level Mid-Senior level Employment ty...       pl   \n2  Seniority level Mid-Senior level Employment ty...       pl   \n3  Seniority level Entry level Employment type Fu...       pl   \n4  Seniority level Mid-Senior level Employment ty...       pl   \n\n                                      description_en  \\\n0  \"In the Wholesale section. \"As well as externa...   \n1  \"Hi👋 We are a 50-person team of pragmatics who...   \n2  \"What in Offer: AT Magna, You Can Expect An En...   \n3  \"Our client is a renowned company with over 20...   \n4  \"Description. \"Including a solid experience in...   \n\n                                            title_en  \n0            \"Rituals - Wholelesale Intern (Warsaw)\"  \n1  \"Full-Stack Developer (React, Node. JS) / Proj...  \n2                \"Chief accountant/chief accountant\"  \n3                 \"MS Dynamics 365BC/NAV programmer\"  \n4                      \"Mid/Senior Python Developer\"  ",
      "text/html": "<div>\n<style scoped>\n    .dataframe tbody tr th:only-of-type {\n        vertical-align: middle;\n    }\n\n    .dataframe tbody tr th {\n        vertical-align: top;\n    }\n\n    .dataframe thead th {\n        text-align: right;\n    }\n</style>\n<table border=\"1\" class=\"dataframe\">\n  <thead>\n    <tr style=\"text-align: right;\">\n      <th></th>\n      <th>id</th>\n      <th>job_id</th>\n      <th>title</th>\n      <th>location</th>\n      <th>salary</th>\n      <th>experience_level</th>\n      <th>job_type</th>\n      <th>employment_type</th>\n      <th>description</th>\n      <th>responsibilities</th>\n      <th>requirements</th>\n      <th>skills</th>\n      <th>benefits</th>\n      <th>company</th>\n      <th>description_criteria</th>\n      <th>language</th>\n      <th>description_en</th>\n      <th>title_en</th>\n    </tr>\n  </thead>\n  <tbody>\n    <tr>\n      <th>0</th>\n      <td>6538</td>\n      <td>4158196588</td>\n      <td>Rituals - Wholesale Intern (Warsaw)</td>\n      <td>Warsaw, Mazowieckie, Poland (On-site)</td>\n      <td>None</td>\n      <td>None</td>\n      <td>None</td>\n      <td>None</td>\n      <td>W dziale Wholesale &amp; Travel Retail dbamy o to,...</td>\n      <td>None</td>\n      <td>None</td>\n      <td>None</td>\n      <td>None</td>\n      <td>Rituals Cosmetics Polska</td>\n      <td>Seniority level Internship Employment type Int...</td>\n      <td>pl</td>\n      <td>\"In the Wholesale section. \"As well as externa...</td>\n      <td>\"Rituals - Wholelesale Intern (Warsaw)\"</td>\n    </tr>\n    <tr>\n      <th>1</th>\n      <td>361380</td>\n      <td>4186936564</td>\n      <td>Full-stack Developer (React, Node.js) / Projec...</td>\n      <td>Bydgoszcz, Kujawsko-pomorskie, Poland (Remote)</td>\n      <td>None</td>\n      <td>None</td>\n      <td>None</td>\n      <td>None</td>\n      <td>Cześć👋 Jesteśmy 50+ osobowym zespołem pragmaty...</td>\n      <td>None</td>\n      <td>None</td>\n      <td>None</td>\n      <td>None</td>\n      <td>Exlabs</td>\n      <td>Seniority level Mid-Senior level Employment ty...</td>\n      <td>pl</td>\n      <td>\"Hi👋 We are a 50-person team of pragmatics who...</td>\n      <td>\"Full-Stack Developer (React, Node. JS) / Proj...</td>\n    </tr>\n    <tr>\n      <th>2</th>\n      <td>298526</td>\n      <td>4188240566</td>\n      <td>Główna Księgowa/Główny Księgowy</td>\n      <td>Tychy, Śląskie, Poland (On-site)</td>\n      <td>None</td>\n      <td>None</td>\n      <td>None</td>\n      <td>None</td>\n      <td>What We Offer: At Magna, you can expect an en...</td>\n      <td>None</td>\n      <td>None</td>\n      <td>None</td>\n      <td>None</td>\n      <td>Magna International</td>\n      <td>Seniority level Mid-Senior level Employment ty...</td>\n      <td>pl</td>\n      <td>\"What in Offer: AT Magna, You Can Expect An En...</td>\n      <td>\"Chief accountant/chief accountant\"</td>\n    </tr>\n    <tr>\n      <th>3</th>\n      <td>275327</td>\n      <td>4187444908</td>\n      <td>Programista MS Dynamics 365BC/NAV</td>\n      <td>Cracow, Małopolskie, Poland (Hybrid)</td>\n      <td>None</td>\n      <td>None</td>\n      <td>None</td>\n      <td>None</td>\n      <td>Nasz klient to renomowana firma z ponad 20-let...</td>\n      <td>None</td>\n      <td>None</td>\n      <td>None</td>\n      <td>None</td>\n      <td>ipracujzdalnie.pl</td>\n      <td>Seniority level Entry level Employment type Fu...</td>\n      <td>pl</td>\n      <td>\"Our client is a renowned company with over 20...</td>\n      <td>\"MS Dynamics 365BC/NAV programmer\"</td>\n    </tr>\n    <tr>\n      <th>4</th>\n      <td>348481</td>\n      <td>4153864061</td>\n      <td>Mid/Senior Python Developer</td>\n      <td>Łódź, Łódzkie, Poland (Remote)</td>\n      <td>None</td>\n      <td>None</td>\n      <td>None</td>\n      <td>None</td>\n      <td>Description &amp; Requirements: Kogo szukamy: Doł...</td>\n      <td>None</td>\n      <td>None</td>\n      <td>None</td>\n      <td>None</td>\n      <td>Deloitte</td>\n      <td>Seniority level Mid-Senior level Employment ty...</td>\n      <td>pl</td>\n      <td>\"Description. \"Including a solid experience in...</td>\n      <td>\"Mid/Senior Python Developer\"</td>\n    </tr>\n  </tbody>\n</table>\n</div>"
     },
     "execution_count": 104,
     "metadata": {},
     "output_type": "execute_result"
    }
   ],
   "source": [
    "df.head()"
   ],
   "metadata": {
    "collapsed": false,
    "ExecuteTime": {
     "end_time": "2025-04-02T13:01:59.880989Z",
     "start_time": "2025-04-02T13:01:59.872112Z"
    }
   },
   "id": "5a0a7057e9221e5b",
   "execution_count": 104
  },
  {
   "cell_type": "code",
   "outputs": [
    {
     "data": {
      "text/plain": "   id      job_id    source                                        job_url  \\\n0   1  4158353862  LinkedIn  https://www.linkedin.com/jobs/view/4158353862   \n1   2  4138407547  LinkedIn  https://www.linkedin.com/jobs/view/4138407547   \n2   3  4144364769  LinkedIn  https://www.linkedin.com/jobs/view/4144364769   \n3   4  4083706042  LinkedIn  https://www.linkedin.com/jobs/view/4083706042   \n4   5  4154765012  LinkedIn  https://www.linkedin.com/jobs/view/4154765012   \n\n  date_posted  is_active  \n0  2025-02-21       True  \n1  2025-02-21       True  \n2  2025-02-21       True  \n3  2025-02-21       True  \n4  2025-02-21       True  ",
      "text/html": "<div>\n<style scoped>\n    .dataframe tbody tr th:only-of-type {\n        vertical-align: middle;\n    }\n\n    .dataframe tbody tr th {\n        vertical-align: top;\n    }\n\n    .dataframe thead th {\n        text-align: right;\n    }\n</style>\n<table border=\"1\" class=\"dataframe\">\n  <thead>\n    <tr style=\"text-align: right;\">\n      <th></th>\n      <th>id</th>\n      <th>job_id</th>\n      <th>source</th>\n      <th>job_url</th>\n      <th>date_posted</th>\n      <th>is_active</th>\n    </tr>\n  </thead>\n  <tbody>\n    <tr>\n      <th>0</th>\n      <td>1</td>\n      <td>4158353862</td>\n      <td>LinkedIn</td>\n      <td>https://www.linkedin.com/jobs/view/4158353862</td>\n      <td>2025-02-21</td>\n      <td>True</td>\n    </tr>\n    <tr>\n      <th>1</th>\n      <td>2</td>\n      <td>4138407547</td>\n      <td>LinkedIn</td>\n      <td>https://www.linkedin.com/jobs/view/4138407547</td>\n      <td>2025-02-21</td>\n      <td>True</td>\n    </tr>\n    <tr>\n      <th>2</th>\n      <td>3</td>\n      <td>4144364769</td>\n      <td>LinkedIn</td>\n      <td>https://www.linkedin.com/jobs/view/4144364769</td>\n      <td>2025-02-21</td>\n      <td>True</td>\n    </tr>\n    <tr>\n      <th>3</th>\n      <td>4</td>\n      <td>4083706042</td>\n      <td>LinkedIn</td>\n      <td>https://www.linkedin.com/jobs/view/4083706042</td>\n      <td>2025-02-21</td>\n      <td>True</td>\n    </tr>\n    <tr>\n      <th>4</th>\n      <td>5</td>\n      <td>4154765012</td>\n      <td>LinkedIn</td>\n      <td>https://www.linkedin.com/jobs/view/4154765012</td>\n      <td>2025-02-21</td>\n      <td>True</td>\n    </tr>\n  </tbody>\n</table>\n</div>"
     },
     "execution_count": 105,
     "metadata": {},
     "output_type": "execute_result"
    }
   ],
   "source": [
    "df2.head()"
   ],
   "metadata": {
    "collapsed": false,
    "ExecuteTime": {
     "end_time": "2025-04-02T13:01:59.886518Z",
     "start_time": "2025-04-02T13:01:59.881754Z"
    }
   },
   "id": "5da08937b48dae01",
   "execution_count": 105
  },
  {
   "cell_type": "code",
   "outputs": [],
   "source": [
    "def detect_language(text):\n",
    "    try:\n",
    "        return detect(text)\n",
    "    except:\n",
    "        return \"unknown\""
   ],
   "metadata": {
    "collapsed": false,
    "ExecuteTime": {
     "end_time": "2025-04-02T13:01:59.889413Z",
     "start_time": "2025-04-02T13:01:59.887589Z"
    }
   },
   "id": "41165e08935242ae",
   "execution_count": 106
  },
  {
   "cell_type": "code",
   "outputs": [],
   "source": [
    "def update_description(text):\n",
    "    sentences = re.split(r'(?<=[a-ząęśćźżół])(?=[A-ZĄĘŚĆŹŻÓŁ])', text)\n",
    "    return \", \".join(sentences)\n",
    "\n",
    "df[\"description\"] = df[\"description\"].apply(update_description)"
   ],
   "metadata": {
    "collapsed": false,
    "ExecuteTime": {
     "end_time": "2025-04-02T13:02:02.008697Z",
     "start_time": "2025-04-02T13:01:59.889931Z"
    }
   },
   "id": "48e9aa97c2123c3d",
   "execution_count": 107
  },
  {
   "cell_type": "code",
   "outputs": [],
   "source": [
    "\n",
    "\n",
    "def split_text(text, max_length=450):\n",
    "    \"\"\"Splits text into chunks, ensuring each is under the max_length.\"\"\"\n",
    "    sentences = re.split(r'([.,;])', text)\n",
    "    chunks = []\n",
    "    temp_chunk = \"\"\n",
    "\n",
    "    for sentence in sentences:\n",
    "        if temp_chunk and len(temp_chunk) + len(sentence) + 1 > max_length:\n",
    "            chunks.append(temp_chunk.strip())\n",
    "            temp_chunk = sentence\n",
    "        else:\n",
    "            temp_chunk = f\"{temp_chunk} {sentence}\".strip() if temp_chunk else sentence\n",
    "    if temp_chunk:\n",
    "        chunks.append(temp_chunk.strip())\n",
    "    \n",
    "    return chunks\n",
    "\n",
    "\n",
    "def translate_text(text):\n",
    "    \"\"\"Translates text using the free Google API.\"\"\"\n",
    "    url = f'https://translate.googleapis.com/translate_a/single?client=gtx&dt=t&sl=pl&tl=en&q=\"{str(text)}\"'\n",
    "    try:\n",
    "        response = get(url)\n",
    "        translated_json = loads(response.text)\n",
    "        return translated_json[0][0][0] if translated_json else text\n",
    "    except Exception as e:\n",
    "        print(f\"Error translating: {e}\")\n",
    "        return text\n",
    "\n",
    "def translate_full_text(text):\n",
    "    \"\"\"Splits, translates, and reconstructs the translated text.\"\"\"\n",
    "    chunks = split_text(text)\n",
    "    translated_chunks = [translate_text(chunk) for chunk in chunks]\n",
    "    return \". \".join(translated_chunks)"
   ],
   "metadata": {
    "collapsed": false,
    "ExecuteTime": {
     "end_time": "2025-04-02T13:02:02.013106Z",
     "start_time": "2025-04-02T13:02:02.009326Z"
    }
   },
   "id": "bb9e48e9d8942358",
   "execution_count": 108
  },
  {
   "cell_type": "code",
   "outputs": [
    {
     "name": "stdout",
     "output_type": "stream",
     "text": [
      "Total Polish descriptions to translate: 0\n",
      "No Polish descriptions to translate.\n"
     ]
    }
   ],
   "source": [
    "from tqdm import tqdm\n",
    "from sqlalchemy.exc import OperationalError\n",
    "import time\n",
    "import sys\n",
    "import math\n",
    "tqdm.pandas()\n",
    "\n",
    "with engine.connect() as connection:\n",
    "    connection.execute(text(\"ALTER TABLE job_postings ADD COLUMN IF NOT EXISTS description_en TEXT;\"))\n",
    "    connection.execute(text(\"ALTER TABLE job_postings ADD COLUMN IF NOT EXISTS language VARCHAR(10);\"))\n",
    "\n",
    "    connection.commit()\n",
    "\n",
    "df = pd.read_sql(\"SELECT * FROM job_postings WHERE description IS NOT NULL;\", engine)\n",
    "df[\"language\"] = df[\"language\"].fillna('')\n",
    "\n",
    "\n",
    "missing_language_rows = df[df[\"language\"] == \"\"]\n",
    "if not missing_language_rows.empty:\n",
    "    print(f\"Detecting language for {len(missing_language_rows)} descriptions...\")\n",
    "    df.loc[df[\"language\"] == \"\", \"language\"] = df.loc[df[\"language\"] == \"\", \"description\"].apply(detect_language)\n",
    "\n",
    "    with engine.begin() as conn:\n",
    "        for _, row in df[df[\"language\"] != \"\"].iterrows():\n",
    "            conn.execute(\n",
    "                text(\"UPDATE job_postings SET language = :language WHERE job_id = :job_id\"),\n",
    "                {\"language\": row[\"language\"], \"job_id\": row[\"job_id\"]}\n",
    "            )\n",
    "\n",
    "df[\"description_en\"] = df.get(\"description_en\", pd.Series([None]*len(df)))\n",
    "\n",
    "df_to_translate = df[(df[\"language\"] == \"pl\") & (df[\"description_en\"].isnull())].copy()\n",
    "total = len(df_to_translate)\n",
    "print(f\"Total Polish descriptions to translate: {total}\")\n",
    "\n",
    "skip = False\n",
    "if total < 5:\n",
    "    print(\"No Polish descriptions to translate.\")\n",
    "    skip = True\n",
    "\n",
    "if not skip:\n",
    "    chunk_size = math.ceil(total / 25)\n",
    "    \n",
    "    for i in range(0, total, chunk_size):\n",
    "        chunk = df_to_translate.iloc[i:i+chunk_size].copy()\n",
    "        print(f\"\\n🔸 Translating chunk {i//chunk_size + 1}/25\")\n",
    "        time.sleep(3)\n",
    "        chunk[\"translated_description\"] = chunk[\"description\"].progress_apply(translate_full_text)\n",
    "    \n",
    "        # Save to DB\n",
    "        for _, row in chunk.iterrows():\n",
    "            try:\n",
    "                with engine.begin() as conn:\n",
    "                    conn.execute(\n",
    "                        text(\"UPDATE job_postings SET description_en = :desc_en WHERE job_id = :job_id\"),\n",
    "                        {\"desc_en\": row[\"translated_description\"], \"job_id\": row[\"job_id\"]}\n",
    "                    )\n",
    "            except OperationalError as e:\n",
    "                print(f\"OperationalError for job_id={row['job_id']}: {e}\")\n",
    "                time.sleep(3)\n",
    "    \n",
    "        print(f\"Chunk {i//chunk_size + 1} saved to database.\")\n"
   ],
   "metadata": {
    "collapsed": false,
    "ExecuteTime": {
     "end_time": "2025-04-02T13:02:02.681793Z",
     "start_time": "2025-04-02T13:02:02.014007Z"
    }
   },
   "id": "f3d347c1548f64da",
   "execution_count": 109
  },
  {
   "cell_type": "code",
   "outputs": [],
   "source": [
    "df[\"final_description\"] = df.apply(lambda row: row[\"description_en\"] if pd.notnull(row[\"description_en\"]) else row[\"description\"], axis=1)"
   ],
   "metadata": {
    "collapsed": false,
    "ExecuteTime": {
     "end_time": "2025-04-02T13:02:02.822754Z",
     "start_time": "2025-04-02T13:02:02.682631Z"
    }
   },
   "id": "6b712061ac21379b",
   "execution_count": 110
  },
  {
   "cell_type": "code",
   "outputs": [
    {
     "data": {
      "text/plain": "       id      job_id                                              title  \\\n0    6538  4158196588                Rituals - Wholesale Intern (Warsaw)   \n1  361380  4186936564  Full-stack Developer (React, Node.js) / Projec...   \n2  298526  4188240566                    Główna Księgowa/Główny Księgowy   \n3  275327  4187444908                  Programista MS Dynamics 365BC/NAV   \n4  348481  4153864061                        Mid/Senior Python Developer   \n\n                                         location salary experience_level  \\\n0           Warsaw, Mazowieckie, Poland (On-site)   None             None   \n1  Bydgoszcz, Kujawsko-pomorskie, Poland (Remote)   None             None   \n2                Tychy, Śląskie, Poland (On-site)   None             None   \n3            Cracow, Małopolskie, Poland (Hybrid)   None             None   \n4                  Łódź, Łódzkie, Poland (Remote)   None             None   \n\n  job_type employment_type                                        description  \\\n0     None            None  W dziale Wholesale & Travel Retail dbamy o to,...   \n1     None            None  Cześć👋 Jesteśmy 50+ osobowym zespołem pragmaty...   \n2     None            None   What We Offer: At Magna, you can expect an en...   \n3     None            None  Nasz klient to renomowana firma z ponad 20-let...   \n4     None            None   Description & Requirements: Kogo szukamy: Doł...   \n\n  responsibilities requirements skills benefits                   company  \\\n0             None         None   None     None  Rituals Cosmetics Polska   \n1             None         None   None     None                    Exlabs   \n2             None         None   None     None       Magna International   \n3             None         None   None     None         ipracujzdalnie.pl   \n4             None         None   None     None                  Deloitte   \n\n                                description_criteria language  \\\n0  Seniority level Internship Employment type Int...       pl   \n1  Seniority level Mid-Senior level Employment ty...       pl   \n2  Seniority level Mid-Senior level Employment ty...       pl   \n3  Seniority level Entry level Employment type Fu...       pl   \n4  Seniority level Mid-Senior level Employment ty...       pl   \n\n                                      description_en  \\\n0  \"In the Wholesale section. \"As well as externa...   \n1  \"Hi👋 We are a 50-person team of pragmatics who...   \n2  \"What in Offer: AT Magna, You Can Expect An En...   \n3  \"Our client is a renowned company with over 20...   \n4  \"Description. \"Including a solid experience in...   \n\n                                            title_en  \\\n0            \"Rituals - Wholelesale Intern (Warsaw)\"   \n1  \"Full-Stack Developer (React, Node. JS) / Proj...   \n2                \"Chief accountant/chief accountant\"   \n3                 \"MS Dynamics 365BC/NAV programmer\"   \n4                      \"Mid/Senior Python Developer\"   \n\n                                   final_description  \n0  \"In the Wholesale section. \"As well as externa...  \n1  \"Hi👋 We are a 50-person team of pragmatics who...  \n2  \"What in Offer: AT Magna, You Can Expect An En...  \n3  \"Our client is a renowned company with over 20...  \n4  \"Description. \"Including a solid experience in...  ",
      "text/html": "<div>\n<style scoped>\n    .dataframe tbody tr th:only-of-type {\n        vertical-align: middle;\n    }\n\n    .dataframe tbody tr th {\n        vertical-align: top;\n    }\n\n    .dataframe thead th {\n        text-align: right;\n    }\n</style>\n<table border=\"1\" class=\"dataframe\">\n  <thead>\n    <tr style=\"text-align: right;\">\n      <th></th>\n      <th>id</th>\n      <th>job_id</th>\n      <th>title</th>\n      <th>location</th>\n      <th>salary</th>\n      <th>experience_level</th>\n      <th>job_type</th>\n      <th>employment_type</th>\n      <th>description</th>\n      <th>responsibilities</th>\n      <th>requirements</th>\n      <th>skills</th>\n      <th>benefits</th>\n      <th>company</th>\n      <th>description_criteria</th>\n      <th>language</th>\n      <th>description_en</th>\n      <th>title_en</th>\n      <th>final_description</th>\n    </tr>\n  </thead>\n  <tbody>\n    <tr>\n      <th>0</th>\n      <td>6538</td>\n      <td>4158196588</td>\n      <td>Rituals - Wholesale Intern (Warsaw)</td>\n      <td>Warsaw, Mazowieckie, Poland (On-site)</td>\n      <td>None</td>\n      <td>None</td>\n      <td>None</td>\n      <td>None</td>\n      <td>W dziale Wholesale &amp; Travel Retail dbamy o to,...</td>\n      <td>None</td>\n      <td>None</td>\n      <td>None</td>\n      <td>None</td>\n      <td>Rituals Cosmetics Polska</td>\n      <td>Seniority level Internship Employment type Int...</td>\n      <td>pl</td>\n      <td>\"In the Wholesale section. \"As well as externa...</td>\n      <td>\"Rituals - Wholelesale Intern (Warsaw)\"</td>\n      <td>\"In the Wholesale section. \"As well as externa...</td>\n    </tr>\n    <tr>\n      <th>1</th>\n      <td>361380</td>\n      <td>4186936564</td>\n      <td>Full-stack Developer (React, Node.js) / Projec...</td>\n      <td>Bydgoszcz, Kujawsko-pomorskie, Poland (Remote)</td>\n      <td>None</td>\n      <td>None</td>\n      <td>None</td>\n      <td>None</td>\n      <td>Cześć👋 Jesteśmy 50+ osobowym zespołem pragmaty...</td>\n      <td>None</td>\n      <td>None</td>\n      <td>None</td>\n      <td>None</td>\n      <td>Exlabs</td>\n      <td>Seniority level Mid-Senior level Employment ty...</td>\n      <td>pl</td>\n      <td>\"Hi👋 We are a 50-person team of pragmatics who...</td>\n      <td>\"Full-Stack Developer (React, Node. JS) / Proj...</td>\n      <td>\"Hi👋 We are a 50-person team of pragmatics who...</td>\n    </tr>\n    <tr>\n      <th>2</th>\n      <td>298526</td>\n      <td>4188240566</td>\n      <td>Główna Księgowa/Główny Księgowy</td>\n      <td>Tychy, Śląskie, Poland (On-site)</td>\n      <td>None</td>\n      <td>None</td>\n      <td>None</td>\n      <td>None</td>\n      <td>What We Offer: At Magna, you can expect an en...</td>\n      <td>None</td>\n      <td>None</td>\n      <td>None</td>\n      <td>None</td>\n      <td>Magna International</td>\n      <td>Seniority level Mid-Senior level Employment ty...</td>\n      <td>pl</td>\n      <td>\"What in Offer: AT Magna, You Can Expect An En...</td>\n      <td>\"Chief accountant/chief accountant\"</td>\n      <td>\"What in Offer: AT Magna, You Can Expect An En...</td>\n    </tr>\n    <tr>\n      <th>3</th>\n      <td>275327</td>\n      <td>4187444908</td>\n      <td>Programista MS Dynamics 365BC/NAV</td>\n      <td>Cracow, Małopolskie, Poland (Hybrid)</td>\n      <td>None</td>\n      <td>None</td>\n      <td>None</td>\n      <td>None</td>\n      <td>Nasz klient to renomowana firma z ponad 20-let...</td>\n      <td>None</td>\n      <td>None</td>\n      <td>None</td>\n      <td>None</td>\n      <td>ipracujzdalnie.pl</td>\n      <td>Seniority level Entry level Employment type Fu...</td>\n      <td>pl</td>\n      <td>\"Our client is a renowned company with over 20...</td>\n      <td>\"MS Dynamics 365BC/NAV programmer\"</td>\n      <td>\"Our client is a renowned company with over 20...</td>\n    </tr>\n    <tr>\n      <th>4</th>\n      <td>348481</td>\n      <td>4153864061</td>\n      <td>Mid/Senior Python Developer</td>\n      <td>Łódź, Łódzkie, Poland (Remote)</td>\n      <td>None</td>\n      <td>None</td>\n      <td>None</td>\n      <td>None</td>\n      <td>Description &amp; Requirements: Kogo szukamy: Doł...</td>\n      <td>None</td>\n      <td>None</td>\n      <td>None</td>\n      <td>None</td>\n      <td>Deloitte</td>\n      <td>Seniority level Mid-Senior level Employment ty...</td>\n      <td>pl</td>\n      <td>\"Description. \"Including a solid experience in...</td>\n      <td>\"Mid/Senior Python Developer\"</td>\n      <td>\"Description. \"Including a solid experience in...</td>\n    </tr>\n  </tbody>\n</table>\n</div>"
     },
     "execution_count": 111,
     "metadata": {},
     "output_type": "execute_result"
    }
   ],
   "source": [
    "df.head()"
   ],
   "metadata": {
    "collapsed": false,
    "ExecuteTime": {
     "end_time": "2025-04-02T13:02:02.831759Z",
     "start_time": "2025-04-02T13:02:02.823645Z"
    }
   },
   "id": "7f8718875c1b0c91",
   "execution_count": 111
  },
  {
   "cell_type": "code",
   "outputs": [],
   "source": [],
   "metadata": {
    "collapsed": false,
    "ExecuteTime": {
     "end_time": "2025-04-02T13:02:02.834943Z",
     "start_time": "2025-04-02T13:02:02.833509Z"
    }
   },
   "id": "f4f40e0bc510885",
   "execution_count": 111
  },
  {
   "cell_type": "code",
   "outputs": [
    {
     "data": {
      "text/plain": "'\"In the Wholesale section. \"As well as external partners. Wholesale Intern will help the team in the areas of: data management, communication, analyzes and support of Back Office. If you want to learn more about sales both off - and online,\". \"This is an ideal internship for you! Your tasks: data management and their analysis based on reports in the Excel program - the basis of your activities arartly preparing files with data - tracking inputs and going out to the customer, updating basic data and support for planning inquiries. Ordering marketing materials from agencies for 7 markets.\". \"Taking care of the database - collecting information from Account Managers and Marketing Department. Creating monthly marketing reports. Support in management and orders management, daily control/marketing control on our partners\\' pages. Updating documents related to wholesale sales. Inspire knowledge and skills! Your profile: You have a ground knowledge and skills in the field of Excel programs . \"Word, Power Point and database management tools; experience in a branded retail environment is preferred; you have strong verbal and written communication skills, attention to detail and accuracy; you can organize your work well and you have the ability to coordinate several projects at the same time; communicatively you use English in speech and writing; you have the opportunity to work min.\". \"3-4 days a week. Benefits of working in the Rituals store Training and developmental opportunities for the bonus system for Ritualspotka Integration Products Team Division for medical care\"'"
     },
     "execution_count": 112,
     "metadata": {},
     "output_type": "execute_result"
    }
   ],
   "source": [
    "df[\"final_description\"].iloc[0]"
   ],
   "metadata": {
    "collapsed": false,
    "ExecuteTime": {
     "end_time": "2025-04-02T13:02:02.838064Z",
     "start_time": "2025-04-02T13:02:02.835549Z"
    }
   },
   "id": "dc1b29c2bbc33cdc",
   "execution_count": 112
  },
  {
   "cell_type": "code",
   "outputs": [
    {
     "data": {
      "text/plain": "Index([ 2183,  5292, 13942, 14471, 14477, 19765, 19964, 20402, 27594, 27686,\n       28026, 29146],\n      dtype='int64')"
     },
     "execution_count": 113,
     "metadata": {},
     "output_type": "execute_result"
    }
   ],
   "source": [
    "df[df[\"description_criteria\"].isnull()].index\n"
   ],
   "metadata": {
    "collapsed": false,
    "ExecuteTime": {
     "end_time": "2025-04-02T13:02:02.845032Z",
     "start_time": "2025-04-02T13:02:02.838778Z"
    }
   },
   "id": "2c3623b97185c1ac",
   "execution_count": 113
  },
  {
   "cell_type": "code",
   "outputs": [
    {
     "data": {
      "text/plain": "id                                                                   9208\njob_id                                                         4148877033\ntitle                                          Product Operations Analyst\nlocation                             Warsaw, Mazowieckie, Poland (Hybrid)\nsalary                                                               None\nexperience_level                                                     None\njob_type                                                             None\nemployment_type                                                      None\ndescription              CBRE Advisory (CBRE sp. z o. o.) is a Polish ...\nresponsibilities                                                     None\nrequirements                                                         None\nskills                                                               None\nbenefits                                                             None\ncompany                                                       CBRE Poland\ndescription_criteria    Seniority level Mid-Senior level Employment ty...\nlanguage                                                               en\ndescription_en                                                       None\ntitle_en                                                             None\nfinal_description        CBRE Advisory (CBRE sp. z o. o.) is a Polish ...\nName: 4913, dtype: object"
     },
     "execution_count": 114,
     "metadata": {},
     "output_type": "execute_result"
    }
   ],
   "source": [
    "df.iloc[4913]\n"
   ],
   "metadata": {
    "collapsed": false,
    "ExecuteTime": {
     "end_time": "2025-04-02T13:02:02.849237Z",
     "start_time": "2025-04-02T13:02:02.845921Z"
    }
   },
   "id": "acf063fb70f1e59e",
   "execution_count": 114
  },
  {
   "cell_type": "code",
   "outputs": [
    {
     "data": {
      "text/plain": "id                                                                  20371\njob_id                                                         4078042354\ntitle                   Senior Cloud Solutions Integrations Engineer, ...\nlocation                            Warsaw, Mazowieckie, Poland (On-site)\nsalary                                                               None\nexperience_level                                                     None\njob_type                                                             None\nemployment_type                                                      None\ndescription              Job Description: We are seeking for a highly ...\nresponsibilities                                                     None\nrequirements                                                         None\nskills                                                               None\nbenefits                                                             None\ncompany                                                            Oracle\ndescription_criteria    Seniority level Mid-Senior level Employment ty...\nlanguage                                                               en\ndescription_en                                                       None\ntitle_en                                                             None\nfinal_description        Job Description: We are seeking for a highly ...\nName: 4914, dtype: object"
     },
     "execution_count": 115,
     "metadata": {},
     "output_type": "execute_result"
    }
   ],
   "source": [
    "df.drop(index=df[df[\"description_criteria\"].isnull()].index, inplace=True)\n",
    "df.iloc[4913]"
   ],
   "metadata": {
    "collapsed": false,
    "ExecuteTime": {
     "end_time": "2025-04-02T13:02:02.866023Z",
     "start_time": "2025-04-02T13:02:02.849976Z"
    }
   },
   "id": "de61f266b26090ee",
   "execution_count": 115
  },
  {
   "cell_type": "code",
   "outputs": [
    {
     "data": {
      "text/plain": "job_type\nHybrid     9553\nRemote     8981\nOn-site    8612\nName: count, dtype: int64"
     },
     "execution_count": 116,
     "metadata": {},
     "output_type": "execute_result"
    }
   ],
   "source": [
    "# Extracting job type\n",
    "def extract_job_type(text):\n",
    "    result = []\n",
    "    if \"remote\" in text.lower():\n",
    "        result.append(\"Remote\")\n",
    "    elif \"hybrid\" in text.lower():\n",
    "        result.append(\"Hybrid\")\n",
    "    elif \"on-site\" in text.lower() or \"office\" in text.lower():\n",
    "        result.append(\"On-site\")\n",
    "    return \", \".join(result) if result else None\n",
    "\n",
    "\n",
    "df[\"job_type\"] = df[\"location\"].apply(extract_job_type)\n",
    "df[\"job_type\"].value_counts()"
   ],
   "metadata": {
    "collapsed": false,
    "ExecuteTime": {
     "end_time": "2025-04-02T13:02:02.888513Z",
     "start_time": "2025-04-02T13:02:02.866795Z"
    }
   },
   "id": "19aa30f03420c285",
   "execution_count": 116
  },
  {
   "cell_type": "code",
   "outputs": [
    {
     "name": "stdout",
     "output_type": "stream",
     "text": [
      "2395\n"
     ]
    },
    {
     "data": {
      "text/plain": "final_description\nRemote     768\nHybrid     535\nOn-site    475\nName: count, dtype: int64"
     },
     "execution_count": 117,
     "metadata": {},
     "output_type": "execute_result"
    }
   ],
   "source": [
    "print(df[\"job_type\"].isnull().sum())\n",
    "\n",
    "df[\"final_description\"][df[\"job_type\"].isnull()].apply(extract_job_type).value_counts()\n"
   ],
   "metadata": {
    "collapsed": false,
    "ExecuteTime": {
     "end_time": "2025-04-02T13:02:03.035043Z",
     "start_time": "2025-04-02T13:02:02.889233Z"
    }
   },
   "id": "7cac44833bf437e",
   "execution_count": 117
  },
  {
   "cell_type": "code",
   "outputs": [
    {
     "name": "stdout",
     "output_type": "stream",
     "text": [
      "617\n"
     ]
    }
   ],
   "source": [
    "df[\"job_type\"] = df[\"job_type\"].fillna(df[\"final_description\"].apply(extract_job_type))\n",
    "print(df[\"job_type\"].isnull().sum())\n"
   ],
   "metadata": {
    "collapsed": false,
    "ExecuteTime": {
     "end_time": "2025-04-02T13:02:04.507606Z",
     "start_time": "2025-04-02T13:02:03.035766Z"
    }
   },
   "id": "30d35dc297cb9619",
   "execution_count": 118
  },
  {
   "cell_type": "code",
   "outputs": [
    {
     "data": {
      "text/plain": "employment_type\nFull-time              25685\nContract                2515\nPart-time                412\nContract, Full-time        2\nName: count, dtype: int64"
     },
     "execution_count": 119,
     "metadata": {},
     "output_type": "execute_result"
    }
   ],
   "source": [
    "def extract_employment_type(text):\n",
    "    result = []\n",
    "    if \"contract\" in text.lower():\n",
    "        result.append(\"Contract\")\n",
    "    if \"full-time\" in text.lower():\n",
    "        result.append(\"Full-time\")\n",
    "    if \"part-time\" in text.lower():\n",
    "        result.append(\"Part-time\")\n",
    "    if \"b2b\" in text.lower():\n",
    "        result.append(\"B2B\")\n",
    "    \n",
    "    return \", \".join(result) if result else None\n",
    "\n",
    "df[\"employment_type\"] = df[\"description_criteria\"].apply(extract_employment_type)\n",
    "df[\"employment_type\"].value_counts()\n"
   ],
   "metadata": {
    "collapsed": false,
    "ExecuteTime": {
     "end_time": "2025-04-02T13:02:04.537649Z",
     "start_time": "2025-04-02T13:02:04.508438Z"
    }
   },
   "id": "5601cb1eee27588e",
   "execution_count": 119
  },
  {
   "cell_type": "code",
   "outputs": [
    {
     "name": "stdout",
     "output_type": "stream",
     "text": [
      "927\n"
     ]
    },
    {
     "data": {
      "text/plain": "final_description\nContract                          176\nContract, Full-time                43\nFull-time                          33\nContract, B2B                      14\nPart-time                           8\nB2B                                 7\nContract, Part-time                 6\nFull-time, Part-time                6\nContract, Full-time, Part-time      5\nName: count, dtype: int64"
     },
     "execution_count": 120,
     "metadata": {},
     "output_type": "execute_result"
    }
   ],
   "source": [
    "print(df[\"employment_type\"].isnull().sum())\n",
    "\n",
    "df[\"final_description\"][df[\"employment_type\"].isnull()].apply(extract_employment_type).value_counts()"
   ],
   "metadata": {
    "collapsed": false,
    "ExecuteTime": {
     "end_time": "2025-04-02T13:02:04.595647Z",
     "start_time": "2025-04-02T13:02:04.538317Z"
    }
   },
   "id": "9f8cc8109c324b65",
   "execution_count": 120
  },
  {
   "cell_type": "code",
   "outputs": [
    {
     "name": "stdout",
     "output_type": "stream",
     "text": [
      "629\n"
     ]
    }
   ],
   "source": [
    "df[\"employment_type\"] = df[\"employment_type\"].fillna(df[\"final_description\"].apply(extract_employment_type))\n",
    "\n",
    "print(df[\"employment_type\"].isnull().sum())"
   ],
   "metadata": {
    "collapsed": false,
    "ExecuteTime": {
     "end_time": "2025-04-02T13:02:06.454438Z",
     "start_time": "2025-04-02T13:02:04.596458Z"
    }
   },
   "id": "3d2e8be90f6a5f57",
   "execution_count": 121
  },
  {
   "cell_type": "code",
   "outputs": [
    {
     "data": {
      "text/plain": "       id      job_id                                              title  \\\n0    6538  4158196588                Rituals - Wholesale Intern (Warsaw)   \n1  361380  4186936564  Full-stack Developer (React, Node.js) / Projec...   \n2  298526  4188240566                    Główna Księgowa/Główny Księgowy   \n3  275327  4187444908                  Programista MS Dynamics 365BC/NAV   \n4  348481  4153864061                        Mid/Senior Python Developer   \n\n                                         location salary experience_level  \\\n0           Warsaw, Mazowieckie, Poland (On-site)   None             None   \n1  Bydgoszcz, Kujawsko-pomorskie, Poland (Remote)   None             None   \n2                Tychy, Śląskie, Poland (On-site)   None             None   \n3            Cracow, Małopolskie, Poland (Hybrid)   None             None   \n4                  Łódź, Łódzkie, Poland (Remote)   None             None   \n\n  job_type employment_type                                        description  \\\n0  On-site            None  W dziale Wholesale & Travel Retail dbamy o to,...   \n1   Remote       Full-time  Cześć👋 Jesteśmy 50+ osobowym zespołem pragmaty...   \n2  On-site       Full-time   What We Offer: At Magna, you can expect an en...   \n3   Hybrid       Full-time  Nasz klient to renomowana firma z ponad 20-let...   \n4   Remote       Full-time   Description & Requirements: Kogo szukamy: Doł...   \n\n  responsibilities requirements skills benefits                   company  \\\n0             None         None   None     None  Rituals Cosmetics Polska   \n1             None         None   None     None                    Exlabs   \n2             None         None   None     None       Magna International   \n3             None         None   None     None         ipracujzdalnie.pl   \n4             None         None   None     None                  Deloitte   \n\n                                description_criteria language  \\\n0  Seniority level Internship Employment type Int...       pl   \n1  Seniority level Mid-Senior level Employment ty...       pl   \n2  Seniority level Mid-Senior level Employment ty...       pl   \n3  Seniority level Entry level Employment type Fu...       pl   \n4  Seniority level Mid-Senior level Employment ty...       pl   \n\n                                      description_en  \\\n0  \"In the Wholesale section. \"As well as externa...   \n1  \"Hi👋 We are a 50-person team of pragmatics who...   \n2  \"What in Offer: AT Magna, You Can Expect An En...   \n3  \"Our client is a renowned company with over 20...   \n4  \"Description. \"Including a solid experience in...   \n\n                                            title_en  \\\n0            \"Rituals - Wholelesale Intern (Warsaw)\"   \n1  \"Full-Stack Developer (React, Node. JS) / Proj...   \n2                \"Chief accountant/chief accountant\"   \n3                 \"MS Dynamics 365BC/NAV programmer\"   \n4                      \"Mid/Senior Python Developer\"   \n\n                                   final_description  \n0  \"In the Wholesale section. \"As well as externa...  \n1  \"Hi👋 We are a 50-person team of pragmatics who...  \n2  \"What in Offer: AT Magna, You Can Expect An En...  \n3  \"Our client is a renowned company with over 20...  \n4  \"Description. \"Including a solid experience in...  ",
      "text/html": "<div>\n<style scoped>\n    .dataframe tbody tr th:only-of-type {\n        vertical-align: middle;\n    }\n\n    .dataframe tbody tr th {\n        vertical-align: top;\n    }\n\n    .dataframe thead th {\n        text-align: right;\n    }\n</style>\n<table border=\"1\" class=\"dataframe\">\n  <thead>\n    <tr style=\"text-align: right;\">\n      <th></th>\n      <th>id</th>\n      <th>job_id</th>\n      <th>title</th>\n      <th>location</th>\n      <th>salary</th>\n      <th>experience_level</th>\n      <th>job_type</th>\n      <th>employment_type</th>\n      <th>description</th>\n      <th>responsibilities</th>\n      <th>requirements</th>\n      <th>skills</th>\n      <th>benefits</th>\n      <th>company</th>\n      <th>description_criteria</th>\n      <th>language</th>\n      <th>description_en</th>\n      <th>title_en</th>\n      <th>final_description</th>\n    </tr>\n  </thead>\n  <tbody>\n    <tr>\n      <th>0</th>\n      <td>6538</td>\n      <td>4158196588</td>\n      <td>Rituals - Wholesale Intern (Warsaw)</td>\n      <td>Warsaw, Mazowieckie, Poland (On-site)</td>\n      <td>None</td>\n      <td>None</td>\n      <td>On-site</td>\n      <td>None</td>\n      <td>W dziale Wholesale &amp; Travel Retail dbamy o to,...</td>\n      <td>None</td>\n      <td>None</td>\n      <td>None</td>\n      <td>None</td>\n      <td>Rituals Cosmetics Polska</td>\n      <td>Seniority level Internship Employment type Int...</td>\n      <td>pl</td>\n      <td>\"In the Wholesale section. \"As well as externa...</td>\n      <td>\"Rituals - Wholelesale Intern (Warsaw)\"</td>\n      <td>\"In the Wholesale section. \"As well as externa...</td>\n    </tr>\n    <tr>\n      <th>1</th>\n      <td>361380</td>\n      <td>4186936564</td>\n      <td>Full-stack Developer (React, Node.js) / Projec...</td>\n      <td>Bydgoszcz, Kujawsko-pomorskie, Poland (Remote)</td>\n      <td>None</td>\n      <td>None</td>\n      <td>Remote</td>\n      <td>Full-time</td>\n      <td>Cześć👋 Jesteśmy 50+ osobowym zespołem pragmaty...</td>\n      <td>None</td>\n      <td>None</td>\n      <td>None</td>\n      <td>None</td>\n      <td>Exlabs</td>\n      <td>Seniority level Mid-Senior level Employment ty...</td>\n      <td>pl</td>\n      <td>\"Hi👋 We are a 50-person team of pragmatics who...</td>\n      <td>\"Full-Stack Developer (React, Node. JS) / Proj...</td>\n      <td>\"Hi👋 We are a 50-person team of pragmatics who...</td>\n    </tr>\n    <tr>\n      <th>2</th>\n      <td>298526</td>\n      <td>4188240566</td>\n      <td>Główna Księgowa/Główny Księgowy</td>\n      <td>Tychy, Śląskie, Poland (On-site)</td>\n      <td>None</td>\n      <td>None</td>\n      <td>On-site</td>\n      <td>Full-time</td>\n      <td>What We Offer: At Magna, you can expect an en...</td>\n      <td>None</td>\n      <td>None</td>\n      <td>None</td>\n      <td>None</td>\n      <td>Magna International</td>\n      <td>Seniority level Mid-Senior level Employment ty...</td>\n      <td>pl</td>\n      <td>\"What in Offer: AT Magna, You Can Expect An En...</td>\n      <td>\"Chief accountant/chief accountant\"</td>\n      <td>\"What in Offer: AT Magna, You Can Expect An En...</td>\n    </tr>\n    <tr>\n      <th>3</th>\n      <td>275327</td>\n      <td>4187444908</td>\n      <td>Programista MS Dynamics 365BC/NAV</td>\n      <td>Cracow, Małopolskie, Poland (Hybrid)</td>\n      <td>None</td>\n      <td>None</td>\n      <td>Hybrid</td>\n      <td>Full-time</td>\n      <td>Nasz klient to renomowana firma z ponad 20-let...</td>\n      <td>None</td>\n      <td>None</td>\n      <td>None</td>\n      <td>None</td>\n      <td>ipracujzdalnie.pl</td>\n      <td>Seniority level Entry level Employment type Fu...</td>\n      <td>pl</td>\n      <td>\"Our client is a renowned company with over 20...</td>\n      <td>\"MS Dynamics 365BC/NAV programmer\"</td>\n      <td>\"Our client is a renowned company with over 20...</td>\n    </tr>\n    <tr>\n      <th>4</th>\n      <td>348481</td>\n      <td>4153864061</td>\n      <td>Mid/Senior Python Developer</td>\n      <td>Łódź, Łódzkie, Poland (Remote)</td>\n      <td>None</td>\n      <td>None</td>\n      <td>Remote</td>\n      <td>Full-time</td>\n      <td>Description &amp; Requirements: Kogo szukamy: Doł...</td>\n      <td>None</td>\n      <td>None</td>\n      <td>None</td>\n      <td>None</td>\n      <td>Deloitte</td>\n      <td>Seniority level Mid-Senior level Employment ty...</td>\n      <td>pl</td>\n      <td>\"Description. \"Including a solid experience in...</td>\n      <td>\"Mid/Senior Python Developer\"</td>\n      <td>\"Description. \"Including a solid experience in...</td>\n    </tr>\n  </tbody>\n</table>\n</div>"
     },
     "execution_count": 122,
     "metadata": {},
     "output_type": "execute_result"
    }
   ],
   "source": [
    "df[df[\"language\"]==\"pl\"].head(5)"
   ],
   "metadata": {
    "collapsed": false,
    "ExecuteTime": {
     "end_time": "2025-04-02T13:02:06.468554Z",
     "start_time": "2025-04-02T13:02:06.455146Z"
    }
   },
   "id": "21d6f1e50aa678bf",
   "execution_count": 122
  },
  {
   "cell_type": "code",
   "outputs": [
    {
     "name": "stdout",
     "output_type": "stream",
     "text": [
      "Number of jobs without both job_type and employment_type: 3\n"
     ]
    }
   ],
   "source": [
    "# Count how many jobs don't contain both job_type and employment_type\n",
    "missing_job_type_and_employment_type = df[df[\"job_type\"].isnull() & df[\"employment_type\"].isnull()]\n",
    "print(f\"Number of jobs without both job_type and employment_type: {len(missing_job_type_and_employment_type)}\")\n"
   ],
   "metadata": {
    "collapsed": false,
    "ExecuteTime": {
     "end_time": "2025-04-02T13:02:06.473725Z",
     "start_time": "2025-04-02T13:02:06.469430Z"
    }
   },
   "id": "e963e867aab5027d",
   "execution_count": 123
  },
  {
   "cell_type": "code",
   "outputs": [],
   "source": [
    "def clean_description(text):\n",
    "    text = text.replace('\"', '')\n",
    "    text = text.strip()\n",
    "    return text\n",
    "\n",
    "df[\"final_description\"] = df[\"final_description\"].apply(clean_description)"
   ],
   "metadata": {
    "collapsed": false,
    "ExecuteTime": {
     "end_time": "2025-04-02T13:02:06.563702Z",
     "start_time": "2025-04-02T13:02:06.474512Z"
    }
   },
   "id": "d449feb06e37d48f",
   "execution_count": 124
  },
  {
   "cell_type": "code",
   "outputs": [
    {
     "data": {
      "text/plain": "Index(['id', 'job_id', 'title', 'location', 'salary', 'experience_level',\n       'job_type', 'employment_type', 'responsibilities', 'requirements',\n       'skills', 'benefits', 'company', 'description_criteria', 'language',\n       'title_en', 'final_description'],\n      dtype='object')"
     },
     "execution_count": 125,
     "metadata": {},
     "output_type": "execute_result"
    }
   ],
   "source": [
    "df.drop(columns=[\"description\", \"description_en\"], inplace=True)\n",
    "df.columns"
   ],
   "metadata": {
    "collapsed": false,
    "ExecuteTime": {
     "end_time": "2025-04-02T13:02:06.578335Z",
     "start_time": "2025-04-02T13:02:06.564543Z"
    }
   },
   "id": "76039353264717d",
   "execution_count": 125
  },
  {
   "cell_type": "code",
   "outputs": [
    {
     "data": {
      "text/plain": "final_description\nNo responsibilities section found.                                                                                                                                                                                                                                                                                                                                                                                                                                                                                                                                                                                                                                                                                                                                                                                                                                                                                                                                                                                                                                                                                                                                                                                                                                                                                                                                                                                                                                                                                                                                                                                                                                                                                                                                                                                                                                                                                                                                                                                                                                                                                                                                                                                                                                                                                                                                                                                                                                                                                                                                                                                                                                                                                                                                                                                                                                                                                                                                                                                                                                                                                                                                                                                                                                                                                                                                                                                                                                                                                                                                                                                                                                                                                                                                                                                                                                                                      10645\nResponsibilities                                                                                                                                                                                                                                                                                                                                                                                                                                                                                                                                                                                                                                                                                                                                                                                                                                                                                                                                                                                                                                                                                                                                                                                                                                                                                                                                                                                                                                                                                                                                                                                                                                                                                                                                                                                                                                                                                                                                                                                                                                                                                                                                                                                                                                                                                                                                                                                                                                                                                                                                                                                                                                                                                                                                                                                                                                                                                                                                                                                                                                                                                                                                                                                                                                                                                                                                                                                                                                                                                                                                                                                                                                                                                                                                                                                                                                                                                         7969\ntasks                                                                                                                                                                                                                                                                                                                                                                                                                                                                                                                                                                                                                                                                                                                                                                                                                                                                                                                                                                                                                                                                                                                                                                                                                                                                                                                                                                                                                                                                                                                                                                                                                                                                                                                                                                                                                                                                                                                                                                                                                                                                                                                                                                                                                                                                                                                                                                                                                                                                                                                                                                                                                                                                                                                                                                                                                                                                                                                                                                                                                                                                                                                                                                                                                                                                                                                                                                                                                                                                                                                                                                                                                                                                                                                                                                                                                                                                                                    4534\nJob Description                                                                                                                                                                                                                                                                                                                                                                                                                                                                                                                                                                                                                                                                                                                                                                                                                                                                                                                                                                                                                                                                                                                                                                                                                                                                                                                                                                                                                                                                                                                                                                                                                                                                                                                                                                                                                                                                                                                                                                                                                                                                                                                                                                                                                                                                                                                                                                                                                                                                                                                                                                                                                                                                                                                                                                                                                                                                                                                                                                                                                                                                                                                                                                                                                                                                                                                                                                                                                                                                                                                                                                                                                                                                                                                                                                                                                                                                                          2550\nresponsibilities                                                                                                                                                                                                                                                                                                                                                                                                                                                                                                                                                                                                                                                                                                                                                                                                                                                                                                                                                                                                                                                                                                                                                                                                                                                                                                                                                                                                                                                                                                                                                                                                                                                                                                                                                                                                                                                                                                                                                                                                                                                                                                                                                                                                                                                                                                                                                                                                                                                                                                                                                                                                                                                                                                                                                                                                                                                                                                                                                                                                                                                                                                                                                                                                                                                                                                                                                                                                                                                                                                                                                                                                                                                                                                                                                                                                                                                                                         1607\n                                                                                                                                                                                                                                                                                                                                                                                                                                                                                                                                                                                                                                                                                                                                                                                                                                                                                                                                                                                                                                                                                                                                                                                                                                                                                                                                                                                                                                                                                                                                                                                                                                                                                                                                                                                                                                                                                                                                                                                                                                                                                                                                                                                                                                                                                                                                                                                                                                                                                                                                                                                                                                                                                                                                                                                                                                                                                                                                                                                                                                                                                                                                                                                                                                                                                                                                                                                                                                                                                                                                                                                                                                                                                                                                                                                                                                                                                                        ...  \n. Create reusable automation frameworks to reduce manual efforts and improve operational efficiency. Work on CI/CD pipelines for deployment automation and system integration.DevOps Practices: Apply DevOps principles to the Big Data environment, focusing on continuous integration and continuous delivery (CI/CD). Build and manage automated deployment processes for Big Data clusters and services. Collaborate with development teams to integrate automation in Big Data workflows.Troubleshooting and Debugging: Identify, troubleshoot, and resolve issues related to Big Data platforms, including system performance, resource utilization, and service failures. Work with logs, monitoring tools, and other debugging techniques to diagnose and resolve complex issues.Collaboration and Support: Work closely with other teams to support data pipelines, data quality checks, and performance optimizations. Provide ongoing technical support to ensure that Big Data systems are stable, secure, and aligned with business objectives. Skills & Experiences To Get The Job Done: 5+ years of hands-on experience in Big Data administration, automation, and DevOps practices, including Hadoop ecosystem tools such as HDFS, YARN, and MapReduce.Proficient in managing and troubleshooting Kafka, HBase, and Spark.Experience with performance tuning, cluster optimization, and high-availability configurations.Strong experience with automation tools such as Ansible, Shell scripting, and Python scripting.Ability to automate deployment, monitoring, and administration tasks to increase operational efficiencySolid understanding of DevOps concepts and practices, including CI/CD, version control, and deployment pipelines.Hands-on experience with automation of infrastructure provisioning and management using tools like Terraform, Docker, and Kubernetes (optional but desirable).Proficiency in at least one programming language, with a preference for Python.Ability to write efficient, maintainable code for automation and integration tasks.Strong debugging skills and experience in resolving complex issues across distributed systems.Ability to think critically and provide practical solutions in high-pressure situations.Bachelor's degree in Computer Science, Engineering, or related field (or equivalent experience). Nice To Have: Experience with cloud platforms (AWS, Azure, GCP) for Big Data solutions.Knowledge of containerization and orchestration tools (Docker, Kubernetes).Familiarity with data pipeline frameworks and tools like Apache NiFi, Airflow, or similar. WHY JOIN CAPCO?: Employment contract and/or Business to Business - whichever you preferPossibility to work remotelySpeaking English on daily basis, mainly in contact with foreign stakeholders and peersMultiple employee benefits packages (MyBenefit Cafeteria, private medical care, life-insurance)Access to 3.000+ Business Courses Platform (Udemy)Access to required IT equipmentPaid Referral ProgramParticipation in charity events e.g. Szlachetna PaczkaOngoing learning opportunities to help you acquire new skills or deepen existing expertiseBeing part of the core squad focused on the growth of the Polish business unitA flat, non-hierarchical structure that will enable you to work with senior partners and directly with clientsA work culture focused on innovation and creating lasting value for our clients and employees ONLINE RECRUITMENT PROCESS STEPS*: Screening call with the RecruiterTechnical interview: first stageClient InterviewFeedback/Offer We have been informed of several recruitment scams targeting the public. We strongly advise you to verify identities before engaging in recruitment related communication. All official Capco communication will be conducted via a Capco recruiter.        1\n. This includes setting up environments, integrating systems, monitoring, and installing software, all while keeping to our standards.   During the implementation process, you'll work closely with our customers, building strong and lasting relationships. Our SaaS Projects, Hosting, and Apps team is key in setting and implementing standards in our projects. Our goal is to offer the best availability to our customers. As part of our team, you'll get to influence our working methods and have a chance to streamline our operations, processes, and services.   Employee DNA: Curiosity:: We embrace the 'Why?’. It’s the spark that ignites learning, innovation, and progress   Collaboration:: Team players with diverse perspectives have more fun building together   Competence:: We're hungry for more! Ever ready for new skills and always seeking to learn   Customer Focus:: We're dedicated to enabling our customers' success. We deliver the benefits of technology to make a difference in society, business, and everyday life   Responsibilities:: Install, configure, and maintain Microsoft Server-based applications.Troubleshoot and resolve technical issues.Provide exceptional customer support by responding to inquiries, diagnosing problems, and offering solutions in a timely manner.Collaborate with development teams on application updates, ensuring seamless integration and minimal disruption to services.Manage and prioritize multiple customer support tickets while maintaining high levels of customer satisfaction.Monitor system performance and implement performance tuning.Participate in implementation projects, providing technical expertise and support from conception through to deployment.Document technical procedures and create user manuals.Ensure compliance with security protocols and industry best practices. Requirements:: At least 5 years’ experience in a technical support role with a focus on applications and Microsoft products (IIS,MS SQL etc.)Higher education in IT or relevant studies,Excellent problem-solving skills and attention to detail.A systematic approach, are structured and committed to deliver good results,Very good English communication skills, both written and spoken,Skills in PowerShell for administrative scripting and automation.Knowledge of ITIL methodology,Strong communication and interpersonal skills, with a focus on providing outstanding customer service. If you believe this role aligns with your career aspirations, we would very much like to hear from you!                                                                                                                                                                                                                                                                                                                                                                                                                                                                                                                                                                                                                                                                                                                                                                                                                                                                                                                                                                                                                                                                                                                                                                                                                                                                                                   1\n.   Your Main Tasks: Be first point of contact for customers regarding order–related queries   Carry out regular meetings with customers and other stakeholders   Manage and process customer orders from initiation to delivery, ensuring accuracy and timeliness.   Coordinate with logistics providers to ensure efficient transportation and on-time delivery of goods.   Resolve order-related issues, including delays, discrepancies, and customer complaints, with a focus on customer satisfaction.   Collaborate with internal teams (e.g., sales, procurement, warehouse) to align order priorities and address customer needs.   Monitor and manage inventory levels to support order fulfillment while minimizing disruptions.   Maintain and update order documentation in ERP systems and ensure compliance with company policies.   Analyze and report on order metrics and KPIs to identify areas for improvement in the process.   Your Ideal Background: Ability to communicate effectively in German and English, both written and verbal.: Excellent organizational and problem-solving skills, with keen attention to detail.   Outstanding communication skills.   Proven experience in order management, logistics, transportation, or distribution roles.   Understanding of customer service principles and supply chain processes.   Proficiency in ERP systems (e.g. SAP) and MS Office applications.   A customer-centric mindset with the ability to manage multiple priorities in a fast-paced environment.   Preferred Skills: Experience in managing international orders and coordinating with global supply chains.   Knowledge of transportation regulations and customs procedures is a plus.   #jobsEMEAMB   Competencies: Values: Integrity, Accountability, Inclusion, Innovation, Teamwork   About Te Connectivity: TE Connectivity is a global industrial technology leader creating a safer, sustainable, productive, and connected future. Our broad range of connectivity and sensor solutions enable the distribution of power, signal and data to advance next-generation transportation, renewable energy, automated factories, data centers, medical technology and more. With more than 85,000 employees, including 8,000 engineers, working alongside customers in approximately 140 countries. TE ensures that EVERY CONNECTION COUNTS. Learn more at , ,   What Te Connectivity Offers: We are pleased to offer you an exciting total package that can also be flexibly adapted to changing life situations - the well-being of our employees is our top priority!   Competitive Salary PackagePerformance-Based Bonus PlansHealth and Wellness IncentivesEmployee Stock Purchase ProgramCommunity Outreach Programs / Charity EventsEmployee Resource Group Across our global sites and business units, we put together packages of benefits that are either supported by TE itself or provided by external service providers. In principle, the benefits offered can vary from site to site.                                                                                                                                                                                                                                                                                                                                                                                                                                                                                                                                                                                                                                                                                                                                                                                                                                                         1\n. Role requirements:: Demonstrated ability to succeed in a fast-paced environment, working on multiple projects with changing priorities and deadlines.Interested in Candidates with +2 years in a Strategic, Process Improvement roleMust have demonstrated experience in Pharmaceutical industry & knowledge of Customer demands and wishes within the industryMust have experience of Leading Departments and Developing the people withinRelevant knowledge of the Customer Support functions desiredDemonstrated high level work ethic and organizational skills is a “must have”.Strong attention to detail; demonstrated accurate information transcriptionAct as a mentor to foster employee growth and development.Excellent Excel skillsExperience in SAP/ECC essential, Salesforce as a plusProject management experience desirableUnderstanding of excellent Customer ServiceExperience in SAP Business Objects & Spotfire reporting tools a bonusAbility to communicate both internally & externally; orally and in writing. What we offer:: Private healthcare including dental care – MEDICOVER,Life and long-term disability insurance,MyBenefit Cafeteria system,Multisport Card,Social Fund Subsidies,Home Office allowance,Tuition reimbursement,Referral awards,Internal career development opportunities in multiple business areas,and up to 4 additional days of vacation by length of service in the company. Join our Team!: We are strongly committed to the development of your career and giving you opportunities to learn and grow.   We make a difference for you while you make a difference in the world!                                                                                                                                                                                                                                                                                                                                                                                                                                                                                                                                                                                                                                                                                                                                                                                                                                                                                                                                                                                                                                                                                                                                                                                                                                                                                                                                                                                                                                                                                                                                                                                                                                                                                                                                                                                                                                                                                                                                                                                                                                                                                                                                                                                                                                                                  1\n. Fundamentability and reliability in the implementation of the task of cooperation with others. Description of the position: research network Łukasiewicz-Institute of Microelectronics and Photonics: (Łukasiewicz-Imif) conducts research and development in the area of ​​advanced microelectronic and photonic technologies. . which allow you to undertake scientific work and projects to improve the innovation of Polish enterprises while creating high-tech knowledge databases in the production of innovative materials as well as technology and construction of microelectronics and photonics instruments, nitride technology, LTCC technology and printed electronics as well as medical and environmental sensors.. Łukasiewicz -IMIF annually implements dozens of projects financed from national and foreign funds, the results of which are to increase the innovation of the Polish economy. Type of contract :: Employment contract Number of free workplaces :: 1 full -time dimension :: full full -time job, :: Łukasiewicz research network - Institute of Microelectronics and Photonics, Al. Lotników 32/46,. 02-668 Warsaw Name of the Łukasiewicz Institute-Institute of Microelectronics and Photonics Daily tasks: Co-conduct of the Service of the Secretariat of the Institute Directorate (in the Organization section),. In particular: conducting in Polish and English correspondence in the form of traditional and electronic service in the scope of registration and circulation of documentation of the completion of the meeting calendar as well as service of internal meetings and external service of databases and IT systems organizing business travels. . , national and foreign, prestigious research and development projects employment under a contract of developing diversity and developed in domestic and foreign conferences to employ the finalists of Olympics. Possibility to implement school and student practices.                                                                                                                                                                                                                                                                                                                                                                                                                                                                                                                                                                                                                                                                                                                                                                                                                                                                                                                                                                                                                                                                                                                                                                                                                                                                                                                                                                                                                                                                                                                                                                                                                                                                                                                                                                                                                                                                                                                     1\nName: count, Length: 572, dtype: int64"
     },
     "execution_count": 126,
     "metadata": {},
     "output_type": "execute_result"
    }
   ],
   "source": [
    "import re\n",
    "\n",
    "def extract_responsibilities(text):\n",
    "    \"\"\"Extracts the responsibilities section from the job description.\"\"\"\n",
    "    \n",
    "    # Define patterns for common responsibility-related keywords\n",
    "    patterns = [\n",
    "        r\"(responsibilities|main duties|tasks|job description)[\\s:]*([^.]*?)(?=\\n|$|[A-Z])\",\n",
    "        r\"responsibilities\\s*[:\\-]?\\s*(.*?)(?:\\n|$)\",\n",
    "        r\"tasks\\s*[:\\-]?\\s*(.*?)(?:\\n|$)\"\n",
    "    ]\n",
    "    \n",
    "    # Join patterns into a single regex string with OR condition\n",
    "    full_pattern = '|'.join(patterns)\n",
    "    \n",
    "    # Find all matches in the text\n",
    "    matches = re.findall(full_pattern, text, flags=re.IGNORECASE)\n",
    "    \n",
    "    # Extract the first non-empty match (if any)\n",
    "    for match in matches:\n",
    "        for sub_match in match:\n",
    "            if sub_match:\n",
    "                return sub_match.strip()\n",
    "    \n",
    "    return \"No responsibilities section found.\"\n",
    "\n",
    "# Apply to the 'final_description' column\n",
    "df['final_description'].apply(extract_responsibilities).value_counts()\n",
    "\n"
   ],
   "metadata": {
    "collapsed": false,
    "ExecuteTime": {
     "end_time": "2025-04-02T13:02:11.843667Z",
     "start_time": "2025-04-02T13:02:06.579014Z"
    }
   },
   "id": "ba0fe34ba24f9e75",
   "execution_count": 126
  },
  {
   "cell_type": "code",
   "outputs": [
    {
     "name": "stderr",
     "output_type": "stream",
     "text": [
      "/home/milosz/anaconda3/lib/python3.11/site-packages/thinc/shims/pytorch.py:253: FutureWarning: You are using `torch.load` with `weights_only=False` (the current default value), which uses the default pickle module implicitly. It is possible to construct malicious pickle data which will execute arbitrary code during unpickling (See https://github.com/pytorch/pytorch/blob/main/SECURITY.md#untrusted-models for more details). In a future release, the default value for `weights_only` will be flipped to `True`. This limits the functions that could be executed during unpickling. Arbitrary objects will no longer be allowed to be loaded via this mode unless they are explicitly allowlisted by the user via `torch.serialization.add_safe_globals`. We recommend you start setting `weights_only=True` for any use case where you don't have full control of the loaded file. Please open an issue on GitHub for any issues related to this experimental feature.\n",
      "  model.load_state_dict(torch.load(filelike, map_location=device))\n"
     ]
    },
    {
     "name": "stdout",
     "output_type": "stream",
     "text": [
      "Description of the position: Preparation of drawings of cutting elements (burns) Optimization of the distribution of drawings on sheets sheets (nesting) Material management management - sheet control and minimizing the waste of programs for cutting machines (laser and plasma) tracking and analysis of loads of machinery and equipment for their optimal use of the quality . , Plasma) Ability to prepare technical drawings. Material management management and optimization of raw material consumption. Machine load analysis and optimization of production processes,. Independence and skill of analytical thinking welcome knowledge of CAD/CAMDSCEMENT in programming machine programming Machine controllers. CNCHIANCHING OF ERP systems and experience in their service in the field of sheet metal we offer: stable employment in a company with an established position on market -free remuneration tailored to experience. . , a stable production company with an established position on the market, we are looking for an experienced programmer of sheet cutting equipment (laser and plasma):. The person in this position will be responsible for the comprehensive cutting process, optimization of the use of materials and the quality of detail quality.\n"
     ]
    }
   ],
   "source": [
    "import spacy\n",
    "\n",
    "nlp = spacy.load(\"en_core_web_trf\") # Slower but more accurate than sm\n",
    "print(df[\"final_description\"].iloc[5])\n"
   ],
   "metadata": {
    "collapsed": false,
    "ExecuteTime": {
     "end_time": "2025-04-02T13:02:14.010092Z",
     "start_time": "2025-04-02T13:02:11.844350Z"
    }
   },
   "id": "8909ee05fa831c87",
   "execution_count": 127
  },
  {
   "cell_type": "code",
   "outputs": [
    {
     "name": "stdout",
     "output_type": "stream",
     "text": [
      "Total Polish titles to translate: 0\n",
      "No Polish titles to translate.\n"
     ]
    }
   ],
   "source": [
    "with engine.connect() as connection:\n",
    "    connection.execute(text(\"ALTER TABLE job_postings ADD COLUMN IF NOT EXISTS title_en TEXT;\"))\n",
    "    connection.execute(text(\"ALTER TABLE job_postings ADD COLUMN IF NOT EXISTS language VARCHAR(10);\"))\n",
    "    connection.commit()\n",
    "\n",
    "df = pd.read_sql(\"SELECT * FROM job_postings WHERE title IS NOT NULL;\", engine)\n",
    "df[\"language\"] = df[\"language\"].fillna('')\n",
    "\n",
    "missing_language_rows = df[df[\"language\"] == \"\"]\n",
    "if not missing_language_rows.empty:\n",
    "    print(f\"Detecting language for {len(missing_language_rows)} titles...\")\n",
    "    df.loc[df[\"language\"] == \"\", \"language\"] = df.loc[df[\"language\"] == \"\", \"title\"].apply(detect_language)\n",
    "\n",
    "    with engine.begin() as conn:\n",
    "        for _, row in df[df[\"language\"] != \"\"].iterrows():\n",
    "            conn.execute(\n",
    "                text(\"UPDATE job_postings SET language = :language WHERE job_id = :job_id\"),\n",
    "                {\"language\": row[\"language\"], \"job_id\": row[\"job_id\"]}\n",
    "            )\n",
    "\n",
    "df[\"title_en\"] = df.get(\"title_en\", pd.Series([None]*len(df)))\n",
    "df_to_translate = df[(df[\"language\"] == \"pl\") & (df[\"title_en\"].isnull())].copy()\n",
    "total = len(df_to_translate)\n",
    "print(f\"Total Polish titles to translate: {total}\")\n",
    "\n",
    "skip = False\n",
    "if total < 5:\n",
    "    print(\"No Polish titles to translate.\")\n",
    "    skip = True\n",
    "\n",
    "if not skip:\n",
    "    chunk_size = math.ceil(total / 10)\n",
    "    \n",
    "    for i in range(0, total, chunk_size):\n",
    "        chunk = df_to_translate.iloc[i:i+chunk_size].copy()\n",
    "        print(f\"\\n🔸 Translating chunk {i//chunk_size + 1}/10\")\n",
    "        time.sleep(3)\n",
    "        chunk[\"translated_title\"] = chunk[\"title\"].progress_apply(translate_full_text)\n",
    "    \n",
    "        for _, row in chunk.iterrows():\n",
    "            try:\n",
    "                with engine.begin() as conn:\n",
    "                    conn.execute(\n",
    "                        text(\"UPDATE job_postings SET title_en = :title_en WHERE job_id = :job_id\"),\n",
    "                        {\"title_en\": row[\"translated_title\"], \"job_id\": row[\"job_id\"]}\n",
    "                    )\n",
    "            except OperationalError as e:\n",
    "                print(f\"OperationalError for job_id={row['job_id']}: {e}\")\n",
    "                time.sleep(3)\n",
    "            \n",
    "        print(f\"Chunk {i//chunk_size + 1} saved to database.\")\n",
    "\n",
    "    print(f\"All titles translated and saved to database.\")\n"
   ],
   "metadata": {
    "collapsed": false,
    "ExecuteTime": {
     "end_time": "2025-04-02T13:02:14.771299Z",
     "start_time": "2025-04-02T13:02:14.011079Z"
    }
   },
   "id": "97a628f054864275",
   "execution_count": 128
  },
  {
   "cell_type": "code",
   "outputs": [
    {
     "name": "stdout",
     "output_type": "stream",
     "text": [
      "Here's a breakdown of the job description extract:\n",
      "\n",
      "*   **Job Title:** Senior DevOps Engineer (Kubernetes Python Groovy)\n",
      "*   **Responsibilities:**\n",
      "    *   Development environment and design infrastructure in lower environments.\n",
      "    *   Creating and maintaining scripts in Shell and Python.\n",
      "    *   Creating and maintaining CI/CD pipelines (Groovy).\n",
      "    *   Development of configuration and automation (mainly with Ansible).\n",
      "    *   Development of microservices based on containers (Docker and Kubernetes).\n",
      "    *   Sharing knowledge about the DevOps approach and solutions (internal training, demonstrations, presentations).\n",
      "    *   Support for developers and QA engineers.\n",
      "    *   Optimization and maintenance of the platform.\n",
      "\n",
      "*   **Requirements:**\n",
      "    *   Minimum 5 years of commercial experience in a similar DevOps Engineer role.\n",
      "    *   Experience with Kubernetes\n",
      "    *   Knowledge of Jenkins or other CI/CD systems.\n",
      "    *   Programming in Python and Groovy.\n",
      "    *   Knowledge of CM tools (Ansible).\n",
      "    *   Good knowledge of Linux and the ability to write scripts.\n",
      "    *   Git version control system (Bitbucket)\n",
      "\n",
      "*   **Skills:**\n",
      "    *   Kubernetes\n",
      "    *   Python\n",
      "    *   Groovy\n",
      "    *   Jenkins/CI/CD\n",
      "    *   Ansible\n",
      "    *   Linux\n",
      "    *   Shell Scripting\n",
      "    *   Git (Bitbucket)\n",
      "    *   Good communication skills (B2 level)\n",
      "    *   Nice to have: MLOPS, HADOOP, SPARK, SONARQUBE, POSTGRESQ\n",
      "\n",
      "*   **Experience Level:** Senior\n",
      "*   **Salary:** 180 - 195 PLN Net VAT / hour\n",
      "*   **Benefits:**\n",
      "    *   Agile methodology\n",
      "    *   International environment\n",
      "    *   English communication\n",
      "    *   Stable employment\n",
      "    *   8-hour work day, no on-call duties or night work\n",
      "    *   100% Remote work\n",
      "    *   Career development support\n",
      "\n"
     ]
    }
   ],
   "source": [
    "from google import genai\n",
    "\n",
    "dotenv_path = os.path.join(\"..\", \"scraping\", \".env\")\n",
    "load_dotenv(dotenv_path)\n",
    "\n",
    "gemini_key = os.getenv(\"GEMINI_API_KEY\")\n",
    "\n",
    "client = genai.Client(api_key=gemini_key)\n",
    "\n",
    "\n",
    "response = client.models.generate_content(\n",
    "    model=\"gemini-2.0-flash\", contents=\"From the job description extract data: responsibilities, requirements, skills, benefits, experience level (for example Internship, Junior, Mid, Senior, Director etc), salary if mentioned: Senior DevOps Engineer (Kubernetes Python Groovy)  For our client 1Dea we are looking for a person for the position of Senior Devops Engineer (Kubernetes Python Groovy). For one of our business partners, we are looking for an experienced Devops engineer:. We offer work in agile (agile) methodology, in an international environment where the language of communication is English. We do not require experience in the financial industry - everything is important, we will teach us all, we will teach us experience in the financial industry . We value communication skills because the work is of a team character. We offer stable employment with an 8 -hour work day, without duty and work at night. Conditions of commitment: area: finance / banking: 100% Remotor: ASAP (we accept candidates with max 3MSC period of notice) Size (set individually): 180 - 195 PLN Net VAT / hz. . Long-term recruitment process (100% remotely) :: A short information and information call with a 1DEA recruiter (~ 10 min) Technical and design verification with the client (~ 1-1, 5 h) (if OK) familiarization interview with the head of the client department (~ 30 min) decision to cooperate . Developmental environment and design infrastructure in lower environments. Creating and maintaining scripts in Shell and Python. Creating and maintaining streams CI/CD (groovy). Development of configuration and automation (mainly with the use of ANSIB). Development of microservices based on containers (docker and kubernetes). . Sharing knowledge about the Devops approach and solutions (internal training, demonstrations, presentations). Support for developers and engineers QA.. Requirements of a minimum of 5 years of commercial experience in a similar role (Devops Engineer) experience with Kubernetsdobra Knowledge of Jenkins or other CE/CDSIMENTS programming in Python and Groovydobra Knowledge of CM tools (we use Ansible) good knowledge of Linux and the ability to write script.. Optimization and maintenance of platform. Finding the GIT version control system (we use Bitbucket) Good communication skills communicative at B2 level: experience in MLOPS, HADOOP, SPARK, SONARQUBE, POSTGRESQ. . Software and configuration. The ability to work during flexible hours of remote work 100%professional consulting and support in career development from an experienced team of specialists 1DECE we will be friendly, openness, respect, mutual help and support in developing the competences of both our own as well as colleagues and colleagues from teams.. Each team member has the opportunity to propose his own ideas and solutions, and his voice is always taken into account\"\n",
    ")\n",
    "print(response.text)\n"
   ],
   "metadata": {
    "collapsed": false,
    "ExecuteTime": {
     "end_time": "2025-04-02T13:02:17.144804Z",
     "start_time": "2025-04-02T13:02:14.773205Z"
    }
   },
   "id": "16eb97445b4ff2a3",
   "execution_count": 129
  },
  {
   "cell_type": "code",
   "outputs": [],
   "source": [],
   "metadata": {
    "collapsed": false,
    "ExecuteTime": {
     "end_time": "2025-04-02T13:02:17.147097Z",
     "start_time": "2025-04-02T13:02:17.145803Z"
    }
   },
   "id": "d9d6947a5fdbb468",
   "execution_count": 129
  }
 ],
 "metadata": {
  "kernelspec": {
   "display_name": "Python 3",
   "language": "python",
   "name": "python3"
  },
  "language_info": {
   "codemirror_mode": {
    "name": "ipython",
    "version": 2
   },
   "file_extension": ".py",
   "mimetype": "text/x-python",
   "name": "python",
   "nbconvert_exporter": "python",
   "pygments_lexer": "ipython2",
   "version": "2.7.6"
  }
 },
 "nbformat": 4,
 "nbformat_minor": 5
}
