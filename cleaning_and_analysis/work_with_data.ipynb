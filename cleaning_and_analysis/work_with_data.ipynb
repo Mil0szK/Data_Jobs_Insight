{
 "cells": [
  {
   "cell_type": "code",
   "execution_count": 11,
   "id": "initial_id",
   "metadata": {
    "collapsed": true,
    "ExecuteTime": {
     "end_time": "2025-03-30T13:09:57.335605Z",
     "start_time": "2025-03-30T13:09:57.332848Z"
    }
   },
   "outputs": [],
   "source": [
    "import pandas as pd\n",
    "import os\n",
    "from dotenv import load_dotenv\n",
    "from sqlalchemy import create_engine, text\n",
    "from json import loads\n",
    "from requests import get\n",
    "import re\n",
    "from langdetect import detect"
   ]
  },
  {
   "cell_type": "code",
   "outputs": [],
   "source": [
    "# connect to the database\n",
    "\n",
    "dotenv_path = os.path.join(\"..\", \"scraping\", \".env\")\n",
    "load_dotenv(dotenv_path)\n",
    "DATABASE_URL = f\"postgresql://{os.getenv('DB_USER')}:{os.getenv('DB_PASSWORD')}@{os.getenv('DB_HOST')}:{os.getenv('DB_PORT')}/{os.getenv('DB_NAME')}\"\n",
    "\n",
    "engine = create_engine(DATABASE_URL)\n",
    "\n",
    "query = \"SELECT * FROM job_postings WHERE description IS NOT NULL;\"\n",
    "original_df = pd.read_sql(query, engine)\n",
    "df = original_df.copy()\n",
    "\n",
    "query2 =  \"\"\"\n",
    "    SELECT job_sources.*\n",
    "    FROM job_sources \n",
    "    INNER JOIN job_postings AS j \n",
    "    ON job_sources.job_id = j.job_id\n",
    "    WHERE j.description IS NOT NULL;\n",
    "\"\"\"\n",
    "original_df2 = pd.read_sql(query2, engine)\n",
    "df2 = original_df2.copy()"
   ],
   "metadata": {
    "collapsed": false,
    "ExecuteTime": {
     "end_time": "2025-03-30T13:09:58.142285Z",
     "start_time": "2025-03-30T13:09:57.348688Z"
    }
   },
   "id": "8a6f9c34488013ab",
   "execution_count": 12
  },
  {
   "cell_type": "code",
   "outputs": [
    {
     "data": {
      "text/plain": "       id      job_id                                             title  \\\n0   14048  4115475043            Senior AI Engineer proficient in Swift   \n1  292656  4180645574                             Specjalista ds. UX/UI   \n2  131329  4174430877  Junior SuccessFactors Time Management Consultant   \n3   14889  4152982535                    GCP Data Engineer with Airflow   \n4   18467  4056842997                     Senior Cloud Native Developer   \n\n                                     location salary experience_level  \\\n0       Warsaw, Mazowieckie, Poland (On-site)   None             None   \n1  Suchy Las, Wielkopolskie, Poland (On-site)   None             None   \n2          Katowice, Śląskie, Poland (Hybrid)   None             None   \n3                             Poland (Remote)   None             None   \n4                             Poland (Remote)   None             None   \n\n  job_type employment_type                                        description  \\\n0     None            None  We are seeking a highly motivated and experien...   \n1     None            None   Zakres Obowiązków: Tworzenie rozwiązań z zakr...   \n2     None            None  SD Worx is a leading European provider of Payr...   \n3     None            None   Hello, let’s meet! We are Xebia - a place whe...   \n4     None            None  We are looking for a Senior Cloud Native Devel...   \n\n  responsibilities requirements skills benefits             company  \\\n0             None         None   None     None  AIDA projektai, MB   \n1             None         None   None     None               GOMEZ   \n2             None         None   None     None             SD Worx   \n3             None         None   None     None        Xebia Poland   \n4             None         None   None     None        EPAM Systems   \n\n                                description_criteria  \\\n0  Seniority level Mid-Senior level Employment ty...   \n1  Seniority level Entry level Employment type Fu...   \n2  Seniority level Entry level Employment type Co...   \n3  Seniority level Mid-Senior level Employment ty...   \n4  Seniority level Mid-Senior level Employment ty...   \n\n                                      description_en language  \n0                                               None       en  \n1  Responsibilities: creating solutions in the fi...       pl  \n2                                               None       en  \n3                                               None       en  \n4                                               None       en  ",
      "text/html": "<div>\n<style scoped>\n    .dataframe tbody tr th:only-of-type {\n        vertical-align: middle;\n    }\n\n    .dataframe tbody tr th {\n        vertical-align: top;\n    }\n\n    .dataframe thead th {\n        text-align: right;\n    }\n</style>\n<table border=\"1\" class=\"dataframe\">\n  <thead>\n    <tr style=\"text-align: right;\">\n      <th></th>\n      <th>id</th>\n      <th>job_id</th>\n      <th>title</th>\n      <th>location</th>\n      <th>salary</th>\n      <th>experience_level</th>\n      <th>job_type</th>\n      <th>employment_type</th>\n      <th>description</th>\n      <th>responsibilities</th>\n      <th>requirements</th>\n      <th>skills</th>\n      <th>benefits</th>\n      <th>company</th>\n      <th>description_criteria</th>\n      <th>description_en</th>\n      <th>language</th>\n    </tr>\n  </thead>\n  <tbody>\n    <tr>\n      <th>0</th>\n      <td>14048</td>\n      <td>4115475043</td>\n      <td>Senior AI Engineer proficient in Swift</td>\n      <td>Warsaw, Mazowieckie, Poland (On-site)</td>\n      <td>None</td>\n      <td>None</td>\n      <td>None</td>\n      <td>None</td>\n      <td>We are seeking a highly motivated and experien...</td>\n      <td>None</td>\n      <td>None</td>\n      <td>None</td>\n      <td>None</td>\n      <td>AIDA projektai, MB</td>\n      <td>Seniority level Mid-Senior level Employment ty...</td>\n      <td>None</td>\n      <td>en</td>\n    </tr>\n    <tr>\n      <th>1</th>\n      <td>292656</td>\n      <td>4180645574</td>\n      <td>Specjalista ds. UX/UI</td>\n      <td>Suchy Las, Wielkopolskie, Poland (On-site)</td>\n      <td>None</td>\n      <td>None</td>\n      <td>None</td>\n      <td>None</td>\n      <td>Zakres Obowiązków: Tworzenie rozwiązań z zakr...</td>\n      <td>None</td>\n      <td>None</td>\n      <td>None</td>\n      <td>None</td>\n      <td>GOMEZ</td>\n      <td>Seniority level Entry level Employment type Fu...</td>\n      <td>Responsibilities: creating solutions in the fi...</td>\n      <td>pl</td>\n    </tr>\n    <tr>\n      <th>2</th>\n      <td>131329</td>\n      <td>4174430877</td>\n      <td>Junior SuccessFactors Time Management Consultant</td>\n      <td>Katowice, Śląskie, Poland (Hybrid)</td>\n      <td>None</td>\n      <td>None</td>\n      <td>None</td>\n      <td>None</td>\n      <td>SD Worx is a leading European provider of Payr...</td>\n      <td>None</td>\n      <td>None</td>\n      <td>None</td>\n      <td>None</td>\n      <td>SD Worx</td>\n      <td>Seniority level Entry level Employment type Co...</td>\n      <td>None</td>\n      <td>en</td>\n    </tr>\n    <tr>\n      <th>3</th>\n      <td>14889</td>\n      <td>4152982535</td>\n      <td>GCP Data Engineer with Airflow</td>\n      <td>Poland (Remote)</td>\n      <td>None</td>\n      <td>None</td>\n      <td>None</td>\n      <td>None</td>\n      <td>Hello, let’s meet! We are Xebia - a place whe...</td>\n      <td>None</td>\n      <td>None</td>\n      <td>None</td>\n      <td>None</td>\n      <td>Xebia Poland</td>\n      <td>Seniority level Mid-Senior level Employment ty...</td>\n      <td>None</td>\n      <td>en</td>\n    </tr>\n    <tr>\n      <th>4</th>\n      <td>18467</td>\n      <td>4056842997</td>\n      <td>Senior Cloud Native Developer</td>\n      <td>Poland (Remote)</td>\n      <td>None</td>\n      <td>None</td>\n      <td>None</td>\n      <td>None</td>\n      <td>We are looking for a Senior Cloud Native Devel...</td>\n      <td>None</td>\n      <td>None</td>\n      <td>None</td>\n      <td>None</td>\n      <td>EPAM Systems</td>\n      <td>Seniority level Mid-Senior level Employment ty...</td>\n      <td>None</td>\n      <td>en</td>\n    </tr>\n  </tbody>\n</table>\n</div>"
     },
     "execution_count": 13,
     "metadata": {},
     "output_type": "execute_result"
    }
   ],
   "source": [
    "df.head()"
   ],
   "metadata": {
    "collapsed": false,
    "ExecuteTime": {
     "end_time": "2025-03-30T13:09:58.150883Z",
     "start_time": "2025-03-30T13:09:58.143346Z"
    }
   },
   "id": "5a0a7057e9221e5b",
   "execution_count": 13
  },
  {
   "cell_type": "code",
   "outputs": [
    {
     "data": {
      "text/plain": "   id      job_id    source                                        job_url  \\\n0   1  4158353862  LinkedIn  https://www.linkedin.com/jobs/view/4158353862   \n1   2  4138407547  LinkedIn  https://www.linkedin.com/jobs/view/4138407547   \n2   3  4144364769  LinkedIn  https://www.linkedin.com/jobs/view/4144364769   \n3   4  4083706042  LinkedIn  https://www.linkedin.com/jobs/view/4083706042   \n4   5  4154765012  LinkedIn  https://www.linkedin.com/jobs/view/4154765012   \n\n  date_posted  is_active  \n0  2025-02-21       True  \n1  2025-02-21       True  \n2  2025-02-21       True  \n3  2025-02-21       True  \n4  2025-02-21       True  ",
      "text/html": "<div>\n<style scoped>\n    .dataframe tbody tr th:only-of-type {\n        vertical-align: middle;\n    }\n\n    .dataframe tbody tr th {\n        vertical-align: top;\n    }\n\n    .dataframe thead th {\n        text-align: right;\n    }\n</style>\n<table border=\"1\" class=\"dataframe\">\n  <thead>\n    <tr style=\"text-align: right;\">\n      <th></th>\n      <th>id</th>\n      <th>job_id</th>\n      <th>source</th>\n      <th>job_url</th>\n      <th>date_posted</th>\n      <th>is_active</th>\n    </tr>\n  </thead>\n  <tbody>\n    <tr>\n      <th>0</th>\n      <td>1</td>\n      <td>4158353862</td>\n      <td>LinkedIn</td>\n      <td>https://www.linkedin.com/jobs/view/4158353862</td>\n      <td>2025-02-21</td>\n      <td>True</td>\n    </tr>\n    <tr>\n      <th>1</th>\n      <td>2</td>\n      <td>4138407547</td>\n      <td>LinkedIn</td>\n      <td>https://www.linkedin.com/jobs/view/4138407547</td>\n      <td>2025-02-21</td>\n      <td>True</td>\n    </tr>\n    <tr>\n      <th>2</th>\n      <td>3</td>\n      <td>4144364769</td>\n      <td>LinkedIn</td>\n      <td>https://www.linkedin.com/jobs/view/4144364769</td>\n      <td>2025-02-21</td>\n      <td>True</td>\n    </tr>\n    <tr>\n      <th>3</th>\n      <td>4</td>\n      <td>4083706042</td>\n      <td>LinkedIn</td>\n      <td>https://www.linkedin.com/jobs/view/4083706042</td>\n      <td>2025-02-21</td>\n      <td>True</td>\n    </tr>\n    <tr>\n      <th>4</th>\n      <td>5</td>\n      <td>4154765012</td>\n      <td>LinkedIn</td>\n      <td>https://www.linkedin.com/jobs/view/4154765012</td>\n      <td>2025-02-21</td>\n      <td>True</td>\n    </tr>\n  </tbody>\n</table>\n</div>"
     },
     "execution_count": 14,
     "metadata": {},
     "output_type": "execute_result"
    }
   ],
   "source": [
    "df2.head()"
   ],
   "metadata": {
    "collapsed": false,
    "ExecuteTime": {
     "end_time": "2025-03-30T13:09:58.157423Z",
     "start_time": "2025-03-30T13:09:58.151788Z"
    }
   },
   "id": "5da08937b48dae01",
   "execution_count": 14
  },
  {
   "cell_type": "code",
   "outputs": [],
   "source": [
    "def detect_language(text):\n",
    "    try:\n",
    "        return detect(text)\n",
    "    except:\n",
    "        return \"unknown\""
   ],
   "metadata": {
    "collapsed": false,
    "ExecuteTime": {
     "end_time": "2025-03-30T13:09:58.160742Z",
     "start_time": "2025-03-30T13:09:58.158800Z"
    }
   },
   "id": "41165e08935242ae",
   "execution_count": 15
  },
  {
   "cell_type": "code",
   "outputs": [],
   "source": [
    "\n",
    "\n",
    "def split_text(text, max_length=500):\n",
    "    \"\"\"Splits text into chunks, ensuring each is under the max_length.\"\"\"\n",
    "    sentences = re.split(r'\\.\\s*', text)\n",
    "    chunks = []\n",
    "    temp_chunk = \"\"\n",
    "\n",
    "    for sentence in sentences:\n",
    "        if temp_chunk and len(temp_chunk) + len(sentence) + 1 > max_length:\n",
    "            chunks.append(temp_chunk.strip())\n",
    "            temp_chunk = sentence\n",
    "        else:\n",
    "            temp_chunk = f\"{temp_chunk} {sentence}\".strip() if temp_chunk else sentence\n",
    "    if temp_chunk:\n",
    "        chunks.append(temp_chunk.strip())\n",
    "    \n",
    "    return chunks\n",
    "\n",
    "\n",
    "def translate_text(text):\n",
    "    \"\"\"Translates text using the free Google API.\"\"\"\n",
    "    url = f\"https://translate.googleapis.com/translate_a/single?client=gtx&dt=t&sl=pl&tl=en&q={text}\"\n",
    "    try:\n",
    "        response = get(url)\n",
    "        translated_json = loads(response.text)\n",
    "        return translated_json[0][0][0] if translated_json else text\n",
    "    except Exception as e:\n",
    "        print(f\"Error translating: {e}\")\n",
    "        return text\n",
    "\n",
    "def translate_full_text(text):\n",
    "    \"\"\"Splits, translates, and reconstructs the translated text.\"\"\"\n",
    "    chunks = split_text(text)\n",
    "    translated_chunks = [translate_text(chunk) for chunk in chunks]\n",
    "    return \" \".join(translated_chunks)\n"
   ],
   "metadata": {
    "collapsed": false,
    "ExecuteTime": {
     "end_time": "2025-03-30T13:09:58.165702Z",
     "start_time": "2025-03-30T13:09:58.161400Z"
    }
   },
   "id": "bb9e48e9d8942358",
   "execution_count": 16
  },
  {
   "cell_type": "code",
   "outputs": [
    {
     "name": "stdout",
     "output_type": "stream",
     "text": [
      "Total Polish descriptions to translate: 0\n",
      "No Polish descriptions to translate.\n"
     ]
    }
   ],
   "source": [
    "from tqdm import tqdm\n",
    "from sqlalchemy.exc import OperationalError\n",
    "import time\n",
    "import sys\n",
    "import math\n",
    "tqdm.pandas()\n",
    "\n",
    "with engine.connect() as connection:\n",
    "    connection.execute(text(\"ALTER TABLE job_postings ADD COLUMN IF NOT EXISTS description_en TEXT;\"))\n",
    "    connection.execute(text(\"ALTER TABLE job_postings ADD COLUMN IF NOT EXISTS language VARCHAR(10);\"))\n",
    "\n",
    "    connection.commit()\n",
    "\n",
    "df = pd.read_sql(\"SELECT * FROM job_postings WHERE description IS NOT NULL;\", engine)\n",
    "df[\"language\"] = df[\"language\"].fillna('')\n",
    "\n",
    "\n",
    "missing_language_rows = df[df[\"language\"] == \"\"]\n",
    "if not missing_language_rows.empty:\n",
    "    print(f\"Detecting language for {len(missing_language_rows)} descriptions...\")\n",
    "    df.loc[df[\"language\"] == \"\", \"language\"] = df.loc[df[\"language\"] == \"\", \"description\"].apply(detect_language)\n",
    "\n",
    "    with engine.begin() as conn:\n",
    "        for _, row in df[df[\"language\"] != \"\"].iterrows():\n",
    "            conn.execute(\n",
    "                text(\"UPDATE job_postings SET language = :language WHERE job_id = :job_id\"),\n",
    "                {\"language\": row[\"language\"], \"job_id\": row[\"job_id\"]}\n",
    "            )\n",
    "\n",
    "df[\"description_en\"] = df.get(\"description_en\", pd.Series([None]*len(df)))\n",
    "\n",
    "df_to_translate = df[(df[\"language\"] == \"pl\") & (df[\"description_en\"].isnull())].copy()\n",
    "total = len(df_to_translate)\n",
    "print(f\"Total Polish descriptions to translate: {total}\")\n",
    "\n",
    "skip = False\n",
    "if total < 5:\n",
    "    print(\"No Polish descriptions to translate.\")\n",
    "    skip = True\n",
    "\n",
    "if not skip:\n",
    "    chunk_size = math.ceil(total / 10)\n",
    "    \n",
    "    for i in range(0, total, chunk_size):\n",
    "        chunk = df_to_translate.iloc[i:i+chunk_size].copy()\n",
    "        print(f\"\\n🔸 Translating chunk {i//chunk_size + 1}/10\")\n",
    "    \n",
    "        chunk[\"translated_description\"] = chunk[\"description\"].progress_apply(translate_full_text)\n",
    "    \n",
    "        # Save to DB\n",
    "        for _, row in chunk.iterrows():\n",
    "            try:\n",
    "                with engine.begin() as conn:\n",
    "                    conn.execute(\n",
    "                        text(\"UPDATE job_postings SET description_en = :desc_en WHERE job_id = :job_id\"),\n",
    "                        {\"desc_en\": row[\"translated_description\"], \"job_id\": row[\"job_id\"]}\n",
    "                    )\n",
    "            except OperationalError as e:\n",
    "                print(f\"OperationalError for job_id={row['job_id']}: {e}\")\n",
    "                time.sleep(3)\n",
    "    \n",
    "        print(f\"Chunk {i//chunk_size + 1} saved to database.\")\n"
   ],
   "metadata": {
    "collapsed": false,
    "ExecuteTime": {
     "end_time": "2025-03-30T13:09:59.093533Z",
     "start_time": "2025-03-30T13:09:58.166652Z"
    }
   },
   "id": "f3d347c1548f64da",
   "execution_count": 17
  },
  {
   "cell_type": "code",
   "outputs": [],
   "source": [
    "df[\"final_description\"] = df.apply(lambda row: row[\"description_en\"] if pd.notnull(row[\"description_en\"]) else row[\"description\"], axis=1)"
   ],
   "metadata": {
    "collapsed": false,
    "ExecuteTime": {
     "end_time": "2025-03-30T13:09:59.245376Z",
     "start_time": "2025-03-30T13:09:59.094318Z"
    }
   },
   "id": "6b712061ac21379b",
   "execution_count": 18
  },
  {
   "cell_type": "code",
   "outputs": [
    {
     "data": {
      "text/plain": "       id      job_id                                             title  \\\n0   14048  4115475043            Senior AI Engineer proficient in Swift   \n1  292656  4180645574                             Specjalista ds. UX/UI   \n2  131329  4174430877  Junior SuccessFactors Time Management Consultant   \n3   14889  4152982535                    GCP Data Engineer with Airflow   \n4   18467  4056842997                     Senior Cloud Native Developer   \n\n                                     location salary experience_level  \\\n0       Warsaw, Mazowieckie, Poland (On-site)   None             None   \n1  Suchy Las, Wielkopolskie, Poland (On-site)   None             None   \n2          Katowice, Śląskie, Poland (Hybrid)   None             None   \n3                             Poland (Remote)   None             None   \n4                             Poland (Remote)   None             None   \n\n  job_type employment_type                                        description  \\\n0     None            None  We are seeking a highly motivated and experien...   \n1     None            None   Zakres Obowiązków: Tworzenie rozwiązań z zakr...   \n2     None            None  SD Worx is a leading European provider of Payr...   \n3     None            None   Hello, let’s meet! We are Xebia - a place whe...   \n4     None            None  We are looking for a Senior Cloud Native Devel...   \n\n  responsibilities requirements skills benefits             company  \\\n0             None         None   None     None  AIDA projektai, MB   \n1             None         None   None     None               GOMEZ   \n2             None         None   None     None             SD Worx   \n3             None         None   None     None        Xebia Poland   \n4             None         None   None     None        EPAM Systems   \n\n                                description_criteria  \\\n0  Seniority level Mid-Senior level Employment ty...   \n1  Seniority level Entry level Employment type Fu...   \n2  Seniority level Entry level Employment type Co...   \n3  Seniority level Mid-Senior level Employment ty...   \n4  Seniority level Mid-Senior level Employment ty...   \n\n                                      description_en language  \\\n0                                               None       en   \n1  Responsibilities: creating solutions in the fi...       pl   \n2                                               None       en   \n3                                               None       en   \n4                                               None       en   \n\n                                   final_description  \n0  We are seeking a highly motivated and experien...  \n1  Responsibilities: creating solutions in the fi...  \n2  SD Worx is a leading European provider of Payr...  \n3   Hello, let’s meet! We are Xebia - a place whe...  \n4  We are looking for a Senior Cloud Native Devel...  ",
      "text/html": "<div>\n<style scoped>\n    .dataframe tbody tr th:only-of-type {\n        vertical-align: middle;\n    }\n\n    .dataframe tbody tr th {\n        vertical-align: top;\n    }\n\n    .dataframe thead th {\n        text-align: right;\n    }\n</style>\n<table border=\"1\" class=\"dataframe\">\n  <thead>\n    <tr style=\"text-align: right;\">\n      <th></th>\n      <th>id</th>\n      <th>job_id</th>\n      <th>title</th>\n      <th>location</th>\n      <th>salary</th>\n      <th>experience_level</th>\n      <th>job_type</th>\n      <th>employment_type</th>\n      <th>description</th>\n      <th>responsibilities</th>\n      <th>requirements</th>\n      <th>skills</th>\n      <th>benefits</th>\n      <th>company</th>\n      <th>description_criteria</th>\n      <th>description_en</th>\n      <th>language</th>\n      <th>final_description</th>\n    </tr>\n  </thead>\n  <tbody>\n    <tr>\n      <th>0</th>\n      <td>14048</td>\n      <td>4115475043</td>\n      <td>Senior AI Engineer proficient in Swift</td>\n      <td>Warsaw, Mazowieckie, Poland (On-site)</td>\n      <td>None</td>\n      <td>None</td>\n      <td>None</td>\n      <td>None</td>\n      <td>We are seeking a highly motivated and experien...</td>\n      <td>None</td>\n      <td>None</td>\n      <td>None</td>\n      <td>None</td>\n      <td>AIDA projektai, MB</td>\n      <td>Seniority level Mid-Senior level Employment ty...</td>\n      <td>None</td>\n      <td>en</td>\n      <td>We are seeking a highly motivated and experien...</td>\n    </tr>\n    <tr>\n      <th>1</th>\n      <td>292656</td>\n      <td>4180645574</td>\n      <td>Specjalista ds. UX/UI</td>\n      <td>Suchy Las, Wielkopolskie, Poland (On-site)</td>\n      <td>None</td>\n      <td>None</td>\n      <td>None</td>\n      <td>None</td>\n      <td>Zakres Obowiązków: Tworzenie rozwiązań z zakr...</td>\n      <td>None</td>\n      <td>None</td>\n      <td>None</td>\n      <td>None</td>\n      <td>GOMEZ</td>\n      <td>Seniority level Entry level Employment type Fu...</td>\n      <td>Responsibilities: creating solutions in the fi...</td>\n      <td>pl</td>\n      <td>Responsibilities: creating solutions in the fi...</td>\n    </tr>\n    <tr>\n      <th>2</th>\n      <td>131329</td>\n      <td>4174430877</td>\n      <td>Junior SuccessFactors Time Management Consultant</td>\n      <td>Katowice, Śląskie, Poland (Hybrid)</td>\n      <td>None</td>\n      <td>None</td>\n      <td>None</td>\n      <td>None</td>\n      <td>SD Worx is a leading European provider of Payr...</td>\n      <td>None</td>\n      <td>None</td>\n      <td>None</td>\n      <td>None</td>\n      <td>SD Worx</td>\n      <td>Seniority level Entry level Employment type Co...</td>\n      <td>None</td>\n      <td>en</td>\n      <td>SD Worx is a leading European provider of Payr...</td>\n    </tr>\n    <tr>\n      <th>3</th>\n      <td>14889</td>\n      <td>4152982535</td>\n      <td>GCP Data Engineer with Airflow</td>\n      <td>Poland (Remote)</td>\n      <td>None</td>\n      <td>None</td>\n      <td>None</td>\n      <td>None</td>\n      <td>Hello, let’s meet! We are Xebia - a place whe...</td>\n      <td>None</td>\n      <td>None</td>\n      <td>None</td>\n      <td>None</td>\n      <td>Xebia Poland</td>\n      <td>Seniority level Mid-Senior level Employment ty...</td>\n      <td>None</td>\n      <td>en</td>\n      <td>Hello, let’s meet! We are Xebia - a place whe...</td>\n    </tr>\n    <tr>\n      <th>4</th>\n      <td>18467</td>\n      <td>4056842997</td>\n      <td>Senior Cloud Native Developer</td>\n      <td>Poland (Remote)</td>\n      <td>None</td>\n      <td>None</td>\n      <td>None</td>\n      <td>None</td>\n      <td>We are looking for a Senior Cloud Native Devel...</td>\n      <td>None</td>\n      <td>None</td>\n      <td>None</td>\n      <td>None</td>\n      <td>EPAM Systems</td>\n      <td>Seniority level Mid-Senior level Employment ty...</td>\n      <td>None</td>\n      <td>en</td>\n      <td>We are looking for a Senior Cloud Native Devel...</td>\n    </tr>\n  </tbody>\n</table>\n</div>"
     },
     "execution_count": 19,
     "metadata": {},
     "output_type": "execute_result"
    }
   ],
   "source": [
    "df.head()"
   ],
   "metadata": {
    "collapsed": false,
    "ExecuteTime": {
     "end_time": "2025-03-30T13:09:59.255772Z",
     "start_time": "2025-03-30T13:09:59.246319Z"
    }
   },
   "id": "7f8718875c1b0c91",
   "execution_count": 19
  },
  {
   "cell_type": "code",
   "outputs": [
    {
     "data": {
      "text/plain": "Index(['id', 'job_id', 'title', 'location', 'salary', 'experience_level',\n       'job_type', 'employment_type', 'responsibilities', 'requirements',\n       'skills', 'benefits', 'company', 'description_criteria', 'language',\n       'final_description'],\n      dtype='object')"
     },
     "execution_count": 20,
     "metadata": {},
     "output_type": "execute_result"
    }
   ],
   "source": [
    "df.drop(labels=[\"description\", \"description_en\"], axis=1, inplace=True)\n",
    "df.columns"
   ],
   "metadata": {
    "collapsed": false,
    "ExecuteTime": {
     "end_time": "2025-03-30T13:09:59.266603Z",
     "start_time": "2025-03-30T13:09:59.256789Z"
    }
   },
   "id": "f4f40e0bc510885",
   "execution_count": 20
  },
  {
   "cell_type": "code",
   "outputs": [
    {
     "data": {
      "text/plain": "\"We are seeking a highly motivated and experienced AI-Focused Developer with expertise in multiple modal ingestion and inference, as well as experience working on-device mobile applications like OpenAI's Whisper voice-to-text tool. The ideal candidate will have a strong problem-solving mindset and a passion for leveraging AI technologies to build impactful solutions.   Our primary focus with AI is to accurately and helpfully answer questions related to hundreds of city documents, news updates (posted on the client's resource), events, images, etc. Additional details about this focus will be provided during the interview process.   About the project:: It's a centralized communication platform revolutionizing how municipalities engage with residents. The web-based platform and downloadable app streamline fragmented communication channels by consolidating updates, events, and interactions into one seamless experience.   IMPORTANT: the ability to overlap with Mountain Standard Time (North America): Key Qualifications: 5+ years of experience in AI development and web applications.Proficient in AI tools and frameworks for modal ingestion and inference.Hands-on experience with OpenAI tools like Whisper voice-to-text.Familiarity with database-driven web applications and the MVC pattern.Strong problem-solving and critical-thinking skills.Ability to adapt quickly to new environments and tools.Passion for learning and continuous improvement.Focused on providing end-user-centric solutions. Preferred Technical Skills: AI Technologies: OpenAI Whisper, Langchain/langgraph, and AI-driven frameworks.Programming Languages: Python, Ruby on Rails.Databases: Postgres, Redis.DevOps Tools: GitHub Projects, GitHub Actions, Kubernetes, Helm, Docker.Additional Tools: Rubymine, Sentry. Key Features Include: AI-powered chat for answering questions based on official city documents.Interactive municipal maps and direct resident-to-municipality messaging.Tools for internal post-approval systems and community event calendars with workflows.Issue reporting and management systems.A local politics hub for civic engagement.Internal chat features for municipal teams. The platform is designed to empower municipalities, enhance resident satisfaction, and improve communication efficiency.   Assessment Instructions:: We invite you to demonstrate your skills by building a full-stack task list web application.   Assignment Requirements:    Begin the assignment by sharing a link to your repository in a reply to the provided email.Complete the implementation within 1 week while meeting the minimum functionality requirements:View a list of to-do items with filtering options (pending, complete, all).Create a new to-do item.Edit a to-do item.Delete a to-do item.Mark a to-do item as complete.Submit the deployed application link in a reply to the provided email. Notes: You are free to exceed the listed requirements and showcase your full skillset.Implement the assignment using the stack you are most comfortable with.Feel free to reach out with any questions or clarifications about the assignment. We look forward to seeing your work and learning more about your development approach!\""
     },
     "execution_count": 21,
     "metadata": {},
     "output_type": "execute_result"
    }
   ],
   "source": [
    "df[\"final_description\"].iloc[0]"
   ],
   "metadata": {
    "collapsed": false,
    "ExecuteTime": {
     "end_time": "2025-03-30T13:09:59.271768Z",
     "start_time": "2025-03-30T13:09:59.268606Z"
    }
   },
   "id": "dc1b29c2bbc33cdc",
   "execution_count": 21
  },
  {
   "cell_type": "code",
   "outputs": [
    {
     "data": {
      "text/plain": "Index([807, 5777, 5778, 14211, 21586, 21950, 22530, 26060, 26766, 27233, 27396,\n       28021],\n      dtype='int64')"
     },
     "execution_count": 22,
     "metadata": {},
     "output_type": "execute_result"
    }
   ],
   "source": [
    "df[df[\"description_criteria\"].isnull()].index\n"
   ],
   "metadata": {
    "collapsed": false,
    "ExecuteTime": {
     "end_time": "2025-03-30T13:09:59.280195Z",
     "start_time": "2025-03-30T13:09:59.272766Z"
    }
   },
   "id": "2c3623b97185c1ac",
   "execution_count": 22
  },
  {
   "cell_type": "code",
   "outputs": [
    {
     "data": {
      "text/plain": "id                                                                 290907\njob_id                                                         4153816246\ntitle                   Front-end Engineering Manager/Lead | Poland | ...\nlocation                             Warsaw, Mazowieckie, Poland (Hybrid)\nsalary                                                               None\nexperience_level                                                     None\njob_type                                                             None\nemployment_type                                                      None\nresponsibilities                                                     None\nrequirements                                                         None\nskills                                                               None\nbenefits                                                             None\ncompany                                                          Deloitte\ndescription_criteria    Seniority level Mid-Senior level Employment ty...\nlanguage                                                               en\nfinal_description        Description & Requirements: Who we are lookin...\nName: 4913, dtype: object"
     },
     "execution_count": 23,
     "metadata": {},
     "output_type": "execute_result"
    }
   ],
   "source": [
    "df.iloc[4913]\n"
   ],
   "metadata": {
    "collapsed": false,
    "ExecuteTime": {
     "end_time": "2025-03-30T13:09:59.284882Z",
     "start_time": "2025-03-30T13:09:59.281119Z"
    }
   },
   "id": "acf063fb70f1e59e",
   "execution_count": 23
  },
  {
   "cell_type": "code",
   "outputs": [
    {
     "data": {
      "text/plain": "id                                                                 287952\njob_id                                                         4187445702\ntitle                                            Senior Angular Developer\nlocation                             Warsaw, Mazowieckie, Poland (Hybrid)\nsalary                                                               None\nexperience_level                                                     None\njob_type                                                             None\nemployment_type                                                      None\nresponsibilities                                                     None\nrequirements                                                         None\nskills                                                               None\nbenefits                                                             None\ncompany                                             Alter Solutions Group\ndescription_criteria    Seniority level Mid-Senior level Employment ty...\nlanguage                                                               en\nfinal_description        Our mission as a company providing IT service...\nName: 4914, dtype: object"
     },
     "execution_count": 24,
     "metadata": {},
     "output_type": "execute_result"
    }
   ],
   "source": [
    "df.drop(index=df[df[\"description_criteria\"].isnull()].index, inplace=True)\n",
    "df.iloc[4913]"
   ],
   "metadata": {
    "collapsed": false,
    "ExecuteTime": {
     "end_time": "2025-03-30T13:09:59.303929Z",
     "start_time": "2025-03-30T13:09:59.285866Z"
    }
   },
   "id": "de61f266b26090ee",
   "execution_count": 24
  },
  {
   "cell_type": "code",
   "outputs": [
    {
     "data": {
      "text/plain": "job_type\nHybrid     9553\nRemote     8981\nOn-site    8612\nName: count, dtype: int64"
     },
     "execution_count": 25,
     "metadata": {},
     "output_type": "execute_result"
    }
   ],
   "source": [
    "def extract_job_type(text):\n",
    "    result = []\n",
    "    if \"remote\" in text.lower():\n",
    "        result.append(\"Remote\")\n",
    "    elif \"hybrid\" in text.lower():\n",
    "        result.append(\"Hybrid\")\n",
    "    elif \"on-site\" in text.lower() or \"office\" in text.lower():\n",
    "        result.append(\"On-site\")\n",
    "    return \", \".join(result) if result else None\n",
    "\n",
    "\n",
    "df[\"job_type\"] = df[\"location\"].apply(extract_job_type)\n",
    "df[\"job_type\"].value_counts()"
   ],
   "metadata": {
    "collapsed": false,
    "ExecuteTime": {
     "end_time": "2025-03-30T13:09:59.328608Z",
     "start_time": "2025-03-30T13:09:59.304926Z"
    }
   },
   "id": "19aa30f03420c285",
   "execution_count": 25
  },
  {
   "cell_type": "code",
   "outputs": [
    {
     "name": "stdout",
     "output_type": "stream",
     "text": [
      "2395\n"
     ]
    },
    {
     "data": {
      "text/plain": "final_description\nRemote     765\nHybrid     527\nOn-site    466\nName: count, dtype: int64"
     },
     "execution_count": 26,
     "metadata": {},
     "output_type": "execute_result"
    }
   ],
   "source": [
    "print(df[\"job_type\"].isnull().sum())\n",
    "\n",
    "df[\"final_description\"][df[\"job_type\"].isnull()].apply(extract_job_type).value_counts()\n"
   ],
   "metadata": {
    "collapsed": false,
    "ExecuteTime": {
     "end_time": "2025-03-30T13:09:59.466408Z",
     "start_time": "2025-03-30T13:09:59.329676Z"
    }
   },
   "id": "7cac44833bf437e",
   "execution_count": 26
  },
  {
   "cell_type": "code",
   "outputs": [],
   "source": [
    "df[\"job_type\"] = df[\"final_description\"][df[\"job_type\"].isnull()].apply(extract_job_type)"
   ],
   "metadata": {
    "collapsed": false,
    "ExecuteTime": {
     "end_time": "2025-03-30T13:09:59.593224Z",
     "start_time": "2025-03-30T13:09:59.467579Z"
    }
   },
   "id": "30d35dc297cb9619",
   "execution_count": 27
  },
  {
   "cell_type": "code",
   "outputs": [
    {
     "data": {
      "text/plain": "employment_type\nFull-time              25685\nContract                2515\nPart-time                412\nContract, Full-time        2\nName: count, dtype: int64"
     },
     "execution_count": 28,
     "metadata": {},
     "output_type": "execute_result"
    }
   ],
   "source": [
    "def extract_employment_type(text):\n",
    "    result = []\n",
    "    if \"contract\" in text.lower():\n",
    "        result.append(\"Contract\")\n",
    "    if \"full-time\" in text.lower():\n",
    "        result.append(\"Full-time\")\n",
    "    if \"part-time\" in text.lower():\n",
    "        result.append(\"Part-time\")\n",
    "    if \"b2b\" in text.lower():\n",
    "        result.append(\"B2B\")\n",
    "    \n",
    "    return \", \".join(result) if result else None\n",
    "\n",
    "df[\"employment_type\"] = df[\"description_criteria\"].apply(extract_employment_type)\n",
    "df[\"employment_type\"].value_counts()\n"
   ],
   "metadata": {
    "collapsed": false,
    "ExecuteTime": {
     "end_time": "2025-03-30T13:09:59.627787Z",
     "start_time": "2025-03-30T13:09:59.594422Z"
    }
   },
   "id": "5601cb1eee27588e",
   "execution_count": 28
  },
  {
   "cell_type": "code",
   "outputs": [
    {
     "name": "stdout",
     "output_type": "stream",
     "text": [
      "927\n"
     ]
    },
    {
     "data": {
      "text/plain": "final_description\nContract                          162\nContract, Full-time                42\nFull-time                          33\nContract, B2B                      13\nB2B                                 8\nPart-time                           8\nContract, Part-time                 6\nFull-time, Part-time                6\nContract, Full-time, Part-time      5\nName: count, dtype: int64"
     },
     "execution_count": 29,
     "metadata": {},
     "output_type": "execute_result"
    }
   ],
   "source": [
    "print(df[\"employment_type\"].isnull().sum())\n",
    "\n",
    "df[\"final_description\"][df[\"employment_type\"].isnull()].apply(extract_employment_type).value_counts()"
   ],
   "metadata": {
    "collapsed": false,
    "ExecuteTime": {
     "end_time": "2025-03-30T13:09:59.681382Z",
     "start_time": "2025-03-30T13:09:59.628760Z"
    }
   },
   "id": "9f8cc8109c324b65",
   "execution_count": 29
  },
  {
   "cell_type": "code",
   "outputs": [],
   "source": [
    "\n",
    "df[\"employment_type\"] = df[\"final_description\"][df[\"employment_type\"].isnull()].apply(extract_employment_type)"
   ],
   "metadata": {
    "collapsed": false,
    "ExecuteTime": {
     "end_time": "2025-03-30T13:09:59.729136Z",
     "start_time": "2025-03-30T13:09:59.682093Z"
    }
   },
   "id": "3d2e8be90f6a5f57",
   "execution_count": 30
  },
  {
   "cell_type": "code",
   "outputs": [
    {
     "data": {
      "text/plain": "0             Warsaw, Mazowieckie, Poland (On-site)\n1        Suchy Las, Wielkopolskie, Poland (On-site)\n2                Katowice, Śląskie, Poland (Hybrid)\n3                                   Poland (Remote)\n4                                   Poland (Remote)\n5                                   Poland (Remote)\n6             Warsaw, Mazowieckie, Poland (On-site)\n7                                   Poland (Remote)\n8                           European Union (Remote)\n9              Warsaw, Mazowieckie, Poland (Remote)\n10             Warsaw, Mazowieckie, Poland (Hybrid)\n11             Warsaw, Mazowieckie, Poland (Hybrid)\n12             Warsaw, Mazowieckie, Poland (Remote)\n13            Warsaw, Mazowieckie, Poland (On-site)\n14             Cracow, Małopolskie, Poland (Remote)\n15            Warsaw, Mazowieckie, Poland (On-site)\n16               Gdańsk, Pomorskie, Poland (Hybrid)\n17             Cracow, Małopolskie, Poland (Hybrid)\n18                                  Poland (Remote)\n19             Cracow, Małopolskie, Poland (Hybrid)\n20           Wrocław, Dolnośląskie, Poland (Hybrid)\n21             Warsaw, Mazowieckie, Poland (Remote)\n22            Warsaw, Mazowieckie, Poland (On-site)\n23                          European Union (Remote)\n24             Warsaw, Mazowieckie, Poland (Remote)\n25             Cracow, Małopolskie, Poland (Hybrid)\n26             Cracow, Małopolskie, Poland (Hybrid)\n27             Warsaw, Mazowieckie, Poland (Hybrid)\n28            Warsaw, Mazowieckie, Poland (On-site)\n29                                    EMEA (Remote)\n30             Warsaw, Mazowieckie, Poland (Remote)\n31           Wrocław, Dolnośląskie, Poland (Hybrid)\n32                      Warsaw, Mazowieckie, Poland\n33             Warsaw, Mazowieckie, Poland (Hybrid)\n34                                    EMEA (Remote)\n35             Cracow, Małopolskie, Poland (Hybrid)\n36            Warsaw, Mazowieckie, Poland (On-site)\n37             Warsaw, Mazowieckie, Poland (Hybrid)\n38                  European Economic Area (Remote)\n39             Cracow, Małopolskie, Poland (Hybrid)\n40               Katowice, Śląskie, Poland (Hybrid)\n41             Warsaw, Mazowieckie, Poland (Hybrid)\n42                      Warsaw, Mazowieckie, Poland\n43             Cracow, Małopolskie, Poland (Hybrid)\n44    Szczecin, Zachodniopomorskie, Poland (Hybrid)\n45             Warsaw, Mazowieckie, Poland (Hybrid)\n46           Wrocław, Dolnośląskie, Poland (Hybrid)\n47             Warsaw, Mazowieckie, Poland (Hybrid)\n48            Cracow, Małopolskie, Poland (On-site)\n49                   Łódź, Łódzkie, Poland (Hybrid)\nName: location, dtype: object"
     },
     "execution_count": 31,
     "metadata": {},
     "output_type": "execute_result"
    }
   ],
   "source": [
    "df[\"location\"].head(50)"
   ],
   "metadata": {
    "collapsed": false,
    "ExecuteTime": {
     "end_time": "2025-03-30T13:09:59.733973Z",
     "start_time": "2025-03-30T13:09:59.730120Z"
    }
   },
   "id": "21d6f1e50aa678bf",
   "execution_count": 31
  },
  {
   "cell_type": "code",
   "outputs": [],
   "source": [],
   "metadata": {
    "collapsed": false,
    "ExecuteTime": {
     "end_time": "2025-03-30T13:09:59.736482Z",
     "start_time": "2025-03-30T13:09:59.734814Z"
    }
   },
   "id": "e963e867aab5027d",
   "execution_count": 31
  }
 ],
 "metadata": {
  "kernelspec": {
   "display_name": "Python 3",
   "language": "python",
   "name": "python3"
  },
  "language_info": {
   "codemirror_mode": {
    "name": "ipython",
    "version": 2
   },
   "file_extension": ".py",
   "mimetype": "text/x-python",
   "name": "python",
   "nbconvert_exporter": "python",
   "pygments_lexer": "ipython2",
   "version": "2.7.6"
  }
 },
 "nbformat": 4,
 "nbformat_minor": 5
}
