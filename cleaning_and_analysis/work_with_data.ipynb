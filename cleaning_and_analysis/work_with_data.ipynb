{
 "cells": [
  {
   "cell_type": "code",
   "execution_count": 29,
   "id": "initial_id",
   "metadata": {
    "collapsed": true,
    "ExecuteTime": {
     "end_time": "2025-04-01T19:45:26.658530Z",
     "start_time": "2025-04-01T19:45:26.656295Z"
    }
   },
   "outputs": [],
   "source": [
    "import pandas as pd\n",
    "import os\n",
    "from dotenv import load_dotenv\n",
    "from sqlalchemy import create_engine, text\n",
    "from json import loads\n",
    "from requests import get\n",
    "import re\n",
    "from langdetect import detect"
   ]
  },
  {
   "cell_type": "code",
   "outputs": [],
   "source": [
    "# connect to the database\n",
    "\n",
    "dotenv_path = os.path.join(\"..\", \"scraping\", \".env\")\n",
    "load_dotenv(dotenv_path)\n",
    "DATABASE_URL = f\"postgresql://{os.getenv('DB_USER')}:{os.getenv('DB_PASSWORD')}@{os.getenv('DB_HOST')}:{os.getenv('DB_PORT')}/{os.getenv('DB_NAME')}\"\n",
    "\n",
    "engine = create_engine(DATABASE_URL)\n",
    "\n",
    "query = \"SELECT * FROM job_postings WHERE description IS NOT NULL;\"\n",
    "original_df = pd.read_sql(query, engine)\n",
    "df = original_df.copy()\n",
    "\n",
    "query2 =  \"\"\"\n",
    "    SELECT job_sources.*\n",
    "    FROM job_sources \n",
    "    INNER JOIN job_postings AS j \n",
    "    ON job_sources.job_id = j.job_id\n",
    "    WHERE j.description IS NOT NULL;\n",
    "\"\"\"\n",
    "original_df2 = pd.read_sql(query2, engine)\n",
    "df2 = original_df2.copy()"
   ],
   "metadata": {
    "collapsed": false,
    "ExecuteTime": {
     "end_time": "2025-04-01T19:45:27.700953Z",
     "start_time": "2025-04-01T19:45:26.685141Z"
    }
   },
   "id": "8a6f9c34488013ab",
   "execution_count": 30
  },
  {
   "cell_type": "code",
   "outputs": [
    {
     "data": {
      "text/plain": "       id      job_id                                              title  \\\n0    6538  4158196588                Rituals - Wholesale Intern (Warsaw)   \n1  348291  4188786744  Senior GenAI ML Engineer (Python / TensorFlow ...   \n2  298352  4188003130  Opiekun Magazynu JYSK Szczecin Auchan Kołbasko...   \n3  298373  4188215321                     Niemcy Ślusarz/ od 14E netto/h   \n4  298409  4185293278                    Główny Księgowy/Główna Księgowa   \n\n                                           location salary experience_level  \\\n0             Warsaw, Mazowieckie, Poland (On-site)   None             None   \n1                                   Poland (Remote)   None             None   \n2  Kołbaskowo, Zachodniopomorskie, Poland (On-site)   None             None   \n3         Zagranica, Podkarpackie, Poland (On-site)   None             None   \n4              Cracow, Małopolskie, Poland (Hybrid)   None             None   \n\n  job_type employment_type                                        description  \\\n0     None            None  W dziale Wholesale & Travel Retail dbamy o to,...   \n1     None            None  Dla naszego klienta 1dea poszukujemy osoby na ...   \n2     None            None  Opis firmyOpis oferty pracy   Czy jesteś gotow...   \n3     None            None  Agencja Pracy EURO WELT (KRAZ 12809) to certyf...   \n4     None            None   REKRUTACJA NA STANOWISKO:Główny_a Księgowy_a ...   \n\n  responsibilities requirements skills benefits  \\\n0             None         None   None     None   \n1             None         None   None     None   \n2             None         None   None     None   \n3             None         None   None     None   \n4             None         None   None     None   \n\n                                company  \\\n0              Rituals Cosmetics Polska   \n1                             inhire.io   \n2                                  JYSK   \n3  Agencja Pośrednictwa Pracy Servis HR   \n4                 Stowarzyszenie WIOSNA   \n\n                                description_criteria language  \\\n0  Seniority level Internship Employment type Int...       pl   \n1  Seniority level Mid-Senior level Employment ty...       pl   \n2  Seniority level Associate Employment type Full...       pl   \n3  Seniority level Entry level Employment type Fu...       pl   \n4  Seniority level Mid-Senior level Employment ty...       pl   \n\n                                      description_en  \n0  \"In the Wholesale section. \"As well as externa...  \n1  \"For our client 1Dea we are looking for a pers...  \n2  \"Description of the company's jobs. Are you re...  \n3  \"EURO WELT Employment Agency (KRAZ 12809) is a...  \n4  \"Recruitment for the position: Główny_A accoun...  ",
      "text/html": "<div>\n<style scoped>\n    .dataframe tbody tr th:only-of-type {\n        vertical-align: middle;\n    }\n\n    .dataframe tbody tr th {\n        vertical-align: top;\n    }\n\n    .dataframe thead th {\n        text-align: right;\n    }\n</style>\n<table border=\"1\" class=\"dataframe\">\n  <thead>\n    <tr style=\"text-align: right;\">\n      <th></th>\n      <th>id</th>\n      <th>job_id</th>\n      <th>title</th>\n      <th>location</th>\n      <th>salary</th>\n      <th>experience_level</th>\n      <th>job_type</th>\n      <th>employment_type</th>\n      <th>description</th>\n      <th>responsibilities</th>\n      <th>requirements</th>\n      <th>skills</th>\n      <th>benefits</th>\n      <th>company</th>\n      <th>description_criteria</th>\n      <th>language</th>\n      <th>description_en</th>\n    </tr>\n  </thead>\n  <tbody>\n    <tr>\n      <th>0</th>\n      <td>6538</td>\n      <td>4158196588</td>\n      <td>Rituals - Wholesale Intern (Warsaw)</td>\n      <td>Warsaw, Mazowieckie, Poland (On-site)</td>\n      <td>None</td>\n      <td>None</td>\n      <td>None</td>\n      <td>None</td>\n      <td>W dziale Wholesale &amp; Travel Retail dbamy o to,...</td>\n      <td>None</td>\n      <td>None</td>\n      <td>None</td>\n      <td>None</td>\n      <td>Rituals Cosmetics Polska</td>\n      <td>Seniority level Internship Employment type Int...</td>\n      <td>pl</td>\n      <td>\"In the Wholesale section. \"As well as externa...</td>\n    </tr>\n    <tr>\n      <th>1</th>\n      <td>348291</td>\n      <td>4188786744</td>\n      <td>Senior GenAI ML Engineer (Python / TensorFlow ...</td>\n      <td>Poland (Remote)</td>\n      <td>None</td>\n      <td>None</td>\n      <td>None</td>\n      <td>None</td>\n      <td>Dla naszego klienta 1dea poszukujemy osoby na ...</td>\n      <td>None</td>\n      <td>None</td>\n      <td>None</td>\n      <td>None</td>\n      <td>inhire.io</td>\n      <td>Seniority level Mid-Senior level Employment ty...</td>\n      <td>pl</td>\n      <td>\"For our client 1Dea we are looking for a pers...</td>\n    </tr>\n    <tr>\n      <th>2</th>\n      <td>298352</td>\n      <td>4188003130</td>\n      <td>Opiekun Magazynu JYSK Szczecin Auchan Kołbasko...</td>\n      <td>Kołbaskowo, Zachodniopomorskie, Poland (On-site)</td>\n      <td>None</td>\n      <td>None</td>\n      <td>None</td>\n      <td>None</td>\n      <td>Opis firmyOpis oferty pracy   Czy jesteś gotow...</td>\n      <td>None</td>\n      <td>None</td>\n      <td>None</td>\n      <td>None</td>\n      <td>JYSK</td>\n      <td>Seniority level Associate Employment type Full...</td>\n      <td>pl</td>\n      <td>\"Description of the company's jobs. Are you re...</td>\n    </tr>\n    <tr>\n      <th>3</th>\n      <td>298373</td>\n      <td>4188215321</td>\n      <td>Niemcy Ślusarz/ od 14E netto/h</td>\n      <td>Zagranica, Podkarpackie, Poland (On-site)</td>\n      <td>None</td>\n      <td>None</td>\n      <td>None</td>\n      <td>None</td>\n      <td>Agencja Pracy EURO WELT (KRAZ 12809) to certyf...</td>\n      <td>None</td>\n      <td>None</td>\n      <td>None</td>\n      <td>None</td>\n      <td>Agencja Pośrednictwa Pracy Servis HR</td>\n      <td>Seniority level Entry level Employment type Fu...</td>\n      <td>pl</td>\n      <td>\"EURO WELT Employment Agency (KRAZ 12809) is a...</td>\n    </tr>\n    <tr>\n      <th>4</th>\n      <td>298409</td>\n      <td>4185293278</td>\n      <td>Główny Księgowy/Główna Księgowa</td>\n      <td>Cracow, Małopolskie, Poland (Hybrid)</td>\n      <td>None</td>\n      <td>None</td>\n      <td>None</td>\n      <td>None</td>\n      <td>REKRUTACJA NA STANOWISKO:Główny_a Księgowy_a ...</td>\n      <td>None</td>\n      <td>None</td>\n      <td>None</td>\n      <td>None</td>\n      <td>Stowarzyszenie WIOSNA</td>\n      <td>Seniority level Mid-Senior level Employment ty...</td>\n      <td>pl</td>\n      <td>\"Recruitment for the position: Główny_A accoun...</td>\n    </tr>\n  </tbody>\n</table>\n</div>"
     },
     "execution_count": 31,
     "metadata": {},
     "output_type": "execute_result"
    }
   ],
   "source": [
    "df.head()"
   ],
   "metadata": {
    "collapsed": false,
    "ExecuteTime": {
     "end_time": "2025-04-01T19:45:27.710731Z",
     "start_time": "2025-04-01T19:45:27.702226Z"
    }
   },
   "id": "5a0a7057e9221e5b",
   "execution_count": 31
  },
  {
   "cell_type": "code",
   "outputs": [
    {
     "data": {
      "text/plain": "   id      job_id    source                                        job_url  \\\n0   1  4158353862  LinkedIn  https://www.linkedin.com/jobs/view/4158353862   \n1   2  4138407547  LinkedIn  https://www.linkedin.com/jobs/view/4138407547   \n2   3  4144364769  LinkedIn  https://www.linkedin.com/jobs/view/4144364769   \n3   4  4083706042  LinkedIn  https://www.linkedin.com/jobs/view/4083706042   \n4   5  4154765012  LinkedIn  https://www.linkedin.com/jobs/view/4154765012   \n\n  date_posted  is_active  \n0  2025-02-21       True  \n1  2025-02-21       True  \n2  2025-02-21       True  \n3  2025-02-21       True  \n4  2025-02-21       True  ",
      "text/html": "<div>\n<style scoped>\n    .dataframe tbody tr th:only-of-type {\n        vertical-align: middle;\n    }\n\n    .dataframe tbody tr th {\n        vertical-align: top;\n    }\n\n    .dataframe thead th {\n        text-align: right;\n    }\n</style>\n<table border=\"1\" class=\"dataframe\">\n  <thead>\n    <tr style=\"text-align: right;\">\n      <th></th>\n      <th>id</th>\n      <th>job_id</th>\n      <th>source</th>\n      <th>job_url</th>\n      <th>date_posted</th>\n      <th>is_active</th>\n    </tr>\n  </thead>\n  <tbody>\n    <tr>\n      <th>0</th>\n      <td>1</td>\n      <td>4158353862</td>\n      <td>LinkedIn</td>\n      <td>https://www.linkedin.com/jobs/view/4158353862</td>\n      <td>2025-02-21</td>\n      <td>True</td>\n    </tr>\n    <tr>\n      <th>1</th>\n      <td>2</td>\n      <td>4138407547</td>\n      <td>LinkedIn</td>\n      <td>https://www.linkedin.com/jobs/view/4138407547</td>\n      <td>2025-02-21</td>\n      <td>True</td>\n    </tr>\n    <tr>\n      <th>2</th>\n      <td>3</td>\n      <td>4144364769</td>\n      <td>LinkedIn</td>\n      <td>https://www.linkedin.com/jobs/view/4144364769</td>\n      <td>2025-02-21</td>\n      <td>True</td>\n    </tr>\n    <tr>\n      <th>3</th>\n      <td>4</td>\n      <td>4083706042</td>\n      <td>LinkedIn</td>\n      <td>https://www.linkedin.com/jobs/view/4083706042</td>\n      <td>2025-02-21</td>\n      <td>True</td>\n    </tr>\n    <tr>\n      <th>4</th>\n      <td>5</td>\n      <td>4154765012</td>\n      <td>LinkedIn</td>\n      <td>https://www.linkedin.com/jobs/view/4154765012</td>\n      <td>2025-02-21</td>\n      <td>True</td>\n    </tr>\n  </tbody>\n</table>\n</div>"
     },
     "execution_count": 32,
     "metadata": {},
     "output_type": "execute_result"
    }
   ],
   "source": [
    "df2.head()"
   ],
   "metadata": {
    "collapsed": false,
    "ExecuteTime": {
     "end_time": "2025-04-01T19:45:27.716700Z",
     "start_time": "2025-04-01T19:45:27.711499Z"
    }
   },
   "id": "5da08937b48dae01",
   "execution_count": 32
  },
  {
   "cell_type": "code",
   "outputs": [],
   "source": [
    "def detect_language(text):\n",
    "    try:\n",
    "        return detect(text)\n",
    "    except:\n",
    "        return \"unknown\""
   ],
   "metadata": {
    "collapsed": false,
    "ExecuteTime": {
     "end_time": "2025-04-01T19:45:27.720257Z",
     "start_time": "2025-04-01T19:45:27.718204Z"
    }
   },
   "id": "41165e08935242ae",
   "execution_count": 33
  },
  {
   "cell_type": "code",
   "outputs": [],
   "source": [
    "def update_description(text):\n",
    "    sentences = re.split(r'(?<=[a-ząęśćźżół])(?=[A-ZĄĘŚĆŹŻÓŁ])', text)\n",
    "    return \", \".join(sentences)\n",
    "\n",
    "df[\"description\"] = df[\"description\"].apply(update_description)"
   ],
   "metadata": {
    "collapsed": false,
    "ExecuteTime": {
     "end_time": "2025-04-01T19:45:29.928536Z",
     "start_time": "2025-04-01T19:45:27.720960Z"
    }
   },
   "id": "48e9aa97c2123c3d",
   "execution_count": 34
  },
  {
   "cell_type": "code",
   "outputs": [],
   "source": [
    "\n",
    "\n",
    "def split_text(text, max_length=450):\n",
    "    \"\"\"Splits text into chunks, ensuring each is under the max_length.\"\"\"\n",
    "    sentences = re.split(r'([.,;])', text)\n",
    "    chunks = []\n",
    "    temp_chunk = \"\"\n",
    "\n",
    "    for sentence in sentences:\n",
    "        if temp_chunk and len(temp_chunk) + len(sentence) + 1 > max_length:\n",
    "            chunks.append(temp_chunk.strip())\n",
    "            temp_chunk = sentence\n",
    "        else:\n",
    "            temp_chunk = f\"{temp_chunk} {sentence}\".strip() if temp_chunk else sentence\n",
    "    if temp_chunk:\n",
    "        chunks.append(temp_chunk.strip())\n",
    "    \n",
    "    return chunks\n",
    "\n",
    "\n",
    "def translate_text(text):\n",
    "    \"\"\"Translates text using the free Google API.\"\"\"\n",
    "    url = f'https://translate.googleapis.com/translate_a/single?client=gtx&dt=t&sl=pl&tl=en&q=\"{str(text)}\"'\n",
    "    try:\n",
    "        response = get(url)\n",
    "        translated_json = loads(response.text)\n",
    "        return translated_json[0][0][0] if translated_json else text\n",
    "    except Exception as e:\n",
    "        print(f\"Error translating: {e}\")\n",
    "        return text\n",
    "\n",
    "def translate_full_text(text):\n",
    "    \"\"\"Splits, translates, and reconstructs the translated text.\"\"\"\n",
    "    chunks = split_text(text)\n",
    "    translated_chunks = [translate_text(chunk) for chunk in chunks]\n",
    "    return \". \".join(translated_chunks)"
   ],
   "metadata": {
    "collapsed": false,
    "ExecuteTime": {
     "end_time": "2025-04-01T19:45:29.933562Z",
     "start_time": "2025-04-01T19:45:29.929327Z"
    }
   },
   "id": "bb9e48e9d8942358",
   "execution_count": 35
  },
  {
   "cell_type": "code",
   "outputs": [
    {
     "name": "stdout",
     "output_type": "stream",
     "text": [
      "Total Polish descriptions to translate: 0\n",
      "No Polish descriptions to translate.\n"
     ]
    }
   ],
   "source": [
    "from tqdm import tqdm\n",
    "from sqlalchemy.exc import OperationalError\n",
    "import time\n",
    "import sys\n",
    "import math\n",
    "tqdm.pandas()\n",
    "\n",
    "with engine.connect() as connection:\n",
    "    connection.execute(text(\"ALTER TABLE job_postings ADD COLUMN IF NOT EXISTS description_en TEXT;\"))\n",
    "    connection.execute(text(\"ALTER TABLE job_postings ADD COLUMN IF NOT EXISTS language VARCHAR(10);\"))\n",
    "\n",
    "    connection.commit()\n",
    "\n",
    "df = pd.read_sql(\"SELECT * FROM job_postings WHERE description IS NOT NULL;\", engine)\n",
    "df[\"language\"] = df[\"language\"].fillna('')\n",
    "\n",
    "\n",
    "missing_language_rows = df[df[\"language\"] == \"\"]\n",
    "if not missing_language_rows.empty:\n",
    "    print(f\"Detecting language for {len(missing_language_rows)} descriptions...\")\n",
    "    df.loc[df[\"language\"] == \"\", \"language\"] = df.loc[df[\"language\"] == \"\", \"description\"].apply(detect_language)\n",
    "\n",
    "    with engine.begin() as conn:\n",
    "        for _, row in df[df[\"language\"] != \"\"].iterrows():\n",
    "            conn.execute(\n",
    "                text(\"UPDATE job_postings SET language = :language WHERE job_id = :job_id\"),\n",
    "                {\"language\": row[\"language\"], \"job_id\": row[\"job_id\"]}\n",
    "            )\n",
    "\n",
    "df[\"description_en\"] = df.get(\"description_en\", pd.Series([None]*len(df)))\n",
    "\n",
    "df_to_translate = df[(df[\"language\"] == \"pl\") & (df[\"description_en\"].isnull())].copy()\n",
    "total = len(df_to_translate)\n",
    "print(f\"Total Polish descriptions to translate: {total}\")\n",
    "\n",
    "skip = False\n",
    "if total < 5:\n",
    "    print(\"No Polish descriptions to translate.\")\n",
    "    skip = True\n",
    "\n",
    "if not skip:\n",
    "    chunk_size = math.ceil(total / 25)\n",
    "    \n",
    "    for i in range(0, total, chunk_size):\n",
    "        chunk = df_to_translate.iloc[i:i+chunk_size].copy()\n",
    "        print(f\"\\n🔸 Translating chunk {i//chunk_size + 1}/25\")\n",
    "        time.sleep(3)\n",
    "        chunk[\"translated_description\"] = chunk[\"description\"].progress_apply(translate_full_text)\n",
    "    \n",
    "        # Save to DB\n",
    "        for _, row in chunk.iterrows():\n",
    "            try:\n",
    "                with engine.begin() as conn:\n",
    "                    conn.execute(\n",
    "                        text(\"UPDATE job_postings SET description_en = :desc_en WHERE job_id = :job_id\"),\n",
    "                        {\"desc_en\": row[\"translated_description\"], \"job_id\": row[\"job_id\"]}\n",
    "                    )\n",
    "            except OperationalError as e:\n",
    "                print(f\"OperationalError for job_id={row['job_id']}: {e}\")\n",
    "                time.sleep(3)\n",
    "    \n",
    "        print(f\"Chunk {i//chunk_size + 1} saved to database.\")\n"
   ],
   "metadata": {
    "collapsed": false,
    "ExecuteTime": {
     "end_time": "2025-04-01T19:45:30.894053Z",
     "start_time": "2025-04-01T19:45:29.934346Z"
    }
   },
   "id": "f3d347c1548f64da",
   "execution_count": 36
  },
  {
   "cell_type": "code",
   "outputs": [],
   "source": [
    "df[\"final_description\"] = df.apply(lambda row: row[\"description_en\"] if pd.notnull(row[\"description_en\"]) else row[\"description\"], axis=1)"
   ],
   "metadata": {
    "collapsed": false,
    "ExecuteTime": {
     "end_time": "2025-04-01T19:45:31.040307Z",
     "start_time": "2025-04-01T19:45:30.894832Z"
    }
   },
   "id": "6b712061ac21379b",
   "execution_count": 37
  },
  {
   "cell_type": "code",
   "outputs": [
    {
     "data": {
      "text/plain": "       id      job_id                                              title  \\\n0    6538  4158196588                Rituals - Wholesale Intern (Warsaw)   \n1  348291  4188786744  Senior GenAI ML Engineer (Python / TensorFlow ...   \n2  298352  4188003130  Opiekun Magazynu JYSK Szczecin Auchan Kołbasko...   \n3  298373  4188215321                     Niemcy Ślusarz/ od 14E netto/h   \n4  298409  4185293278                    Główny Księgowy/Główna Księgowa   \n\n                                           location salary experience_level  \\\n0             Warsaw, Mazowieckie, Poland (On-site)   None             None   \n1                                   Poland (Remote)   None             None   \n2  Kołbaskowo, Zachodniopomorskie, Poland (On-site)   None             None   \n3         Zagranica, Podkarpackie, Poland (On-site)   None             None   \n4              Cracow, Małopolskie, Poland (Hybrid)   None             None   \n\n  job_type employment_type                                        description  \\\n0     None            None  W dziale Wholesale & Travel Retail dbamy o to,...   \n1     None            None  Dla naszego klienta 1dea poszukujemy osoby na ...   \n2     None            None  Opis firmyOpis oferty pracy   Czy jesteś gotow...   \n3     None            None  Agencja Pracy EURO WELT (KRAZ 12809) to certyf...   \n4     None            None   REKRUTACJA NA STANOWISKO:Główny_a Księgowy_a ...   \n\n  responsibilities requirements skills benefits  \\\n0             None         None   None     None   \n1             None         None   None     None   \n2             None         None   None     None   \n3             None         None   None     None   \n4             None         None   None     None   \n\n                                company  \\\n0              Rituals Cosmetics Polska   \n1                             inhire.io   \n2                                  JYSK   \n3  Agencja Pośrednictwa Pracy Servis HR   \n4                 Stowarzyszenie WIOSNA   \n\n                                description_criteria language  \\\n0  Seniority level Internship Employment type Int...       pl   \n1  Seniority level Mid-Senior level Employment ty...       pl   \n2  Seniority level Associate Employment type Full...       pl   \n3  Seniority level Entry level Employment type Fu...       pl   \n4  Seniority level Mid-Senior level Employment ty...       pl   \n\n                                      description_en  \\\n0  \"In the Wholesale section. \"As well as externa...   \n1  \"For our client 1Dea we are looking for a pers...   \n2  \"Description of the company's jobs. Are you re...   \n3  \"EURO WELT Employment Agency (KRAZ 12809) is a...   \n4  \"Recruitment for the position: Główny_A accoun...   \n\n                                   final_description  \n0  \"In the Wholesale section. \"As well as externa...  \n1  \"For our client 1Dea we are looking for a pers...  \n2  \"Description of the company's jobs. Are you re...  \n3  \"EURO WELT Employment Agency (KRAZ 12809) is a...  \n4  \"Recruitment for the position: Główny_A accoun...  ",
      "text/html": "<div>\n<style scoped>\n    .dataframe tbody tr th:only-of-type {\n        vertical-align: middle;\n    }\n\n    .dataframe tbody tr th {\n        vertical-align: top;\n    }\n\n    .dataframe thead th {\n        text-align: right;\n    }\n</style>\n<table border=\"1\" class=\"dataframe\">\n  <thead>\n    <tr style=\"text-align: right;\">\n      <th></th>\n      <th>id</th>\n      <th>job_id</th>\n      <th>title</th>\n      <th>location</th>\n      <th>salary</th>\n      <th>experience_level</th>\n      <th>job_type</th>\n      <th>employment_type</th>\n      <th>description</th>\n      <th>responsibilities</th>\n      <th>requirements</th>\n      <th>skills</th>\n      <th>benefits</th>\n      <th>company</th>\n      <th>description_criteria</th>\n      <th>language</th>\n      <th>description_en</th>\n      <th>final_description</th>\n    </tr>\n  </thead>\n  <tbody>\n    <tr>\n      <th>0</th>\n      <td>6538</td>\n      <td>4158196588</td>\n      <td>Rituals - Wholesale Intern (Warsaw)</td>\n      <td>Warsaw, Mazowieckie, Poland (On-site)</td>\n      <td>None</td>\n      <td>None</td>\n      <td>None</td>\n      <td>None</td>\n      <td>W dziale Wholesale &amp; Travel Retail dbamy o to,...</td>\n      <td>None</td>\n      <td>None</td>\n      <td>None</td>\n      <td>None</td>\n      <td>Rituals Cosmetics Polska</td>\n      <td>Seniority level Internship Employment type Int...</td>\n      <td>pl</td>\n      <td>\"In the Wholesale section. \"As well as externa...</td>\n      <td>\"In the Wholesale section. \"As well as externa...</td>\n    </tr>\n    <tr>\n      <th>1</th>\n      <td>348291</td>\n      <td>4188786744</td>\n      <td>Senior GenAI ML Engineer (Python / TensorFlow ...</td>\n      <td>Poland (Remote)</td>\n      <td>None</td>\n      <td>None</td>\n      <td>None</td>\n      <td>None</td>\n      <td>Dla naszego klienta 1dea poszukujemy osoby na ...</td>\n      <td>None</td>\n      <td>None</td>\n      <td>None</td>\n      <td>None</td>\n      <td>inhire.io</td>\n      <td>Seniority level Mid-Senior level Employment ty...</td>\n      <td>pl</td>\n      <td>\"For our client 1Dea we are looking for a pers...</td>\n      <td>\"For our client 1Dea we are looking for a pers...</td>\n    </tr>\n    <tr>\n      <th>2</th>\n      <td>298352</td>\n      <td>4188003130</td>\n      <td>Opiekun Magazynu JYSK Szczecin Auchan Kołbasko...</td>\n      <td>Kołbaskowo, Zachodniopomorskie, Poland (On-site)</td>\n      <td>None</td>\n      <td>None</td>\n      <td>None</td>\n      <td>None</td>\n      <td>Opis firmyOpis oferty pracy   Czy jesteś gotow...</td>\n      <td>None</td>\n      <td>None</td>\n      <td>None</td>\n      <td>None</td>\n      <td>JYSK</td>\n      <td>Seniority level Associate Employment type Full...</td>\n      <td>pl</td>\n      <td>\"Description of the company's jobs. Are you re...</td>\n      <td>\"Description of the company's jobs. Are you re...</td>\n    </tr>\n    <tr>\n      <th>3</th>\n      <td>298373</td>\n      <td>4188215321</td>\n      <td>Niemcy Ślusarz/ od 14E netto/h</td>\n      <td>Zagranica, Podkarpackie, Poland (On-site)</td>\n      <td>None</td>\n      <td>None</td>\n      <td>None</td>\n      <td>None</td>\n      <td>Agencja Pracy EURO WELT (KRAZ 12809) to certyf...</td>\n      <td>None</td>\n      <td>None</td>\n      <td>None</td>\n      <td>None</td>\n      <td>Agencja Pośrednictwa Pracy Servis HR</td>\n      <td>Seniority level Entry level Employment type Fu...</td>\n      <td>pl</td>\n      <td>\"EURO WELT Employment Agency (KRAZ 12809) is a...</td>\n      <td>\"EURO WELT Employment Agency (KRAZ 12809) is a...</td>\n    </tr>\n    <tr>\n      <th>4</th>\n      <td>298409</td>\n      <td>4185293278</td>\n      <td>Główny Księgowy/Główna Księgowa</td>\n      <td>Cracow, Małopolskie, Poland (Hybrid)</td>\n      <td>None</td>\n      <td>None</td>\n      <td>None</td>\n      <td>None</td>\n      <td>REKRUTACJA NA STANOWISKO:Główny_a Księgowy_a ...</td>\n      <td>None</td>\n      <td>None</td>\n      <td>None</td>\n      <td>None</td>\n      <td>Stowarzyszenie WIOSNA</td>\n      <td>Seniority level Mid-Senior level Employment ty...</td>\n      <td>pl</td>\n      <td>\"Recruitment for the position: Główny_A accoun...</td>\n      <td>\"Recruitment for the position: Główny_A accoun...</td>\n    </tr>\n  </tbody>\n</table>\n</div>"
     },
     "execution_count": 38,
     "metadata": {},
     "output_type": "execute_result"
    }
   ],
   "source": [
    "df.head()"
   ],
   "metadata": {
    "collapsed": false,
    "ExecuteTime": {
     "end_time": "2025-04-01T19:45:31.052100Z",
     "start_time": "2025-04-01T19:45:31.041086Z"
    }
   },
   "id": "7f8718875c1b0c91",
   "execution_count": 38
  },
  {
   "cell_type": "code",
   "outputs": [],
   "source": [],
   "metadata": {
    "collapsed": false,
    "ExecuteTime": {
     "end_time": "2025-04-01T19:45:31.055862Z",
     "start_time": "2025-04-01T19:45:31.054354Z"
    }
   },
   "id": "f4f40e0bc510885",
   "execution_count": 38
  },
  {
   "cell_type": "code",
   "outputs": [
    {
     "data": {
      "text/plain": "'\"In the Wholesale section. \"As well as external partners. Wholesale Intern will help the team in the areas of: data management, communication, analyzes and support of Back Office. If you want to learn more about sales both off - and online,\". \"This is an ideal internship for you! Your tasks: data management and their analysis based on reports in the Excel program - the basis of your activities arartly preparing files with data - tracking inputs and going out to the customer, updating basic data and support for planning inquiries. Ordering marketing materials from agencies for 7 markets.\". \"Taking care of the database - collecting information from Account Managers and Marketing Department. Creating monthly marketing reports. Support in management and orders management, daily control/marketing control on our partners\\' pages. Updating documents related to wholesale sales. Inspire knowledge and skills! Your profile: You have a ground knowledge and skills in the field of Excel programs . \"Word, Power Point and database management tools; experience in a branded retail environment is preferred; you have strong verbal and written communication skills, attention to detail and accuracy; you can organize your work well and you have the ability to coordinate several projects at the same time; communicatively you use English in speech and writing; you have the opportunity to work min.\". \"3-4 days a week. Benefits of working in the Rituals store Training and developmental opportunities for the bonus system for Ritualspotka Integration Products Team Division for medical care\"'"
     },
     "execution_count": 39,
     "metadata": {},
     "output_type": "execute_result"
    }
   ],
   "source": [
    "df[\"final_description\"].iloc[0]"
   ],
   "metadata": {
    "collapsed": false,
    "ExecuteTime": {
     "end_time": "2025-04-01T19:45:31.059492Z",
     "start_time": "2025-04-01T19:45:31.056515Z"
    }
   },
   "id": "dc1b29c2bbc33cdc",
   "execution_count": 39
  },
  {
   "cell_type": "code",
   "outputs": [
    {
     "data": {
      "text/plain": "Index([2675, 3415, 9103, 9104, 17038, 23273, 23585, 24119, 27201, 28037, 28144,\n       28585],\n      dtype='int64')"
     },
     "execution_count": 40,
     "metadata": {},
     "output_type": "execute_result"
    }
   ],
   "source": [
    "df[df[\"description_criteria\"].isnull()].index\n"
   ],
   "metadata": {
    "collapsed": false,
    "ExecuteTime": {
     "end_time": "2025-04-01T19:45:31.067554Z",
     "start_time": "2025-04-01T19:45:31.060383Z"
    }
   },
   "id": "2c3623b97185c1ac",
   "execution_count": 40
  },
  {
   "cell_type": "code",
   "outputs": [
    {
     "data": {
      "text/plain": "id                                                                  43895\njob_id                                                         4173783845\ntitle                                               Tester Automatyzujący\nlocation                                                  Poland (Remote)\nsalary                                                               None\nexperience_level                                                     None\njob_type                                                             None\nemployment_type                                                      None\ndescription              ➡️ Jesteśmy częścią grupyALTEN– wiodącego, eu...\nresponsibilities                                                     None\nrequirements                                                         None\nskills                                                               None\nbenefits                                                             None\ncompany                                                      ALTEN Polska\ndescription_criteria    Seniority level Associate Employment type Full...\nlanguage                                                               pl\ndescription_en          \"➡️ We are part of a group - a leading Europea...\nfinal_description       \"➡️ We are part of a group - a leading Europea...\nName: 4913, dtype: object"
     },
     "execution_count": 41,
     "metadata": {},
     "output_type": "execute_result"
    }
   ],
   "source": [
    "df.iloc[4913]\n"
   ],
   "metadata": {
    "collapsed": false,
    "ExecuteTime": {
     "end_time": "2025-04-01T19:45:31.071946Z",
     "start_time": "2025-04-01T19:45:31.068394Z"
    }
   },
   "id": "acf063fb70f1e59e",
   "execution_count": 41
  },
  {
   "cell_type": "code",
   "outputs": [
    {
     "data": {
      "text/plain": "id                                                                  16098\njob_id                                                         4146989283\ntitle                                 Middle Front End Engineer (Angular)\nlocation                            Warsaw, Mazowieckie, Poland (On-site)\nsalary                                                               None\nexperience_level                                                     None\njob_type                                                             None\nemployment_type                                                      None\ndescription              About Us: Voyagu is a travel-tech startup hel...\nresponsibilities                                                     None\nrequirements                                                         None\nskills                                                               None\nbenefits                                                             None\ncompany                                                            Voyagu\ndescription_criteria    Seniority level Mid-Senior level Employment ty...\nlanguage                                                               en\ndescription_en                                                       None\nfinal_description        About Us: Voyagu is a travel-tech startup hel...\nName: 4915, dtype: object"
     },
     "execution_count": 42,
     "metadata": {},
     "output_type": "execute_result"
    }
   ],
   "source": [
    "df.drop(index=df[df[\"description_criteria\"].isnull()].index, inplace=True)\n",
    "df.iloc[4913]"
   ],
   "metadata": {
    "collapsed": false,
    "ExecuteTime": {
     "end_time": "2025-04-01T19:45:31.089272Z",
     "start_time": "2025-04-01T19:45:31.072579Z"
    }
   },
   "id": "de61f266b26090ee",
   "execution_count": 42
  },
  {
   "cell_type": "code",
   "outputs": [
    {
     "data": {
      "text/plain": "job_type\nHybrid     9553\nRemote     8981\nOn-site    8612\nName: count, dtype: int64"
     },
     "execution_count": 43,
     "metadata": {},
     "output_type": "execute_result"
    }
   ],
   "source": [
    "# Extracting job type\n",
    "def extract_job_type(text):\n",
    "    result = []\n",
    "    if \"remote\" in text.lower():\n",
    "        result.append(\"Remote\")\n",
    "    elif \"hybrid\" in text.lower():\n",
    "        result.append(\"Hybrid\")\n",
    "    elif \"on-site\" in text.lower() or \"office\" in text.lower():\n",
    "        result.append(\"On-site\")\n",
    "    return \", \".join(result) if result else None\n",
    "\n",
    "\n",
    "df[\"job_type\"] = df[\"location\"].apply(extract_job_type)\n",
    "df[\"job_type\"].value_counts()"
   ],
   "metadata": {
    "collapsed": false,
    "ExecuteTime": {
     "end_time": "2025-04-01T19:45:31.112812Z",
     "start_time": "2025-04-01T19:45:31.090165Z"
    }
   },
   "id": "19aa30f03420c285",
   "execution_count": 43
  },
  {
   "cell_type": "code",
   "outputs": [
    {
     "name": "stdout",
     "output_type": "stream",
     "text": [
      "2395\n"
     ]
    },
    {
     "data": {
      "text/plain": "final_description\nRemote     768\nHybrid     535\nOn-site    475\nName: count, dtype: int64"
     },
     "execution_count": 44,
     "metadata": {},
     "output_type": "execute_result"
    }
   ],
   "source": [
    "print(df[\"job_type\"].isnull().sum())\n",
    "\n",
    "df[\"final_description\"][df[\"job_type\"].isnull()].apply(extract_job_type).value_counts()\n"
   ],
   "metadata": {
    "collapsed": false,
    "ExecuteTime": {
     "end_time": "2025-04-01T19:45:31.250377Z",
     "start_time": "2025-04-01T19:45:31.113544Z"
    }
   },
   "id": "7cac44833bf437e",
   "execution_count": 44
  },
  {
   "cell_type": "code",
   "outputs": [
    {
     "name": "stdout",
     "output_type": "stream",
     "text": [
      "617\n"
     ]
    }
   ],
   "source": [
    "df[\"job_type\"] = df[\"job_type\"].fillna(df[\"final_description\"].apply(extract_job_type))\n",
    "print(df[\"job_type\"].isnull().sum())\n"
   ],
   "metadata": {
    "collapsed": false,
    "ExecuteTime": {
     "end_time": "2025-04-01T19:45:32.422945Z",
     "start_time": "2025-04-01T19:45:31.251245Z"
    }
   },
   "id": "30d35dc297cb9619",
   "execution_count": 45
  },
  {
   "cell_type": "code",
   "outputs": [
    {
     "data": {
      "text/plain": "employment_type\nFull-time              25685\nContract                2515\nPart-time                412\nContract, Full-time        2\nName: count, dtype: int64"
     },
     "execution_count": 46,
     "metadata": {},
     "output_type": "execute_result"
    }
   ],
   "source": [
    "def extract_employment_type(text):\n",
    "    result = []\n",
    "    if \"contract\" in text.lower():\n",
    "        result.append(\"Contract\")\n",
    "    if \"full-time\" in text.lower():\n",
    "        result.append(\"Full-time\")\n",
    "    if \"part-time\" in text.lower():\n",
    "        result.append(\"Part-time\")\n",
    "    if \"b2b\" in text.lower():\n",
    "        result.append(\"B2B\")\n",
    "    \n",
    "    return \", \".join(result) if result else None\n",
    "\n",
    "df[\"employment_type\"] = df[\"description_criteria\"].apply(extract_employment_type)\n",
    "df[\"employment_type\"].value_counts()\n"
   ],
   "metadata": {
    "collapsed": false,
    "ExecuteTime": {
     "end_time": "2025-04-01T19:45:32.456513Z",
     "start_time": "2025-04-01T19:45:32.423646Z"
    }
   },
   "id": "5601cb1eee27588e",
   "execution_count": 46
  },
  {
   "cell_type": "code",
   "outputs": [
    {
     "name": "stdout",
     "output_type": "stream",
     "text": [
      "927\n"
     ]
    },
    {
     "data": {
      "text/plain": "final_description\nContract                          176\nContract, Full-time                43\nFull-time                          33\nContract, B2B                      14\nPart-time                           8\nB2B                                 7\nContract, Part-time                 6\nFull-time, Part-time                6\nContract, Full-time, Part-time      5\nName: count, dtype: int64"
     },
     "execution_count": 47,
     "metadata": {},
     "output_type": "execute_result"
    }
   ],
   "source": [
    "print(df[\"employment_type\"].isnull().sum())\n",
    "\n",
    "df[\"final_description\"][df[\"employment_type\"].isnull()].apply(extract_employment_type).value_counts()"
   ],
   "metadata": {
    "collapsed": false,
    "ExecuteTime": {
     "end_time": "2025-04-01T19:45:32.505943Z",
     "start_time": "2025-04-01T19:45:32.457192Z"
    }
   },
   "id": "9f8cc8109c324b65",
   "execution_count": 47
  },
  {
   "cell_type": "code",
   "outputs": [
    {
     "name": "stdout",
     "output_type": "stream",
     "text": [
      "629\n"
     ]
    }
   ],
   "source": [
    "df[\"employment_type\"] = df[\"employment_type\"].fillna(df[\"final_description\"].apply(extract_employment_type))\n",
    "\n",
    "print(df[\"employment_type\"].isnull().sum())"
   ],
   "metadata": {
    "collapsed": false,
    "ExecuteTime": {
     "end_time": "2025-04-01T19:45:34.107535Z",
     "start_time": "2025-04-01T19:45:32.506645Z"
    }
   },
   "id": "3d2e8be90f6a5f57",
   "execution_count": 48
  },
  {
   "cell_type": "code",
   "outputs": [
    {
     "data": {
      "text/plain": "       id      job_id                                              title  \\\n0    6538  4158196588                Rituals - Wholesale Intern (Warsaw)   \n1  348291  4188786744  Senior GenAI ML Engineer (Python / TensorFlow ...   \n2  298352  4188003130  Opiekun Magazynu JYSK Szczecin Auchan Kołbasko...   \n3  298373  4188215321                     Niemcy Ślusarz/ od 14E netto/h   \n4  298409  4185293278                    Główny Księgowy/Główna Księgowa   \n\n                                           location salary experience_level  \\\n0             Warsaw, Mazowieckie, Poland (On-site)   None             None   \n1                                   Poland (Remote)   None             None   \n2  Kołbaskowo, Zachodniopomorskie, Poland (On-site)   None             None   \n3         Zagranica, Podkarpackie, Poland (On-site)   None             None   \n4              Cracow, Małopolskie, Poland (Hybrid)   None             None   \n\n  job_type employment_type                                        description  \\\n0  On-site            None  W dziale Wholesale & Travel Retail dbamy o to,...   \n1   Remote       Full-time  Dla naszego klienta 1dea poszukujemy osoby na ...   \n2  On-site       Full-time  Opis firmyOpis oferty pracy   Czy jesteś gotow...   \n3  On-site       Full-time  Agencja Pracy EURO WELT (KRAZ 12809) to certyf...   \n4   Hybrid       Full-time   REKRUTACJA NA STANOWISKO:Główny_a Księgowy_a ...   \n\n  responsibilities requirements skills benefits  \\\n0             None         None   None     None   \n1             None         None   None     None   \n2             None         None   None     None   \n3             None         None   None     None   \n4             None         None   None     None   \n\n                                company  \\\n0              Rituals Cosmetics Polska   \n1                             inhire.io   \n2                                  JYSK   \n3  Agencja Pośrednictwa Pracy Servis HR   \n4                 Stowarzyszenie WIOSNA   \n\n                                description_criteria language  \\\n0  Seniority level Internship Employment type Int...       pl   \n1  Seniority level Mid-Senior level Employment ty...       pl   \n2  Seniority level Associate Employment type Full...       pl   \n3  Seniority level Entry level Employment type Fu...       pl   \n4  Seniority level Mid-Senior level Employment ty...       pl   \n\n                                      description_en  \\\n0  \"In the Wholesale section. \"As well as externa...   \n1  \"For our client 1Dea we are looking for a pers...   \n2  \"Description of the company's jobs. Are you re...   \n3  \"EURO WELT Employment Agency (KRAZ 12809) is a...   \n4  \"Recruitment for the position: Główny_A accoun...   \n\n                                   final_description  \n0  \"In the Wholesale section. \"As well as externa...  \n1  \"For our client 1Dea we are looking for a pers...  \n2  \"Description of the company's jobs. Are you re...  \n3  \"EURO WELT Employment Agency (KRAZ 12809) is a...  \n4  \"Recruitment for the position: Główny_A accoun...  ",
      "text/html": "<div>\n<style scoped>\n    .dataframe tbody tr th:only-of-type {\n        vertical-align: middle;\n    }\n\n    .dataframe tbody tr th {\n        vertical-align: top;\n    }\n\n    .dataframe thead th {\n        text-align: right;\n    }\n</style>\n<table border=\"1\" class=\"dataframe\">\n  <thead>\n    <tr style=\"text-align: right;\">\n      <th></th>\n      <th>id</th>\n      <th>job_id</th>\n      <th>title</th>\n      <th>location</th>\n      <th>salary</th>\n      <th>experience_level</th>\n      <th>job_type</th>\n      <th>employment_type</th>\n      <th>description</th>\n      <th>responsibilities</th>\n      <th>requirements</th>\n      <th>skills</th>\n      <th>benefits</th>\n      <th>company</th>\n      <th>description_criteria</th>\n      <th>language</th>\n      <th>description_en</th>\n      <th>final_description</th>\n    </tr>\n  </thead>\n  <tbody>\n    <tr>\n      <th>0</th>\n      <td>6538</td>\n      <td>4158196588</td>\n      <td>Rituals - Wholesale Intern (Warsaw)</td>\n      <td>Warsaw, Mazowieckie, Poland (On-site)</td>\n      <td>None</td>\n      <td>None</td>\n      <td>On-site</td>\n      <td>None</td>\n      <td>W dziale Wholesale &amp; Travel Retail dbamy o to,...</td>\n      <td>None</td>\n      <td>None</td>\n      <td>None</td>\n      <td>None</td>\n      <td>Rituals Cosmetics Polska</td>\n      <td>Seniority level Internship Employment type Int...</td>\n      <td>pl</td>\n      <td>\"In the Wholesale section. \"As well as externa...</td>\n      <td>\"In the Wholesale section. \"As well as externa...</td>\n    </tr>\n    <tr>\n      <th>1</th>\n      <td>348291</td>\n      <td>4188786744</td>\n      <td>Senior GenAI ML Engineer (Python / TensorFlow ...</td>\n      <td>Poland (Remote)</td>\n      <td>None</td>\n      <td>None</td>\n      <td>Remote</td>\n      <td>Full-time</td>\n      <td>Dla naszego klienta 1dea poszukujemy osoby na ...</td>\n      <td>None</td>\n      <td>None</td>\n      <td>None</td>\n      <td>None</td>\n      <td>inhire.io</td>\n      <td>Seniority level Mid-Senior level Employment ty...</td>\n      <td>pl</td>\n      <td>\"For our client 1Dea we are looking for a pers...</td>\n      <td>\"For our client 1Dea we are looking for a pers...</td>\n    </tr>\n    <tr>\n      <th>2</th>\n      <td>298352</td>\n      <td>4188003130</td>\n      <td>Opiekun Magazynu JYSK Szczecin Auchan Kołbasko...</td>\n      <td>Kołbaskowo, Zachodniopomorskie, Poland (On-site)</td>\n      <td>None</td>\n      <td>None</td>\n      <td>On-site</td>\n      <td>Full-time</td>\n      <td>Opis firmyOpis oferty pracy   Czy jesteś gotow...</td>\n      <td>None</td>\n      <td>None</td>\n      <td>None</td>\n      <td>None</td>\n      <td>JYSK</td>\n      <td>Seniority level Associate Employment type Full...</td>\n      <td>pl</td>\n      <td>\"Description of the company's jobs. Are you re...</td>\n      <td>\"Description of the company's jobs. Are you re...</td>\n    </tr>\n    <tr>\n      <th>3</th>\n      <td>298373</td>\n      <td>4188215321</td>\n      <td>Niemcy Ślusarz/ od 14E netto/h</td>\n      <td>Zagranica, Podkarpackie, Poland (On-site)</td>\n      <td>None</td>\n      <td>None</td>\n      <td>On-site</td>\n      <td>Full-time</td>\n      <td>Agencja Pracy EURO WELT (KRAZ 12809) to certyf...</td>\n      <td>None</td>\n      <td>None</td>\n      <td>None</td>\n      <td>None</td>\n      <td>Agencja Pośrednictwa Pracy Servis HR</td>\n      <td>Seniority level Entry level Employment type Fu...</td>\n      <td>pl</td>\n      <td>\"EURO WELT Employment Agency (KRAZ 12809) is a...</td>\n      <td>\"EURO WELT Employment Agency (KRAZ 12809) is a...</td>\n    </tr>\n    <tr>\n      <th>4</th>\n      <td>298409</td>\n      <td>4185293278</td>\n      <td>Główny Księgowy/Główna Księgowa</td>\n      <td>Cracow, Małopolskie, Poland (Hybrid)</td>\n      <td>None</td>\n      <td>None</td>\n      <td>Hybrid</td>\n      <td>Full-time</td>\n      <td>REKRUTACJA NA STANOWISKO:Główny_a Księgowy_a ...</td>\n      <td>None</td>\n      <td>None</td>\n      <td>None</td>\n      <td>None</td>\n      <td>Stowarzyszenie WIOSNA</td>\n      <td>Seniority level Mid-Senior level Employment ty...</td>\n      <td>pl</td>\n      <td>\"Recruitment for the position: Główny_A accoun...</td>\n      <td>\"Recruitment for the position: Główny_A accoun...</td>\n    </tr>\n  </tbody>\n</table>\n</div>"
     },
     "execution_count": 49,
     "metadata": {},
     "output_type": "execute_result"
    }
   ],
   "source": [
    "df[df[\"language\"]==\"pl\"].head(5)"
   ],
   "metadata": {
    "collapsed": false,
    "ExecuteTime": {
     "end_time": "2025-04-01T19:45:34.120196Z",
     "start_time": "2025-04-01T19:45:34.108356Z"
    }
   },
   "id": "21d6f1e50aa678bf",
   "execution_count": 49
  },
  {
   "cell_type": "code",
   "outputs": [
    {
     "name": "stdout",
     "output_type": "stream",
     "text": [
      "Number of jobs without both job_type and employment_type: 3\n"
     ]
    }
   ],
   "source": [
    "# Count how many jobs don't contain both job_type and employment_type\n",
    "missing_job_type_and_employment_type = df[df[\"job_type\"].isnull() & df[\"employment_type\"].isnull()]\n",
    "print(f\"Number of jobs without both job_type and employment_type: {len(missing_job_type_and_employment_type)}\")\n"
   ],
   "metadata": {
    "collapsed": false,
    "ExecuteTime": {
     "end_time": "2025-04-01T19:45:34.124995Z",
     "start_time": "2025-04-01T19:45:34.120862Z"
    }
   },
   "id": "e963e867aab5027d",
   "execution_count": 50
  },
  {
   "cell_type": "code",
   "outputs": [],
   "source": [
    "def clean_description(text):\n",
    "    text = text.replace('\"', '')\n",
    "    text = text.strip()\n",
    "    return text\n",
    "\n",
    "df[\"final_description\"] = df[\"final_description\"].apply(clean_description)"
   ],
   "metadata": {
    "collapsed": false,
    "ExecuteTime": {
     "end_time": "2025-04-01T19:45:34.211891Z",
     "start_time": "2025-04-01T19:45:34.125844Z"
    }
   },
   "id": "d449feb06e37d48f",
   "execution_count": 51
  },
  {
   "cell_type": "code",
   "outputs": [
    {
     "data": {
      "text/plain": "Index(['id', 'job_id', 'title', 'location', 'salary', 'experience_level',\n       'job_type', 'employment_type', 'responsibilities', 'requirements',\n       'skills', 'benefits', 'company', 'description_criteria', 'language',\n       'final_description'],\n      dtype='object')"
     },
     "execution_count": 52,
     "metadata": {},
     "output_type": "execute_result"
    }
   ],
   "source": [
    "df.drop(columns=[\"description\", \"description_en\"], inplace=True)\n",
    "df.columns"
   ],
   "metadata": {
    "collapsed": false,
    "ExecuteTime": {
     "end_time": "2025-04-01T19:45:34.225588Z",
     "start_time": "2025-04-01T19:45:34.212815Z"
    }
   },
   "id": "76039353264717d",
   "execution_count": 52
  },
  {
   "cell_type": "code",
   "outputs": [],
   "source": [],
   "metadata": {
    "collapsed": false,
    "ExecuteTime": {
     "end_time": "2025-04-01T19:45:34.228012Z",
     "start_time": "2025-04-01T19:45:34.226390Z"
    }
   },
   "id": "ba0fe34ba24f9e75",
   "execution_count": 52
  },
  {
   "cell_type": "code",
   "outputs": [],
   "source": [],
   "metadata": {
    "collapsed": false,
    "ExecuteTime": {
     "end_time": "2025-04-01T19:45:34.230326Z",
     "start_time": "2025-04-01T19:45:34.228737Z"
    }
   },
   "id": "8909ee05fa831c87",
   "execution_count": 52
  }
 ],
 "metadata": {
  "kernelspec": {
   "display_name": "Python 3",
   "language": "python",
   "name": "python3"
  },
  "language_info": {
   "codemirror_mode": {
    "name": "ipython",
    "version": 2
   },
   "file_extension": ".py",
   "mimetype": "text/x-python",
   "name": "python",
   "nbconvert_exporter": "python",
   "pygments_lexer": "ipython2",
   "version": "2.7.6"
  }
 },
 "nbformat": 4,
 "nbformat_minor": 5
}
